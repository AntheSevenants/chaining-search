{
 "cells": [
  {
   "cell_type": "markdown",
   "metadata": {},
   "source": [
    "## Prerequisites"
   ]
  },
  {
   "cell_type": "markdown",
   "metadata": {},
   "source": [
    " * Load corpus data"
   ]
  },
  {
   "cell_type": "code",
   "execution_count": null,
   "metadata": {
    "ExecuteTime": {
     "end_time": "2019-08-28T09:51:07.717422Z",
     "start_time": "2019-08-28T09:50:33.992408Z"
    }
   },
   "outputs": [],
   "source": [
    "import sys\n",
    "sys.path.append(\"..\")\n",
    "\n",
    "from collections import defaultdict\n",
    "from chaininglib.search.metadata import get_available_metadata\n",
    "from chaininglib.ui.dfui import display_df, save_dataframe\n",
    "from chaininglib.search.CorpusQuery import *\n",
    "\n",
    "\n",
    "corpus_name=\"zeebrieven\"\n",
    "query=r'[pos=\"NOU\"]'\n",
    "fields = get_available_metadata(corpus_name)\n",
    "chosen_fields = [\"witnessYear_from\", \"witnessYear_to\", \"afz_klasse\",\"afz_geslacht\"]\n",
    "c = create_corpus(corpus_name).pattern(query).extra_fields_doc(chosen_fields).search()\n",
    "df_corpus = c.kwic()\n",
    "\n",
    "save_dataframe(df_corpus, \"zeebrieven_case_study.csv\")\n",
    "\n",
    "\n",
    "\n",
    "\n"
   ]
  },
  {
   "cell_type": "markdown",
   "metadata": {},
   "source": [
    " * Compute frequencies"
   ]
  },
  {
   "cell_type": "code",
   "execution_count": null,
   "metadata": {
    "ExecuteTime": {
     "end_time": "2019-08-28T09:51:51.865725Z",
     "start_time": "2019-08-28T09:51:51.265570Z"
    }
   },
   "outputs": [],
   "source": [
    "from chaininglib.utils.dfops import df_filter\n",
    "from chaininglib.process.corpus import get_frequency_list\n",
    "from chaininglib.ui.dfui import load_dataframe\n",
    "import itertools\n",
    "\n",
    "df_corpus = load_dataframe(\"zeebrieven_case_study.csv\")\n",
    "\n",
    "df = {}\n",
    "df[\"17th\"]= df_corpus[df_corpus[\"witnessYear_from\"] < 1700] \n",
    "df[\"18th\"] = df_corpus[df_corpus[\"witnessYear_from\"] > 1700] \n",
    "\n",
    "eras = [\"17th\", \"18th\"]\n",
    "soc_classes = [\"low\",\"high\"]\n",
    "genders = [\"male\",\"female\"]\n",
    "\n",
    "# Then, filter Zeebrieven per sociolinguistic variable (social class/occupation)\n",
    "# Take only extremes: high and low. Remove middle-low and middle-high\n",
    "freq_list_aggr = defaultdict(lambda: dict())\n",
    "freq_list = defaultdict(lambda: defaultdict(lambda: dict()))\n",
    "for era, df_era in df.items():\n",
    "    for soc_class in soc_classes:\n",
    "        cond_era_class = df_filter(df_era[\"afz_klasse\"], pattern=soc_class)\n",
    "        df_era_class = df_era[ cond_era_class ]\n",
    "        freq_list_aggr[era][soc_class] = get_frequency_list(df_era_class)\n",
    "        for gender in genders:\n",
    "            cond_era_gender = df_filter(df_era[\"afz_geslacht\"], pattern=gender)\n",
    "            df_era_class_gender = df_era[cond_era_class & cond_era_gender ]\n",
    "            freq_list[era][soc_class][gender] = get_frequency_list(df_era_class_gender)\n",
    "\n",
    "from chaininglib.utils.dfops import get_relfreq_diff\n",
    "SHOW=20\n"
   ]
  },
  {
   "cell_type": "markdown",
   "metadata": {},
   "source": [
    "## Comparisons"
   ]
  },
  {
   "cell_type": "markdown",
   "metadata": {
    "ExecuteTime": {
     "end_time": "2019-08-26T12:59:15.844380Z",
     "start_time": "2019-08-26T12:59:15.840422Z"
    }
   },
   "source": [
    "### Class difference, era fixed"
   ]
  },
  {
   "cell_type": "code",
   "execution_count": null,
   "metadata": {
    "ExecuteTime": {
     "end_time": "2019-08-28T09:51:54.513584Z",
     "start_time": "2019-08-28T09:51:54.327951Z"
    }
   },
   "outputs": [],
   "source": [
    "df_relfreq_diff = {}\n",
    "\n",
    "for era in eras:\n",
    "    soc_class_pairs = itertools.combinations(soc_classes,2)\n",
    "    for soc_class1,soc_class2 in soc_class_pairs:\n",
    "        df_relfreq_diff = get_relfreq_diff(freq_list_aggr[era][soc_class1], freq_list_aggr[era][soc_class2], index=\"lemmas\", label1=soc_class1, label2=soc_class2 )\n",
    "        label_df1 = f\"Comparison {soc_class1} and {soc_class2} class in {era} century. Words specific for {soc_class1}.\"\n",
    "        display_df(df_relfreq_diff.sort_values(by=\"relfreq_diff\", ascending=False).head(SHOW), labels=label_df1)\n",
    "        label_df2 = f\"Comparison {soc_class1} and {soc_class2} class in {era} century. Words specific for {soc_class2}.\"\n",
    "        display_df(df_relfreq_diff.sort_values(by=\"relfreq_diff\", ascending=True).head(SHOW), labels=label_df2)\n",
    "        \n",
    "        d1 = df_relfreq_diff.sort_values(by=\"relfreq_diff\", ascending=False).head(SHOW)\n",
    "        d2 = df_relfreq_diff.sort_values(by=\"relfreq_diff\", ascending=True).head(SHOW)\n"
   ]
  },
  {
   "cell_type": "markdown",
   "metadata": {
    "ExecuteTime": {
     "end_time": "2019-08-26T13:17:40.002409Z",
     "start_time": "2019-08-26T13:17:39.997431Z"
    }
   },
   "source": [
    "### Class difference, era and gender fixed"
   ]
  },
  {
   "cell_type": "code",
   "execution_count": null,
   "metadata": {
    "ExecuteTime": {
     "end_time": "2019-08-28T09:51:59.775464Z",
     "start_time": "2019-08-28T09:51:59.455182Z"
    }
   },
   "outputs": [],
   "source": [
    "df_relfreq_diff = {}\n",
    "for era in eras:\n",
    "    for gender in genders:\n",
    "        soc_class_pairs = itertools.combinations(soc_classes,2)\n",
    "        for soc_class1,soc_class2 in soc_class_pairs:\n",
    "            df_relfreq_diff = get_relfreq_diff(freq_list[era][soc_class1][gender], freq_list[era][soc_class2][gender], index=\"lemmas\", label1=soc_class1, label2=soc_class2 )\n",
    "            label_df1 = f\"Comparison {soc_class1} and {soc_class2} class in {era} century with gender {gender}. Words specific for {soc_class1}.\"\n",
    "            display_df(df_relfreq_diff.sort_values(by=\"relfreq_diff\", ascending=False).head(SHOW), labels=label_df1)\n",
    "            label_df2 = f\"Comparison {soc_class1} and {soc_class2} class in {era} century with gender {gender}. Words specific for {soc_class2}.\"\n",
    "            display_df(df_relfreq_diff.sort_values(by=\"relfreq_diff\", ascending=True).head(SHOW), labels=label_df2)\n"
   ]
  },
  {
   "cell_type": "markdown",
   "metadata": {},
   "source": [
    "### Evolution, social class fixed"
   ]
  },
  {
   "cell_type": "code",
   "execution_count": null,
   "metadata": {
    "ExecuteTime": {
     "end_time": "2019-08-28T09:52:04.082745Z",
     "start_time": "2019-08-28T09:52:03.876352Z"
    }
   },
   "outputs": [],
   "source": [
    "df_relfreq_diff = {}\n",
    "for soc_class in soc_classes:\n",
    "    era_pairs = itertools.combinations(eras,2)\n",
    "    for era1, era2 in era_pairs:\n",
    "        df_relfreq_diff = get_relfreq_diff(freq_list_aggr[era1][soc_class], freq_list_aggr[era2][soc_class], index=\"lemmas\", label1=era1, label2=era2 )\n",
    "        label_df1 = f\"Comparison {era1} and {era2} century for class {soc_class}. Words specific for {era1} century.\"\n",
    "        display_df(df_relfreq_diff.sort_values(by=\"relfreq_diff\", ascending=False).head(SHOW), labels=label_df1)\n",
    "        label_df2 = f\"Comparison {era1} and {era2} century for class {soc_class}. Words specific for {era2} century.\"\n",
    "        display_df(df_relfreq_diff.sort_values(by=\"relfreq_diff\", ascending=True).head(SHOW), labels=label_df2)\n"
   ]
  },
  {
   "cell_type": "markdown",
   "metadata": {},
   "source": [
    "### Evolution, social class and gender fixed"
   ]
  },
  {
   "cell_type": "code",
   "execution_count": null,
   "metadata": {
    "ExecuteTime": {
     "end_time": "2019-08-28T09:52:06.790353Z",
     "start_time": "2019-08-28T09:52:06.457738Z"
    }
   },
   "outputs": [],
   "source": [
    "df_relfreq_diff = {}\n",
    "for gender in genders:\n",
    "    for soc_class in soc_classes:\n",
    "        era_pairs = itertools.combinations(eras,2)\n",
    "        for era1, era2 in era_pairs:\n",
    "            df_relfreq_diff = get_relfreq_diff(freq_list[era1][soc_class][gender], freq_list[era2][soc_class][gender], index=\"lemmas\", label1=era1, label2=era2 )\n",
    "            label_df1 = f\"Comparison {era1} and {era2} century for class {soc_class} and gender {gender}. Words specific for {era1}.\"\n",
    "            display_df(df_relfreq_diff.sort_values(by=\"relfreq_diff\", ascending=False).head(SHOW), labels=label_df1)\n",
    "            label_df2 = f\"Comparison {era1} and {era2} century for class {soc_class} and gender {gender}. Words specific for {era2}.\"\n",
    "            display_df(df_relfreq_diff.sort_values(by=\"relfreq_diff\", ascending=True).head(SHOW), labels=label_df2)\n",
    "\n",
    "            "
   ]
  },
  {
   "cell_type": "markdown",
   "metadata": {},
   "source": [
    "### Gender analysis, era and social class fixed"
   ]
  },
  {
   "cell_type": "code",
   "execution_count": null,
   "metadata": {
    "ExecuteTime": {
     "end_time": "2019-08-28T09:54:55.952937Z",
     "start_time": "2019-08-28T09:54:55.661561Z"
    }
   },
   "outputs": [],
   "source": [
    "df_relfreq_diff = {}\n",
    "for era in eras:\n",
    "    for soc_class in soc_classes:\n",
    "        gender_pairs = itertools.combinations(genders,2)\n",
    "        for gender1, gender2 in gender_pairs:\n",
    "            df_relfreq_diff = get_relfreq_diff(freq_list[era][soc_class][gender1], freq_list[era][soc_class][gender2], index=\"lemmas\", label1=gender1, label2=gender2 )\n",
    "            label_df1 = f\"Comparison {gender1} and {gender2} for {era} century and class {soc_class}. Words specific for {gender1}.\"\n",
    "            display_df(df_relfreq_diff.sort_values(by=\"relfreq_diff\", ascending=False).head(SHOW), labels=label_df1)\n",
    "            label_df2 = f\"Comparison {gender1} and {gender2} for {era} century and class {soc_class}. Words specific for {gender2}.\"\n",
    "            display_df(df_relfreq_diff.sort_values(by=\"relfreq_diff\", ascending=True).head(SHOW), labels=label_df2)\n"
   ]
  },
  {
   "cell_type": "code",
   "execution_count": null,
   "metadata": {},
   "outputs": [],
   "source": []
  }
 ],
 "metadata": {
  "kernelspec": {
   "display_name": "env",
   "language": "python",
   "name": "env"
  },
  "language_info": {
   "codemirror_mode": {
    "name": "ipython",
    "version": 3
   },
   "file_extension": ".py",
   "mimetype": "text/x-python",
   "name": "python",
   "nbconvert_exporter": "python",
   "pygments_lexer": "ipython3",
   "version": "3.6.3"
  }
 },
 "nbformat": 4,
 "nbformat_minor": 2
}
