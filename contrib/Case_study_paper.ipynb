{
 "cells": [
  {
   "cell_type": "code",
   "execution_count": null,
   "metadata": {
    "ExecuteTime": {
     "end_time": "2019-04-23T13:35:56.830237Z",
     "start_time": "2019-04-23T13:35:47.260033Z"
    }
   },
   "outputs": [],
   "source": [
    "import sys\n",
    "sys.path.append(\"..\")\n",
    "\n",
    "from chaininglib.search.metadata import get_available_metadata\n",
    "from chaininglib.utils.dfops import df_filter, property_freq\n",
    "from chaininglib.ui.dfui import display_df\n",
    "from chaininglib.search.CorpusQuery import *\n",
    "\n",
    "\n",
    "corpus_name=\"zeebrieven\"\n",
    "query=r'[lemma=\"b.*\"]'\n",
    "\n",
    "# Filter Zeebrieven per age (before and after 1700)\n",
    "fields = get_available_metadata(corpus_name)\n",
    "c = create_corpus(corpus_name).pattern(query).extra_fields_doc(fields[\"document\"]).search()\n",
    "df_corpus = c.kwic()\n",
    "df_17th_century = df_corpus[df_corpus[\"witnessYear_from\"].astype('int32') < 1700] \n",
    "display_df(df_17th_century, labels=\"17th century\")\n",
    "df_18th_century = df_corpus[df_corpus[\"witnessYear_from\"].astype('int32') > 1700] \n",
    "display_df(df_18th_century, labels=\"18th century\")\n",
    "\n",
    "# Then, filter Zeebrieven per sociolinguistic variable (social class/occupation)\n",
    "# Take only extremes: high and low. Remove middle-low and middle-high\n",
    "for soc_class in [\"low\", \"high\"]:\n",
    "    for age, df_age in [(\"17th\",df_17th_century), (\"18th\",df_18th_century)]:\n",
    "        cond = df_filter(df_age[\"afz_klasse\"], pattern=soc_class)\n",
    "        df_class = df_age[ cond ]\n",
    "        display_df(df_class, labels=\"Class: %s. Age: %s\" % (soc_class, age))\n",
    "\n",
    "# TODO: Create lexicon per sociolinguistic variable, and create lexicon for full Zeebrieven\n",
    "# TODO: Compare lexica to MNW\n"
   ]
  },
  {
   "cell_type": "code",
   "execution_count": null,
   "metadata": {},
   "outputs": [],
   "source": []
  }
 ],
 "metadata": {
  "kernelspec": {
   "display_name": "env",
   "language": "python",
   "name": "env"
  },
  "language_info": {
   "codemirror_mode": {
    "name": "ipython",
    "version": 3
   },
   "file_extension": ".py",
   "mimetype": "text/x-python",
   "name": "python",
   "nbconvert_exporter": "python",
   "pygments_lexer": "ipython3",
   "version": "3.6.7"
  }
 },
 "nbformat": 4,
 "nbformat_minor": 2
}
