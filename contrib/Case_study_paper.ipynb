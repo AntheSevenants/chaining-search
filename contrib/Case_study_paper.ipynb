{
 "cells": [
  {
   "cell_type": "markdown",
   "metadata": {},
   "source": [
    "## Prerequisites"
   ]
  },
  {
   "cell_type": "code",
   "execution_count": null,
   "metadata": {
    "ExecuteTime": {
     "end_time": "2019-08-22T16:42:25.326958Z",
     "start_time": "2019-08-22T16:42:21.783689Z"
    }
   },
   "outputs": [],
   "source": [
    "import sys\n",
    "sys.path.append(\"..\")\n",
    "\n",
    "from collections import defaultdict\n",
    "from chaininglib.search.metadata import get_available_metadata\n",
    "from chaininglib.utils.dfops import df_filter, property_freq\n",
    "from chaininglib.ui.dfui import display_df\n",
    "from chaininglib.search.CorpusQuery import *\n",
    "from chaininglib.process.corpus import get_frequency_list\n",
    "from chaininglib.utils.dfops import join_df\n",
    "\n",
    "\n",
    "# TODO: query all lemmas (not just b), maybe only NOU to keep it lighter\n",
    "corpus_name=\"zeebrieven\"\n",
    "query=r'[pos=\"NOU\"]'\n",
    "fields = get_available_metadata(corpus_name)\n",
    "c = create_corpus(corpus_name).pattern(query).extra_fields_doc(fields[\"document\"]).search()\n",
    "df_corpus = c.kwic()\n",
    "\n",
    "\n",
    "\n",
    "df = {}\n",
    "df[\"17th\"]= df_corpus[df_corpus[\"witnessYear_from\"] < 1700] \n",
    "df[\"18th\"] = df_corpus[df_corpus[\"witnessYear_from\"] > 1700] \n",
    "\n",
    "# Then, filter Zeebrieven per sociolinguistic variable (social class/occupation)\n",
    "# Take only extremes: high and low. Remove middle-low and middle-high\n",
    "freq_list = defaultdict(lambda: dict())\n",
    "for era, df_era in df.items():\n",
    "    for soc_class in [\"low\", \"high\"]:\n",
    "        cond = df_filter(df_era[\"afz_klasse\"], pattern=soc_class)\n",
    "        df_era_class = df_era[ cond ]\n",
    "        freq_list[era][soc_class] = get_frequency_list(df_era_class)\n",
    "\n",
    "from chaininglib.utils.dfops import get_relfreq_diff\n",
    "SHOW=100\n",
    "df_relfreq_diff = {}\n",
    "df_relfreq_diff[\"class_diff_17th\"] = get_relfreq_diff(freq_list[\"17th\"][\"low\"], freq_list[\"17th\"][\"high\"], index=\"lemmas\", label1=\"lower class\", label2=\"upper class\" )\n",
    "df_relfreq_diff[\"class_diff_18th\"] = get_relfreq_diff(freq_list[\"18th\"][\"low\"], freq_list[\"18th\"][\"high\"], index=\"lemmas\", label1=\"lower class\", label2=\"upper class\")\n",
    "df_relfreq_diff[\"low_class_evolution\"] = get_relfreq_diff(freq_list[\"17th\"][\"low\"], freq_list[\"18th\"][\"low\"], index=\"lemmas\", label1=\"17th century\", label2=\"18th century\")\n",
    "df_relfreq_diff[\"high_class_evolution\"] = get_relfreq_diff(freq_list[\"17th\"][\"high\"], freq_list[\"18th\"][\"high\"], index=\"lemmas\",label1=\"17th century\", label2=\"18th century\" )\n",
    "\n",
    "display_df(df_relfreq_diff[\"class_diff_17th\"].sort_values(by=\"relfreq_diff\", ascending=False).head(SHOW), labels=\"Salient lower class words 17th century\")\n",
    "display_df(df_relfreq_diff[\"class_diff_17th\"].sort_values(by=\"relfreq_diff\", ascending=True).head(SHOW), labels=\"Salient upper class words 17th century\")\n",
    "\n",
    "display_df(df_relfreq_diff[\"class_diff_18th\"].sort_values(by=\"relfreq_diff\", ascending=False).head(SHOW), labels=\"Salient lower class words 18th century\")\n",
    "display_df(df_relfreq_diff[\"class_diff_18th\"].sort_values(by=\"relfreq_diff\", ascending=True).head(SHOW), labels=\"Salient upper class words 18th century\")\n",
    "\n",
    "\n",
    "display_df(df_relfreq_diff[\"low_class_evolution\"].sort_values(by=\"relfreq_diff\", ascending=False).head(SHOW), labels=\"Specific 17th century words lower class\")\n",
    "display_df(df_relfreq_diff[\"low_class_evolution\"].sort_values(by=\"relfreq_diff\", ascending=True).head(SHOW), labels=\"Specific 18th century words lower class\")\n",
    "\n",
    "\n",
    "display_df(df_relfreq_diff[\"high_class_evolution\"].sort_values(by=\"relfreq_diff\", ascending=False).head(SHOW), labels=\"Specific 17th century words upper class\")\n",
    "display_df(df_relfreq_diff[\"high_class_evolution\"].sort_values(by=\"relfreq_diff\", ascending=True).head(SHOW), labels=\"Specific 18th century words upper class\")\n",
    "\n",
    "\n"
   ]
  },
  {
   "cell_type": "markdown",
   "metadata": {
    "ExecuteTime": {
     "end_time": "2019-08-20T15:11:20.924621Z",
     "start_time": "2019-08-20T15:11:20.913506Z"
    }
   },
   "source": [
    "## Task 1: compare social class and period"
   ]
  },
  {
   "cell_type": "markdown",
   "metadata": {},
   "source": [
    " * Load data and get frequency"
   ]
  },
  {
   "cell_type": "code",
   "execution_count": null,
   "metadata": {
    "ExecuteTime": {
     "end_time": "2019-08-22T15:44:50.540246Z",
     "start_time": "2019-08-22T15:44:50.442668Z"
    }
   },
   "outputs": [],
   "source": []
  },
  {
   "cell_type": "markdown",
   "metadata": {},
   "source": [
    " * Perform comparisons"
   ]
  },
  {
   "cell_type": "code",
   "execution_count": null,
   "metadata": {
    "ExecuteTime": {
     "end_time": "2019-08-22T12:39:46.189116Z",
     "start_time": "2019-08-22T12:39:46.013730Z"
    }
   },
   "outputs": [],
   "source": [
    "\n",
    "\n"
   ]
  }
 ],
 "metadata": {
  "kernelspec": {
   "display_name": "env",
   "language": "python",
   "name": "env"
  },
  "language_info": {
   "codemirror_mode": {
    "name": "ipython",
    "version": 3
   },
   "file_extension": ".py",
   "mimetype": "text/x-python",
   "name": "python",
   "nbconvert_exporter": "python",
   "pygments_lexer": "ipython3",
   "version": "3.6.8"
  }
 },
 "nbformat": 4,
 "nbformat_minor": 2
}
