{
 "cells": [
  {
   "cell_type": "markdown",
   "metadata": {},
   "source": [
    "# Chaining search\n",
    "\n",
    "\n",
    "\n",
    "## Sphinx documentatie: https://pythonhosted.org/an_example_pypi_project/sphinx.html\n",
    "## in voorbeelden handige python functies opnemen\n",
    "## zoals ; .sort_values(ascending=False,by=['raw_freq']));  list enz\n"
   ]
  },
  {
   "cell_type": "markdown",
   "metadata": {},
   "source": [
    "## Corpus search"
   ]
  },
  {
   "cell_type": "markdown",
   "metadata": {},
   "source": [
    "* Run the cell below to show the UI, and fill in your search query"
   ]
  },
  {
   "cell_type": "code",
   "execution_count": null,
   "metadata": {
    "ExecuteTime": {
     "end_time": "2019-02-25T11:59:13.592060Z",
     "start_time": "2019-02-25T11:59:13.363291Z"
    }
   },
   "outputs": [],
   "source": [
    "from chaininglib.ui.search import create_corpus_ui\n",
    "\n",
    "# Create corpus UI, creates references to field contents\n",
    "corpusQueryField, corpusField = create_corpus_ui()"
   ]
  },
  {
   "cell_type": "markdown",
   "metadata": {},
   "source": [
    " * Click the cell below and press Run to perform the given query"
   ]
  },
  {
   "cell_type": "code",
   "execution_count": null,
   "metadata": {
    "ExecuteTime": {
     "end_time": "2019-02-25T12:00:20.829809Z",
     "start_time": "2019-02-25T11:59:14.707286Z"
    },
    "scrolled": false
   },
   "outputs": [],
   "source": [
    "from chaininglib.search.CorpusQuery import *\n",
    "from chaininglib.ui.dfui import display_df\n",
    "\n",
    "#from chaininglib import search\n",
    "query= corpusQueryField.value\n",
    "corpus_name = corpusField.value\n",
    "df_corpus = create_corpus(corpus_name).pattern(query).method(\"blacklab\").search().kwic()\n",
    "#df_corpus = load_dataframe('mijn_resultaten.csv')\n",
    "display_df(df_corpus, labels=\"Results\")\n",
    "\n"
   ]
  },
  {
   "cell_type": "markdown",
   "metadata": {},
   "source": [
    "## Lexicon search"
   ]
  },
  {
   "cell_type": "markdown",
   "metadata": {},
   "source": [
    "* Run the cell below to show the UI, and fill in your search query in the UI"
   ]
  },
  {
   "cell_type": "code",
   "execution_count": null,
   "metadata": {
    "ExecuteTime": {
     "end_time": "2019-02-25T11:43:37.743503Z",
     "start_time": "2019-02-25T11:43:37.503015Z"
    },
    "scrolled": true
   },
   "outputs": [],
   "source": [
    "from chaininglib.ui.search import create_lexicon_ui\n",
    "\n",
    "#from chaininglib import ui\n",
    "searchWordField, lexiconField = create_lexicon_ui()"
   ]
  },
  {
   "cell_type": "markdown",
   "metadata": {},
   "source": [
    " * Click the cell below and press Run to perform the given query"
   ]
  },
  {
   "cell_type": "code",
   "execution_count": null,
   "metadata": {
    "ExecuteTime": {
     "end_time": "2019-02-25T10:12:22.067459Z",
     "start_time": "2019-02-25T10:12:21.492817Z"
    }
   },
   "outputs": [],
   "source": [
    "from chaininglib.search.LexiconQuery import *\n",
    "from chaininglib.ui.dfui import display_df\n",
    "\n",
    "search_word = searchWordField.value\n",
    "lexicon_name = lexiconField.value\n",
    "# USER: can replace this by own custom query\n",
    "lex = create_lexicon(lexicon_name).lemma(search_word).search()\n",
    "df_lexicon = lex.kwic()\n",
    "display_df(df_lexicon)\n",
    "#df_columns_list = list(df_lexicon.columns.values)\n",
    "#df_lexicon_in_columns = df_lexicon[df_columns_list]\n",
    "#display(df_lexicon_in_columns)"
   ]
  },
  {
   "cell_type": "markdown",
   "metadata": {},
   "source": [
    "## Case study 1 (parallel): Frequency of *puur*+verb and *zuiver*+verb compared\n",
    "* Below cell searches for *puur*+verb and for *zuiver*+verb in the CHN corpus\n",
    "* Compare frequencies"
   ]
  },
  {
   "cell_type": "code",
   "execution_count": null,
   "metadata": {
    "ExecuteTime": {
     "end_time": "2019-02-25T10:13:00.705707Z",
     "start_time": "2019-02-25T10:13:00.022712Z"
    }
   },
   "outputs": [],
   "source": [
    "#from chaininglib import search\n",
    "from IPython.core.display import display, HTML\n",
    "from chaininglib.search.CorpusQuery import *\n",
    "from chaininglib.ui.dfui import display_df\n",
    "from chaininglib.utils.dfops import column_difference\n",
    "\n",
    "# Word 1: puur\n",
    "word1= \"puur\"\n",
    "cq1 = create_corpus(\"chn\").pattern(r'[word=\"' + word1 + r'\"][pos=\"verb\"]')\n",
    "df_corpus1 = cq1.search().kwic()\n",
    "display_df(df_corpus1, word1)\n",
    "\n",
    "# Word 2: zuiver\n",
    "word2 = \"zuiver\"\n",
    "cq2 = create_corpus(\"chn\").pattern(r'[word=\"' + word2 + r'\"][pos=\"verb\"]')\n",
    "df_corpus2 = cq2.search().kwic()\n",
    "display_df(df_corpus2, word2)\n",
    "\n",
    "# Compute difference\n",
    "diff_left, diff_right, intersec = column_difference(df_corpus1[\"word 1\"], df_corpus2[\"word 1\"])\n",
    "# Elements of 1 that are not in 2\n",
    "display(HTML('Werkwoorden voor <b>' + word1 + '</b> niet in <b>' + word2 + '</b>: ' + \", \".join(diff_left)))\n",
    "# Elements of 2 that are not in 1\n",
    "display(HTML('Werkwoorden voor <b>' + word1 + '</b> niet in <b>' + word2 + '</b>: ' + \", \".join(diff_right)))\n",
    "# Elements both in 1 and 2\n",
    "display(HTML('Werkwoorden zowel voor <b>' + word1 + '</b> als voor <b>' + word2 + '</b>: ' + \", \".join(intersec)))"
   ]
  },
  {
   "cell_type": "markdown",
   "metadata": {},
   "source": [
    "## Case study 2 (sequential): Retrieve synonyms from DiaMaNT, look up in Gysseling\n",
    "* Below cell searches for term \"boek\" in DiaMaNT, and looks up all variants in Gysseling"
   ]
  },
  {
   "cell_type": "code",
   "execution_count": null,
   "metadata": {
    "ExecuteTime": {
     "end_time": "2019-02-25T15:34:15.256367Z",
     "start_time": "2019-02-25T15:34:05.142264Z"
    }
   },
   "outputs": [],
   "source": [
    "from chaininglib.search.CorpusQuery import *\n",
    "from chaininglib.search.LexiconQuery import *\n",
    "from IPython.core.display import display, HTML\n",
    "from chaininglib.search.corpusQueries import corpus_query\n",
    "from chaininglib.process.lexicon import get_diamant_synonyms\n",
    "from chaininglib.ui.dfui import display_df\n",
    "\n",
    "search_word = \"boek\"\n",
    "lexicon_name = \"diamant\"\n",
    "corpus= \"gysseling\"\n",
    "\n",
    "# First, lookup synonyms in DiaMaNT\n",
    "lq = create_lexicon(lexicon_name).lemma(search_word).search()\n",
    "df_lexicon = lq.kwic()\n",
    "syns = get_diamant_synonyms(df_lexicon)\n",
    "syns.add(search_word) # Also add search word itself\n",
    "display(HTML('Synoniemen voor <b>' + search_word + '</b>: ' + \", \".join(syns)))\n",
    "\n",
    "# Search for all synonyms in corpus\n",
    "## Create queries: search by lemma\n",
    "syns_queries = [corpus_query(lemma=syn) for syn in syns]\n",
    "## Search for all synonyms in corpus\n",
    "cq = create_corpus(corpus).pattern(syns_queries)\n",
    "df = cq.search().kwic()\n",
    "display_df(df)\n",
    "\n"
   ]
  },
  {
   "cell_type": "markdown",
   "metadata": {},
   "source": [
    "## Case study 3: Build a frequency list of the lemma of some corpus output"
   ]
  },
  {
   "cell_type": "code",
   "execution_count": null,
   "metadata": {
    "ExecuteTime": {
     "end_time": "2019-02-25T15:34:51.995094Z",
     "start_time": "2019-02-25T15:34:51.344159Z"
    }
   },
   "outputs": [],
   "source": [
    "from chaininglib.search.CorpusQuery import *\n",
    "from chaininglib.process.corpus import *\n",
    "from chaininglib.ui.dfui import *\n",
    "\n",
    "# do some corpus search\n",
    "\n",
    "corpus_to_search=\"chn\"\n",
    "df_corpus = create_corpus(corpus_to_search).detailed_context(True).pos(\"NOUN\").search().kwic()\n",
    "display_df(df_corpus)\n",
    "\n",
    "# compute and display a table of the frequencies of the lemmata\n",
    "\n",
    "freq_df = get_frequency_list(df_corpus)\n",
    "display_df(freq_df)"
   ]
  },
  {
   "cell_type": "markdown",
   "metadata": {
    "ExecuteTime": {
     "end_time": "2019-01-16T15:46:20.519833Z",
     "start_time": "2019-01-16T15:46:20.516208Z"
    }
   },
   "source": [
    "## Case study (sequential) 4: Find occurences of attributive adjectives not ending with -e, even though they are preceeded by a definite article"
   ]
  },
  {
   "cell_type": "code",
   "execution_count": null,
   "metadata": {
    "ExecuteTime": {
     "end_time": "2019-02-25T15:34:04.472634Z",
     "start_time": "2019-02-25T15:33:44.731544Z"
    }
   },
   "outputs": [],
   "source": [
    "from chaininglib.search.CorpusQuery import *\n",
    "from chaininglib.search.LexiconQuery import *\n",
    "from chaininglib.utils.dfops import df_filter\n",
    "from chaininglib.ui.dfui import display_df\n",
    "\n",
    "corpus_to_search=\"opensonar\"\n",
    "lexicon_to_search=\"molex\"\n",
    "\n",
    "# CORPUS: get [article + attributive adjective + nouns] combinations in which the adjective does not end with -e\n",
    "print('Get occurences of attributive adjectives not ending with -e')\n",
    "cq = create_corpus(corpus_to_search).pattern(r'[lemma=\"de|het\"][word=\"^g(.+)[^e]$\" & pos=\"ADJ\"][pos=\"NOUN\"]')\n",
    "df_corpus = cq.search().kwic()\n",
    "\n",
    "# LEXICON: get adjectives the lemma of which does not end with -e\n",
    "lq = create_lexicon(lexicon_to_search).lemma('^g(.+)[^e]$').pos('ADJ').search()\n",
    "df_lexicon = lq.search().kwic()\n",
    "\n",
    "# LEXICON: get adjectives having a final -e in definite attributive use\n",
    "print('Filtering lexicon results')\n",
    "final_e_condition = df_filter(df_lexicon[\"wordform\"], 'e$')\n",
    "df_lexicon_form_e = df_lexicon[ final_e_condition ]\n",
    "\n",
    "# RESULT: get the records out of our first list in which the -e-less-adjectives match the lemma form of our last list\n",
    "print('List of attributive adjectives not ending with -e even though they should have a final -e:')\n",
    "e_forms = list(df_lexicon_form_e.lemma)\n",
    "no_final_e_condition = df_filter(df_corpus[\"word 1\"], query=set(e_forms), method=\"isin\")\n",
    "result_df = df_corpus[ no_final_e_condition ]\n",
    "display_df( result_df )"
   ]
  },
  {
   "cell_type": "markdown",
   "metadata": {},
   "source": [
    "## Case study (sequential) 5: (morphosyntactic lexicon and possibly unannotated corpus) Look up inflected forms and spelling variants for a given lemma in a corpus"
   ]
  },
  {
   "cell_type": "code",
   "execution_count": null,
   "metadata": {
    "ExecuteTime": {
     "end_time": "2019-02-25T15:35:01.750346Z",
     "start_time": "2019-02-25T15:35:01.203636Z"
    }
   },
   "outputs": [],
   "source": [
    "from chaininglib.ui.dfui import display_df\n",
    "from chaininglib.search.CorpusQuery import *\n",
    "from chaininglib.search.LexiconQuery import *\n",
    "\n",
    "lexicon_to_search=\"molex\"\n",
    "corpus_to_search=\"chn\"\n",
    "\n",
    "##############################################\n",
    "# TODO  zelfde met meerdere lemmata en gegroepeerd \n",
    "##############################################\n",
    "\n",
    "lemma_to_look_for=\"denken\"\n",
    "\n",
    "# LEXICON: Search for the inflected forms of a lemma in a morphosyntactic lexicon\n",
    "lq = create_lexicon(lexicon_to_search).lemma(lemma_to_look_for).search()\n",
    "df_lexicon = lq.kwic()\n",
    "display_df(df_lexicon)\n",
    "\n",
    "# Put all inflected forms into a list\n",
    "inflected_wordforms = list(df_lexicon.wordform)\n",
    "\n",
    "# CORPUS: Look up the inflected forms in a (possibly unannotated) corpus\n",
    "# beware: If the corpus is not annotated, all we can do is searching for the inflected words\n",
    "#         But if the corpus is lemmatized, we have to make sure we're retrieving correct data by specifying the lemma as well\n",
    "annotated_corpus = True\n",
    "query = r'[lemma=\"'+lemma_to_look_for+r'\" & word=\"'+r\"|\".join(inflected_wordforms)+r'\"]' if annotated_corpus else r'[word=\"'+r\"|\".join(inflected_wordforms)+r'\"]'\n",
    "cq = create_corpus(corpus_to_search).pattern(query).search()\n",
    "df_corpus = cq.kwic() \n",
    "display_df(df_corpus)"
   ]
  },
  {
   "cell_type": "markdown",
   "metadata": {},
   "source": [
    "## Case study 6:\n",
    "## Build a function with which we can gather all lemmata \n",
    "## of a lexicon with a given part-of-speech,\n",
    "## and use that function to build a frequecy list of those lemmata in a corpus"
   ]
  },
  {
   "cell_type": "code",
   "execution_count": null,
   "metadata": {
    "ExecuteTime": {
     "end_time": "2019-02-25T16:03:20.911365Z",
     "start_time": "2019-02-25T16:03:17.959682Z"
    }
   },
   "outputs": [],
   "source": [
    "from chaininglib.search.LexiconQuery import *\n",
    "from chaininglib.search.CorpusQuery import *\n",
    "from chaininglib.process.corpus import get_frequency_list\n",
    "from chaininglib.ui.dfui import display_df\n",
    "import numpy as np\n",
    "\n",
    "\n",
    "# build a function as required. We will run it afterwards\n",
    "\n",
    "def get_frequency_list_given_a_corpus(lexicon, pos, corpus):\n",
    "    \n",
    "    # LEXICON: get a lemmata list to work with\n",
    "\n",
    "    # query the lexicon\n",
    "    lq = create_lexicon(lexicon).pos(pos).search()\n",
    "    df_lexicon = lq.kwic()\n",
    "\n",
    "    # Put the results into an array, so we can loop through the found lemmata\n",
    "    lexicon_lemmata_arr = [w.lower() for w in df_lexicon[\"writtenForm\"]]\n",
    "\n",
    "    # Instantiate a DataFrame, in which we will gather all single lemmata occurences\n",
    "    df_full_list = pd.DataFrame()\n",
    "\n",
    "\n",
    "    # CORPUS: loop through the lemmata list, query the corpus with each lemma, and count the results\n",
    "\n",
    "    # It's a good idea to query more than one lemma at at the time,\n",
    "    # but not too many, otherwise the server will get overloaded!\n",
    "    nr_of_lemmata_to_query_atonce = 100\n",
    "\n",
    "    # loop over lemmata list \n",
    "    for i in range(0, len(lexicon_lemmata_arr), nr_of_lemmata_to_query_atonce):\n",
    "        \n",
    "        # slice to small array of lemmata to query at once\n",
    "        small_lemmata_arr = lexicon_lemmata_arr[i : i+nr_of_lemmata_to_query_atonce] \n",
    "\n",
    "        # join set of lemmata to send them in a query all at once\n",
    "        # beware: single quotes need escaping\n",
    "        lemmata_list = \"|\".join(small_lemmata_arr).replace(\"'\", \"\\\\\\\\'\")\n",
    "        cq = create_corpus(corpus).pattern(r'[lemma=\"' + lemmata_list + r'\"]').search()\n",
    "        df_corpus = cq.kwic()\n",
    "\n",
    "        # add the results to the full list\n",
    "        df_full_list = pd.concat( [df_full_list, df_corpus[\"lemma 0\"]] )     \n",
    "        \n",
    "\n",
    "    # make sure the columnswith contains the lemmata is called 'lemma', as it is required by the get_frequency_list function\n",
    "    df_full_list.columns = ['lemma']\n",
    "\n",
    "    # we're done with querying, build the frequency list now\n",
    "    freq_df = get_frequency_list(df_full_list)\n",
    "\n",
    "    return freq_df\n",
    "\n",
    "    \n",
    "# run it!\n",
    "\n",
    "lexicon=\"molex\"\n",
    "corpus_to_search=\"chn\"\n",
    "pos=\"CONJ\"\n",
    "\n",
    "freq_df = get_frequency_list_given_a_corpus(lexicon, pos, corpus_to_search)\n",
    "\n",
    "display_df(freq_df)"
   ]
  },
  {
   "cell_type": "markdown",
   "metadata": {},
   "source": [
    "## Case study 7: Build a frequency table of some corpus, based on lemma list of a given lexicon"
   ]
  },
  {
   "cell_type": "code",
   "execution_count": null,
   "metadata": {
    "ExecuteTime": {
     "end_time": "2019-02-25T16:08:34.136130Z",
     "start_time": "2019-02-25T16:03:24.300373Z"
    }
   },
   "outputs": [],
   "source": [
    "from chaininglib.utils.dfops import get_rank_diff\n",
    "from chaininglib.ui.dfui import display_df\n",
    "\n",
    "# For this case study, we need to run the previous case study first, because it generates a function we need here\n",
    "\n",
    "base_lexicon=\"molex\"\n",
    "corpus_to_search1=\"opensonar\"\n",
    "corpus_to_search2=\"chn\"\n",
    "\n",
    "# build frequency tables of two corpora\n",
    "\n",
    "df_frequency_list1 = get_frequency_list_given_a_corpus(base_lexicon, \"NOUN\", corpus_to_search1)\n",
    "# sort and display\n",
    "df_top25_descending = df_frequency_list1.sort_values(ascending=False,by=['token count']).head(25)\n",
    "df_top25_ascending =  df_frequency_list1.sort_values(ascending=True, by=['rank']).head(25)\n",
    "display_df( df_top25_ascending )\n",
    "print(type(df_top25_descending['token count']))\n",
    "display_df( df_top25_descending['token count'], labels='chart df1', mode='chart' )\n",
    "\n",
    "df_frequency_list2 = get_frequency_list_given_a_corpus(base_lexicon, \"NOUN\", corpus_to_search2)\n",
    "# sort and display\n",
    "df_top25_descending = df_frequency_list2.sort_values(ascending=False,by=['token count']).head(25)\n",
    "df_top25_ascending =  df_frequency_list2.sort_values(ascending=True, by=['rank']).head(25)\n",
    "display_df( df_top25_ascending )\n",
    "display_df( df_top25_descending['token count'], labels='chart df2', mode='chart' )\n",
    "\n",
    "\n",
    "# TODO: lemmata tonen die in 1 of 2 ontbreken\n",
    "\n",
    "# compute the rank diff of lemmata in frequency tables\n",
    "\n",
    "# sort and display\n",
    "df_rankdiffs = get_rank_diff(df_frequency_list1, df_frequency_list2)\n",
    "\n",
    "display_df(df_rankdiffs.sort_values(by=['rank_diff']).head(25))\n",
    "\n",
    "df_top25_descending = df_rankdiffs.sort_values(ascending=False, by=['rank_diff']).head(25)\n",
    "display_df( df_top25_descending['rank_diff'], labels='chart large diff', mode='chart' )\n",
    "\n",
    "df_top25_ascending = df_rankdiffs.sort_values(ascending=True, by=['rank_diff']).head(25)\n",
    "display_df( df_top25_ascending['rank_diff'], labels='chart small diff', mode='chart' )"
   ]
  },
  {
   "cell_type": "markdown",
   "metadata": {},
   "source": [
    "## Case study 8: search in a corpus for wordforms of a lemma, which are not included in this lemma's paramadigm in a lexicon"
   ]
  },
  {
   "cell_type": "code",
   "execution_count": 1,
   "metadata": {
    "ExecuteTime": {
     "end_time": "2019-02-25T16:11:01.271305Z",
     "start_time": "2019-02-25T16:10:48.806833Z"
    }
   },
   "outputs": [
    {
     "name": "stdout",
     "output_type": "stream",
     "text": [
      "Finding missing wordforms in a lexicon can take a long time...\n",
      "\u001b[Fno viable alternative at input '[lemma=\"3d-printen|4d-printen|bbq\\\\'en|bmx\\\\'en|rt\\\\'en|twittervasten|aaien|aanaarden|aanbakken|aanbelanden|aanbelangen|aanbellen|aanbenen|aanbesteden|aanbetalen|aanbevelen|aanbidden|aanbieden|aanbijten|aanbinden|aanblaffen|aanblazen|aanblijven|aanblikken|aanboren|aanbouwen|aanbraden|aanbranden|aanbreien|aanbreken|aanbrengen|aandammen|aandampen|aandienen|aandijken|aandikken|aandoen|aandraaien|aandragen|aandraven|aandrijven|aandringen|aandrukken|aanduiden|aandurven|aanduwen|aandweilen|aaneenflansen|aaneengrenzen|aaneengroeien|aaneenhangen|aaneenknopen|aaneenpraten|aaneenrijgen|aaneenschakelen|aaneenschrijven|aaneensluiten|aaneensmeden|aanerven|aanfietsen|aanflitsen|aanfloepen|aanfruiten|aangaan|aangalopperen|aangapen|aangespen|aangeven|aangieten|aangloeien|aangooien|aangorden|aangrijnzen|aangrijpen|aangroeien|aanhaken|aanhalen|aanhangen|aanharken|aanhebben|aanhechten|aanheffen|aanhelen|aanhikken|aanhinken|aanhitsen|aanhobbelen|aanhoesten|aanhollen|aanhoren|aanhouden|aanhuppelen|aanjagen|aankaarten|aankakken|aankijken|aanklagen|aanklampen|aankleden|aanklemmen\"pos'; Query could not be parsed.\n",
      "\u001b[Fno viable alternative at input '[lemma=\"aankleuren|aankleuteren|aankleven|aanklikken|aanklooien|aankloppen|aanklotsen|aanknippen|aanknopen|aankoeken|aankoersen|aankomen|aankondigen|aankopen|aankoppelen|aankrijgen|aankruipen|aankruisen|aankunnen|aankweken|aanlachen|aanladen|aanlanden|aanlappen|aanlassen|aanleggen|aanleiden|aanlengen|aanleren|aanleunen|aanleveren|aanlichten|aanliggen|aanlijken|aanlijnen|aanloggen|aanlokken|aanlopen|aanmaken|aanmanen|aanmatigen|aanmelden|aanmengen|aanmeren|aanmerken|aanmeten|aanmodderen|aanmoedigen|aanmonsteren|aanmunten|aannaaien|aannemen|aanpakken|aanpalen|aanpappen|aanpassen|aanpezen|aanpikken|aanplakken|aanplanten|aanplempen|aanporren|aanpoten|aanpraten|aanprijzen|aanprikken|aanpunten|aanraden|aanraken|aanranden|aanrazen|aanrechten|aanreiken|aanrekenen|aanrennen|aanrichten|aanrijden|aanrijgen|aanroepen|aanroeren|aanrollen|aanrommelen|aanrukken|aanschaffen|aanschakelen|aanscherpen|aanscheuren|aanschieten|aanschikken|aanschoffelen|aanschoppen|aanschouwen|aanschrijven|aanschroeven|aanschuiven|aanschuren|aanschurken|aansjokken|aansjorren|aansjouwen\"pos'; Query could not be parsed.\n",
      "\u001b[Fno viable alternative at input '[lemma=\"aanslaan|aanslepen|aanslibben|aanslijpen|aanslingeren|aansloffen|aansluipen|aansluiten|aansmeden|aansmeren|aansnellen|aansnijden|aansnoeren|aansnorren|aanspannen|aanspelen|aanspoelen|aansporen|aanspreken|aanspringen|aanstaan|aanstampen|aanstappen|aanstaren|aansteken|aanstellen|aansterken|aanstevenen|aanstichten|aanstiefelen|aanstijven|aanstippen|aanstoken|aanstormen|aanstorten|aanstoten|aanstouwen|aanstralen|aanstrepen|aanstrijken|aanstromen|aanstrompelen|aanstuiven|aansturen|aansukkelen|aantakelen|aantakken|aantasten|aantekenen|aantijgen|aantikken|aantippen|aantonen|aantrappen|aantreden|aantreffen|aantrekken|aanvaarden|aanvallen|aanvangen|aanvaren|aanvatten|aanvechten|aanvegen|aanvetten|aanvijzen|aanvinken|aanvliegen|aanvlijen|aanvoegen|aanvoelen|aanvoeren|aanvragen|aanvreten|aanvriezen|aanvullen|aanvuren|aanwaaien|aanwaggelen|aanwakkeren|aanwandelen|aanwassen|aanwateren|aanweiden|aanwenden|aanwennen|aanwerken|aanwerven|aanwijzen|aanwinnen|aanwippen|aanwoekeren|aanwrijven|aanzakken|aanzeggen|aanzeilen|aanzetten|aanzeulen|aanzien|aanzitten\"pos'; Query could not be parsed.\n",
      "\u001b[Fno viable alternative at input '[lemma=\"aanzoeken|aanzuigen|aanzuiveren|aanzwaaien|aanzwellen|aanzwemmen|aanzwengelen|aanzweven|aarden|aardgasrijden|aarzelen|abandonneren|abdiceren|abdiqueren|abimeren|abklinken|abonneren|aborteren|abseilen|absolveren|absorberen|abstineren|abstraheren|academiseren|accapareren|accelereren|accentueren|accepteren|acclimatiseren|accommoderen|accompagneren|accorderen|accrediteren|accumuleren|achten|achteraankomen|achterblijven|achtergaan|achterhalen|achterhouden|achterklappen|achterlaten|achterliggen|achterlopen|achternadoen|achternagaan|achternalopen|achternarijden|achternasturen|achternazenden|achternazetten|achternazitten|achteromkijken|achteromzien|achterophinken|achteropkomen|achteroplopen|achteropraken|achteroverdrukken|achteroverkammen|achteroverleunen|achteroverslaan|achterovervallen|achterstaan|achterstellen|achteruitboeren|achteruitdeinzen|achteruitgaan|achteruitlopen|achteruitrijden|achteruitschoppen|achteruitschuiven|achteruitslaan|achteruitsteken|achteruitwijken|achteruitzetten|achtervoegen|achtervolgen|achterwaren|acquireren|acteren|actievoeren|activeren|actualiseren|adapteren|adelen|ademen|ademhalen|aderen|aderlaten|adiëren|administreren|admiraalzeilen|admitteren|adoniseren|adopteren|adoreren|adresseren|adsorberen|adstrueren\"pos'; Query could not be parsed.\n",
      "\u001b[Fno viable alternative at input '[lemma=\"adverteren|advertisen|adviseren|aereren|aerobiccen|afbakenen|afbakken|afbedelen|afbeelden|afbeitelen|afbekken|afbellen|afbenen|afbestellen|afbetalen|afbeulen|afbidden|afbieden|afbietsen|afbiezen|afbijten|afbikken|afbinden|afbladderen|afblaffen|afblazen|afbleken|afblijven|afblokken|afbluffen|afblussen|afboeken|afbollen|afboorden|afborstelen|afbouwen|afbranden|afbreien|afbreken|afbrengen|afbrokkelen|afbuigen|afbuitelen|afchecken|afconcluderen|afdalen|afdammen|afdanken|afdansen|afdekken|afdeppen|afdichten|afdienen|afdingen|afdoden|afdoen|afdokken|afdonderen|afdoppen|afdraaien|afdragen|afdraven|afdreggen|afdreigen|afdrentelen|afdrijven|afdrinken|afdrogen|afdruipen|afdrukken|afduikelen|afduwen|afdwalen|afdweilen|afdwingen|afeten|affakkelen|affecteren|afficheren|affietsen|affikken|affiliëren|affineren|affirmeren|affluiten|affrezen|affronteren|afgaan|afgelasten|afgeven|afgieten|afglijden|afgolven|afgooien|afgraven|afgrazen|afgrendelen|afgrenzen|afhaken|afhakken\"pos'; Query could not be parsed.\n",
      "\u001b[Fno viable alternative at input '[lemma=\"afhalen|afhameren|afhandelen|afhangen|afhappen|afharden|afhaspelen|afhechten|afhellen|afhelpen|afhollen|afhouden|afhouwen|afhuren|afjagen|afjakkeren|afkaarten|afkalken|afkalven|afkammen|afkanten|afkappen|afkatten|afkeren|afkerven|afketsen|afkeuren|afkicken|afkijken|afkitten|afklappen|afkleden|afklemmen|afkleven|afklimmen|afklokken|afkloppen|afkluiven|afknabbelen|afknagen|afknallen|afknappen|afknellen|afknibbelen|afknijpen|afknippen|afknotten|afkoelen|afkoersen|afkoken|afkolven|afkomen|afkondigen|afkopen|afkoppelen|afkorten|afkrabben|afkraken|afkrijgen|afkruiden|afkruisen|afkuisen|afkunnen|afkussen|aflachen|afladen|aflakken|aflangen|aflaten|aflebberen|afleggen|afleiden|afleren|afletteren|afleveren|aflezen|afliggen|aflijnen|aflikken|aflopen|aflossen|afluisteren|afmaaien|afmaken|afmalen|afmarcheren|afmartelen|afmatten|afmelden|afmelken|afmeren|afmesten|afmeten|afmijnen|afmikken|afmixen|afmonsteren|afmonteren|afnaaien|afnemen\"pos'; Query could not be parsed.\n",
      "\u001b[Fno viable alternative at input '[lemma=\"afneuzen|afnokken|afnummeren|afpakken|afpalen|afpassen|afpeddelen|afpeigeren|afpeilen|afpelen|afpellen|afperken|afpersen|afpeuteren|afpijnigen|afpikken|afpingelen|afpitsen|afplaggen|afplakken|afplanten|afplatten|afpluizen|afplukken|afpoeieren|afpoetsen|afpraten|afprijzen|afprikken|afprinten|afpulken|afpunten|afraden|afraffelen|afraggen|afraken|aframmelen|afranselen|afraspen|afrasteren|afratelen|afrazen|afreageren|afregelen|afregenen|afreien|afreizen|afrekenen|afremmen|afrennen|africhten|afrijden|afrikaniseren|afristen|afritsen|afroeien|afroepen|afroffelen|afrokappen|afrollen|afromen|afronden|afrossen|afrotsen|afruilen|afruimen|afruisen|afrukken|afsabbelen|afsabberen|afscannen|afschaduwen|afschaffen|afschakelen|afschalen|afschampen|afschatten|afschaven|afscheiden|afschenken|afschepen|afscheppen|afscheren|afschermen|afschetsen|afscheuren|afschieten|afschijnen|afschilderen|afschilferen|afschillen|afschminken|afschooien|afschoppen|afschrapen|afschrappen|afschrijven|afschrikken|afschrobben|afschroeven\"pos'; Query could not be parsed.\n",
      "\u001b[Fno viable alternative at input '[lemma=\"afschubben|afschudden|afschuieren|afschuimen|afschuinen|afschuiven|afschuren|afschutten|afserveren|afsjouwen|afslaan|afslachten|afslanken|afslepen|afslijpen|afslijten|afslippen|afsloten|afsloven|afsluiten|afsmaken|afsmeken|afsmelten|afsmijten|afsnauwen|afsnellen|afsnijden|afsnoeien|afsnoepen|afsoppen|afspannen|afspatten|afspelden|afspelen|afspeuren|afspiegelen|afsplijten|afsplitsen|afspoelen|afsponsen|afspreken|afspringen|afspuiten|afspurten|afstaan|afstammen|afstapelen|afstappen|afsteken|afstellen|afstemmen|afstempelen|afsterven|afstevenen|afstijgen|afstoffen|afstomen|afstommelen|afstompen|afstoppen|afstormen|afstorten|afstoten|afstraffen|afstralen|afstrepen|afstrijden|afstrijken|afstromen|afstropen|afstruinen|afstuderen|afstuiten|afstuiven|afsturen|afsuizen|afsukkelen|afswaffelen|aftaaien|aftakelen|aftakken|aftapen|aftappen|aftasten|aftekenen|aftellen|aftesten|aftikken|aftillen|aftimmeren|aftobben|aftoetsen|aftoppen|aftrainen|aftrappen|aftreden|aftrekken|aftrimmen|aftroeven|aftroggelen\"pos'; Query could not be parsed.\n",
      "\u001b[Fno viable alternative at input '[lemma=\"aftruggelen|aftuigen|aftuimelen|afturen|afturven|aftypen|afvaardigen|afvagen|afvallen|afvalscheiden|afvangen|afvaren|afvegen|afvijlen|afvinken|afvissen|afvlaggen|afvlakken|afvliegen|afvloeien|afvluchten|afvoeren|afvragen|afvriezen|afvullen|afvuren|afwaaien|afwaarderen|afwachten|afwandelen|afwassen|afwateren|afwegen|afweken|afwenden|afwennen|afwentelen|afweren|afwerken|afwerpen|afwerven|afweten|afwijken|afwijzen|afwikkelen|afwimpelen|afwinden|afwisselen|afwissen|afwonen|afwrijven|afzabbelen|afzabberen|afzadelen|afzagen|afzakken|afzappen|afzeggen|afzeiken|afzeilen|afzekeren|afzemen|afzenden|afzetten|afzien|afzinken|afzitten|afzoeken|afzoenen|afzomen|afzonderen|afzuigen|afzwaaien|afzwakken|afzwemmen|afzwenken|afzweren|agenderen|ageren|agglutineren|aggregeren|agiteren|airbrushen|airpoolen|akkeren|alarmeren|alerteren|alfabetiseren|aligneren|aliniëren|alkaliseren|allitereren|allittereren|alliëren|alloceren|allrounden|allroundschaatsen|alluderen|alpineskiën|altereren\"pos'; Query could not be parsed.\n",
      "\u001b[Fno viable alternative at input '[lemma=\"alterneren|aluinen|amalgameren|ambeteren|ambiëren|ambulancekleven|amenderen|amerikaniseren|amortiseren|amoveren|amputeren|amuseren|analyseren|anatomiseren|anchoren|animeren|ankeren|annexeren|annihileren|annonceren|annoteren|annualiseren|annuleren|anodiseren|anonimiseren|antedateren|antichambreren|anticiperen|antidateren|antwoorden|apaiseren|apenkooien|apocoperen|apostilleren|apparenteren|appeasen|appelleren|appelschillen|appen|applaudisseren|appliceren|appliqueren|appointeren|apporteren|appreciëren|appreteren|approvianderen|aprillen|après-skiën|aquajoggen|aquaplanen|aquarelleren|arabiseren|arbeiden|arbitreren|arceren|archaïseren|archiveren|aren|argumenteren|armpjedrukken|armworstelen|aromatiseren|arrangeren|arren|arresteren|arriveren|arroseren|arrêteren|articuleren|asemen|asfalteren|asielshoppen|asocialiseren|aspireren|assembleren|assessen|assigneren|assimileren|assisteren|associëren|assoneren|assorteren|assumeren|assureren|atomiseren|atrofiëren|attacheren|attaqueren|atten|attenderen|attesteren|attraperen|attribueren|audiochatten|audiofucken|auditen|auditeren|auralezen|ausculteren\"pos'; Query could not be parsed.\n"
     ]
    },
    {
     "name": "stdout",
     "output_type": "stream",
     "text": [
      "\u001b[Fno viable alternative at input '[lemma=\"authenticeren|authentificeren|autoclaveren|autocrossen|autodaten|autodelen|autokamperen|autoklonen|automatiseren|automutileren|autopetten|autoracen|autorijden|autoriseren|autosurfen|avaleren|avanceren|aviveren|avondmalen|avonturen|azen|baanderen|baantjerijden|baanwielrennen|babbelen|babysitten|babyzwemmen|back-uppen|backen|backflippen|backpacken|backspacen|backspinnen|badderen|baden|badgen|badineren|badmintonnen|bagatelliseren|baggeren|bakenen|bakeren|bakkeleien|bakken|baksen|balanceren|balderen|balen|balkaniseren|balken|ballasten|ballen|balletdansen|ballonvaren|balloteren|balsemen|baltsen|balwerpen|bammen|bamzaaien|banaliseren|bandstoten|banen|banjeren|bankdrukken|banken|bankhangen|bankieren|banksparen|bankverzekeren|bankwerken|bankzitten|bannen|banvloeken|barbakotten|barbecueën|barebacken|baren|barplassen|barreren|barricaderen|barsten|baseballen|basejumpen|basen|baseren|bashen|basketballen|basketten|bassen|bastaarderen|bastioneren|baten|batikken|battelen|batten|bauwen|bazelen|bazen|beachvolleyballen\"pos'; Query could not be parsed.\n",
      "\u001b[Fno viable alternative at input '[lemma=\"beademen|beamen|beangstigen|beantwoorden|bearbeiden|beargumenteren|beatbloggen|beatboxen|beatmixen|beazen|bebakenen|bebloemen|beboeren|beboeten|bebossen|beboteren|bebouwen|bebroeden|becijferen|becommentariëren|becomplimenteren|beconcurreren|bedampen|bedanken|bedaren|bedauwen|bedekken|bedelen|bedelven|bedenken|bederven|bedienen|bedijken|bedillen|bedingen|bediscussiëren|bedisselen|bedoeken|bedoelen|bedonderen|bedotten|bedplassen|bedraden|bedragen|bedreigen|bedrempelen|bedriegen|bedrijven|bedrinken|bedroeven|bedroppelen|bedruipen|bedrukken|bedruppelen|bedruppen|beduiden|beduimelen|beduvelen|bedwateren|bedwelmen|bedwingen|beehiven|beeldbellen|beelddenken|beeldhouwen|beeldsnijden|beepen|beesten|beetgrijpen|beethebben|beethouden|beetkrijgen|beetnemen|beetpakken|beffen|befietsen|befloersen|begaaien|begaan|begapen|begassen|begeesteren|begeleiden|begenadigen|begeren|begeuren|begeven|begieren|begieten|begiftigen|begillen|beginnen|beglazen|begluren|begoochelen|begraven|begrazen|begrenzen|begrijpen|begrinten\"pos'; Query could not be parsed.\n",
      "\u001b[Fno viable alternative at input '[lemma=\"begroeien|begroeten|begroten|begunstigen|behagen|behalen|behandelen|behangen|behappen|beharen|behartigen|beheersen|beheksen|behelpen|behelzen|beheren|behoeden|behoeven|behoren|behouden|behuizen|beiaarden|beiden|beieren|beijveren|beijzelen|beitelen|beitsen|bejagen|bejammeren|bejegenen|bejubelen|bekabelen|bekakken|bekalken|bekampen|bekappen|bekendmaken|bekendstaan|bekennen|bekentekenen|bekeren|bekeuren|bekijken|bekijven|bekisten|bekken|bekladden|bekladderen|beklagen|beklappen|beklauteren|bekleden|beklemmen|beklemtonen|bekleuren|bekliederen|beklijven|beklimmen|beklinken|beklinkeren|bekloppen|beknabbelen|beknellen|beknibbelen|beknorren|beknotten|bekoelen|bekogelen|bekokstoven|bekomen|bekommeren|bekonkelen|bekopen|bekoren|bekorten|bekostigen|bekrabben|bekrachtigen|bekrassen|bekreunen|bekrimpen|bekritiseren|bekronen|bekruipen|bekruisen|bekvechten|bekwamen|beladen|belagen|belanden|belangen|belangstellen|belaseren|belasten|belasteren|belatafelen|belazeren|beledigen|belegeren\"pos'; Query could not be parsed.\n",
      "\u001b[Fno viable alternative at input '[lemma=\"beleggen|belemmeren|belenen|beleren|beletten|beletteren|beleven|beleveren|belezen|belichamen|belichten|beliegen|believen|belijden|belijmen|belijnen|bellen|bellenblazen|beloeren|belommeren|belonen|belopen|beloven|belparkeren|belten|beluchten|beluisteren|bemachtigen|bemalen|bemannen|bemantelen|bemeesteren|bemensen|bemerken|bemesten|bemeteren|bemeubelen|bemiddelen|beminnen|bemoederen|bemoedigen|bemoeien|bemoeilijken|bemonsteren|bemorsen|benaarstigen|benadelen|benaderen|benadrukken|benauwen|benchmarken|benedijen|benemen|benen|benevelen|bengelen|benieuwen|benijden|benjispringen|benoemen|bensjen|benutten|benuttigen|beoefenen|beogen|beoliën|beoordelen|beoorlogen|bepakken|bepalen|bepantseren|bepeinzen|bepeperen|beperken|bepijlen|bepissen|beplakken|beplanten|beplassen|beplaten|bepleisteren|bepleiten|beploegen|bepoederen|beporten|bepotelen|beppen|bepraten|bepreken|beprijzen|beproeven|bepruiken|beraadslagen|beraden|beramen|berapen|berechten|beredderen|beredeneren|beregelen\"pos'; Query could not be parsed.\n",
      "\u001b[Fno viable alternative at input '[lemma=\"beregenen|bereiden|bereiken|bereizen|berekenen|beren|bergen|bergwandelen|berichten|berijden|berijmen|beringen|berispen|beroemen|beroepen|beroeren|beroezen|berokkenen|berouwen|beroven|bersten|beruiken|berusten|beschadigen|beschaduwen|beschamen|beschaven|bescheiden|beschelpen|beschenken|beschermen|bescheuren|beschieten|beschijnen|beschijten|beschikken|beschilderen|beschimmelen|beschimpen|beschoeien|beschouwen|beschreeuwen|beschrijven|beschuldigen|beschutten|beseffen|besjoemelen|beslaan|beslapen|beslechten|beslissen|besluipen|besluiten|besmeren|besmetten|besmeuren|besnaren|besnijden|besnoeien|besnuffelen|besodemieteren|besommen|bespannen|besparen|bespatten|bespelen|bespeuren|bespieden|bespiegelen|bespijkeren|bespikkelen|bespioneren|bespoedigen|bespotten|bespreken|besprenkelen|bespringen|besproeien|bespugen|bespuiten|bespuwen|bestaan|bestaffen|bestatigen|besteden|bestelen|bestellen|bestemmen|bestempelen|bestendigen|besterven|bestickeren|bestieren|bestijgen|bestoefen|bestoken|bestormen|bestraffen|bestralen|bestraten\"pos'; Query could not be parsed.\n",
      "\u001b[Fno viable alternative at input '[lemma=\"bestrijden|bestrijken|bestrooien|bestuderen|bestuiven|besturen|besuikeren|beswaffelen|betalen|betamen|betasten|betegelen|betekenen|beteren|beteugelen|betichten|betijen|betimmeren|betitelen|betoelagen|betogen|betomen|betonen|betonnen|betonneren|betoveren|betrachten|betrappen|betreden|betreffen|betrekken|betreuren|betrouwen|betten|betuigen|betuttelen|betwijfelen|betwisten|beugelen|beuken|beulen|beunen|beunhazen|beurelen|beuren|beuzelen|bevallen|bevangen|bevaren|bevatten|bevechten|beveiligen|bevelen|beven|bevestigen|bevinden|bevingeren|bevissen|bevitten|bevlaggen|bevlekken|bevliegen|bevloeien|bevloeren|bevochten|bevochtigen|bevoelen|bevolken|bevoogden|bevoordelen|bevoordeligen|bevooroordelen|bevoorraden|bevoorrechten|bevoorschotten|bevorderen|bevrachten|bevragen|bevredigen|bevreemden|bevriezen|bevrijden|bevroeden|bevrouwen|bevruchten|bevuilen|bevuren|bewaarheiden|bewaken|bewallen|bewalmen|bewandelen|bewapenen|bewaren|bewasemen|bewassen|bewateren|bewegen|bewegwijzeren|beweiden\"pos'; Query could not be parsed.\n",
      "\u001b[Fno viable alternative at input '[lemma=\"bewenen|beweren|bewerken|bewerkstelligen|bewieroken|bewiesen|bewijzen|bewilligen|bewimpelen|bewolken|bewonderen|bewonen|bewoorden|bewustmaken|bezaaien|bezakken|bezanden|bezatten|bezegelen|bezeiken|bezeilen|bezemen|bezenuwen|bezeren|bezetten|bezichtigen|bezielen|bezien|bezigen|bezighouden|bezingen|bezinken|bezinnen|bezitten|bezoden|bezoedelen|bezoeken|bezoldigen|bezondigen|bezorgen|bezuinigen|bezuipen|bezuren|bezwadderen|bezwangeren|bezwaren|bezwendelen|bezweren|bezwijken|bezwijmen|beëdigen|beëindigen|beërven|beïnvloeden|bibberen|bibdaten|bidden|biechten|bieden|biepen|bierbrouwen|bietsen|biezen|biggelen|biggen|bijbabbelen|bijbenen|bijbestellen|bijbetalen|bijbeunen|bijbieren|bijblijven|bijboeken|bijbouwen|bijbrengen|bijdoen|bijdraaien|bijdragen|bijdrukken|bijeenbinden|bijeenbrengen|bijeendrijven|bijeengaren|bijeenhalen|bijeenharken|bijeenhouden|bijeenkomen|bijeenleggen|bijeennemen|bijeenpakken|bijeenrapen|bijeenroepen|bijeenscharrelen|bijeenschrapen|bijeensparen|bijeensprokkelen|bijeentellen|bijeentikken|bijeentrommelen|bijeenvegen\"pos'; Query could not be parsed.\n",
      "\u001b[Fno viable alternative at input '[lemma=\"bijeenvergaren|bijeenvoegen|bijeenzamelen|bijeenzijn|bijeenzoeken|bijgaan|bijgeven|bijgieten|bijgooien|bijgroeien|bijhalen|bijhangen|bijharken|bijhebben|bijhouden|bijhuren|bijkletsen|bijkleuren|bijklussen|bijknippen|bijkomen|bijkopen|bijkrabbelen|bijkrijgen|bijkruiden|bijladen|bijlappen|bijleggen|bijlenen|bijleren|bijleveren|bijlichten|bijliggen|bijmaken|bijmengen|bijmesten|bijnemen|bijpassen|bijplaatsen|bijplakken|bijpleisteren|bijplussen|bijpraten|bijpunten|bijregelen|bijschaven|bijschenken|bijschilderen|bijschnabbelen|bijscholen|bijschrijven|bijschuiven|bijslapen|bijslijpen|bijsloffen|bijsluiten|bijsnijden|bijsnoeien|bijspelen|bijspijkeren|bijspringen|bijstaan|bijsteken|bijstellen|bijstoken|bijstorten|bijstuderen|bijsturen|bijtanken|bijtekenen|bijtellen|bijten|bijtreden|bijtrekken|bijvallen|bijverdienen|bijverven|bijverwarmen|bijverzekeren|bijvijlen|bijvoederen|bijvoegen|bijvoeren|bijvullen|bijwerken|bijwonen|bijzetten|bijzitten|bikkelen|bikken|biljarten|billen|billenknijpen|billijken|binden|binge-eten|bingedrinken|bingen|bingoën|binnenblijven\"pos'; Query could not be parsed.\n",
      "\u001b[Fno viable alternative at input '[lemma=\"binnenbreken|binnenbrengen|binnendoen|binnendragen|binnendringen|binnendruppelen|binnenduwen|binnengaan|binnenglijden|binnenglippen|binnenhalen|binnenhouden|binnenjassen|binnenkanjeren|binnenkijken|binnenklimmen|binnenknallen|binnenkomen|binnenkoppen|binnenkrijgen|binnenkruipen|binnenlaten|binnenleiden|binnenleveren|binnenlokken|binnenloodsen|binnenlopen|binnenmarcheren|binnenrennen|binnenrijden|binnenrijven|binnenroepen|binnenrollen|binnenschieten|binnenschrijden|binnensijpelen|binnenslepen|binnensluipen|binnensmokkelen|binnenspelen|binnenspringen|binnenstappen|binnensteken|binnenstormen|binnenstromen|binnenstuiven|binnentikken|binnentreden|binnentrekken|binnenvallen|binnenvaren|binnenvliegen|binnenvluchten|binnenvoeren|binnenvragen|binnenwaaien|binnenwandelen|binnenwippen|binnenzeilen|binnenzetten|biologeren|biopteren|biorijden|biossnacken|bissen|bisseren|bitchen|bitsen|bitteren|bitumineren|bivakkeren|blaaskaken|black-outen|bladderen|bladeren|bladzuigen|blaffen|blaken|blakeren|blameren|blancheren|blaren|blasfemeren|blaten|blauwbekken|blauwen|blazen|bleachen|bleiten|bleken|blekken|blenden|blenderen|blerken|blesseren|blieven|blijken|blijven|blikken|blikkeren\"pos'; Query could not be parsed.\n",
      "\u001b[Fno viable alternative at input '[lemma=\"bliklopen|blikogen|bliksemen|blinddammen|blinddoeken|blinderen|blindstaren|blindvaren|blinken|blitzen|blocken|bloeden|bloeien|bloemen|bloemlezen|bloemschikken|bloezen|bloggen|bloghoppen|blokarten|blokdenken|blokken|blokkeren|blokletteren|blokrijden|blokstrooien|blokvaren|blokzwemmen|blonderen|blootgeven|blootleggen|blootliggen|blootstaan|blootstellen|blootwoelen|blowen|blozen|blubberen|bluffen|blunderen|blurren|blussen|blutsen|blèren|blèten|boarden|bobbelen|bobben|bobijnen|bobsleeën|bobstarten|bodemen|bodyboarden|bodybuilden|bodyshoppen|boeien|boekbinden|boekdrukken|boeken|boekhouden|boekstaven|boelen|boeleren|boemelen|boemsen|boenen|boeren|boeten|boetseren|boezemfibrilleren|boffen|bogen|bokken|boksen|bokspringen|bolderen|bolhappen|bollen|bolwerken|bombarderen|bomberen|bomchecken|bomen|bommen|bonjouren|bonken|bonzen|boodschappen|boogschieten|bookcrossen|bookmarken|boomen|boomklimmen|boorden|boordroeien|bootdaten|booten|bootsen|bootskiën|borduren\"pos'; Query could not be parsed.\n"
     ]
    },
    {
     "name": "stdout",
     "output_type": "stream",
     "text": [
      "\u001b[Fno viable alternative at input '[lemma=\"boren|borgen|borneren|borrelen|borstelen|borstvoeden|borstzwemmen|bosseleren|bossen|boswonen|botaniseren|botdotteren|boten|boteren|botoxen|botsen|bottelen|botten|bottlenecken|botvieren|boucharderen|bouderen|boulderen|bouncen|bouwen|bouwputgluren|bovenblijven|bovendrijven|bovenhalen|bovenkomen|bovenkopen|bovenliggen|bovenwinkelwonen|bowlen|boxhoppen|boycotten|brabbelen|braden|braderen|brainstormen|brainwashen|braiseren|braken|brallen|bramen|branden|brandingkanoën|brandmerken|brandschatten|brandschilderen|brandstichten|braseren|brassen|braveren|breakdancen|breakdansen|breedparkeren|breeuwen|breidelen|breien|breinbruisen|breinjoggen|breinstormen|breken|brengen|brevetteren|brevieren|bricoleren|bridgen|briefen|briefschrijven|briesen|brillen|britsen|brocheren|broddelen|broebelen|broeden|broeien|broekzakbellen|broezen|brokkelen|brokken|brommen|bronzen|bronzeren|broodroven|brossen|brouilleren|brouwen|browsen|bruiken|bruinbakken|bruinen|bruineren|bruisen|brullen|brunchen|brushen|brutaliseren\"pos'; Query could not be parsed.\n",
      "\u001b[Fno viable alternative at input '[lemma=\"bruuskeren|bubbelen|buddybanken|budgetteren|buffelen|bufferen|buien|buigen|buikbuilden|buikdansen|buikschuiven|buikspreken|builderen|builen|buitelen|buitengaan|buitengooien|buitenhangen|buitenhouden|buitenkijken|buitenkomen|buitenlaten|buitenpesten|buitensluiten|buitensmijten|buitenspelen|buitenstaan|buitenvliegen|buitenzetten|buitmaken|buizen|bukken|bulderen|bulderlachen|bulken|bulldozeren|bulten|bumpen|bumperkleven|bumpersurfen|bumsen|bundelen|bungeejumpen|bungeespringen|bungelen|bunkeren|bureaucratiseren|buren|burlen|busken|busselen|bussen|busskeeleren|buten|butsen|buurten|buzzen|bypassen|cachen|cadanceren|calcineren|calculeren|calqueren|camoufleren|camperen|cancelen|canicrossen|canneleren|canoniseren|canvassen|capitonneren|capituleren|capteren|caramboleren|carbidschieten|carboniseren|carjacken|carpoolen|carrierselectbellen|carven|cascaderen|cashen|casseren|casten|castigeren|castreren|catalogeren|catalogiseren|catechiseren|categoriseren|cateren|causeren|cauteriseren|cc\\\\'en|cd-branden|cederen|celebreren|cementen|cementeren|censeren\"pos'; Query could not be parsed.\n",
      "\u001b[Fno viable alternative at input '[lemma=\"censureren|centeren|centraliseren|centreren|centrifugeren|certificeren|certifiëren|chambreren|changeren|channelen|chanten|chanteren|chaperonneren|chappen|chargen|chargeren|charmeren|charteren|chatten|chaufferen|checken|cheerleaden|cherrypicken|chicaneren|chillen|chinezen|chipoteren|chipparkeren|chippen|chirpen|chirunnen|chloren|chloreren|chloroformeren|choken|choppen|choqueren|choreograferen|christianiseren|chromeren|chronometreren|cibleren|cijferen|circuitschakelen|circuleren|cirkelen|cirkellezen|ciseleren|citeren|citytrippen|civiliseren|claimen|clarifiëren|clashen|classificeren|classifiëren|clausuleren|claxonneren|clearen|clicheren|clicken|clipdansen|clubben|clusteren|co-existeren|coachen|coaguleren|coastraften|coaten|cobuyen|cocoonen|cocreëren|coderen|codificeren|cofinancieren|cohabiteren|cohenniseren|coifferen|coilen|collaboreren|collationeren|collecteren|collectioneren|collectiviseren|collideren|colloqueren|colorblocken|colporteren|comakijken|comazuipen|combineren|commanderen|commentariëren|commenteren|commercialiseren|committeren|communiceren|commuteren|compactrijden|compareren\"pos'; Query could not be parsed.\n",
      "\u001b[Fno viable alternative at input '[lemma=\"compartimenteren|compenseren|competeren|compileren|complementeren|completeren|compliceren|complimenteren|complotteren|componeren|composteren|compresseren|comprimeren|compromitteren|computeren|computeriseren|computerkoken|computerkraken|computerschieten|concateneren|concelebreren|concentreren|conceptualiseren|concerteren|conciliëren|concipiëren|concluderen|concorderen|concretiseren|concurreren|condenseren|conditioneren|condoleren|condoomblowen|confabuleren|confectioneren|confedereren|confereren|configureren|confirmeren|confisqueren|conflicteren|conformeren|confronteren|congresseren|congrueren|conjugeren|connecten|connecteren|connoteren|consacreren|consecreren|consenteren|conserveren|consigneren|consolideren|conspireren|constateren|constitueren|construeren|consulteren|consumanderen|consumeren|consuminderen|contacten|contacteren|containerduiken|contamineren|contempleren|contesteren|contextualiseren|contingenteren|continueren|contra-indiceren|contracteren|contraheren|contrariëren|contrasigneren|contrasteren|contribueren|controleren|conveniëren|conventioneren|convergeren|converseren|converteren|convoceren|coolhunten|coproducen|coproduceren|copuleren|copy-pasten|copywriten|correctionaliseren|correleren|corresponderen|corrigeren|corroderen|corrumperen|corveeën\"pos'; Query could not be parsed.\n",
      "\u001b[Fno viable alternative at input '[lemma=\"coshoppen|couchsurfen|counselen|counteren|countrydansen|coupen|couperen|couverteren|coveren|coïncideren|coïteren|coöpereren|coöpteren|coördineren|cracken|craqueleren|crashen|crawlen|crediteren|cremeren|creosoteren|creperen|creëren|cricketen|criminaliseren|croonen|croppen|crosschatten|crosscountryskiën|crossen|crossfaden|crowdsurfen|cruisen|crunchen|crushen|cryomeren|culmineren|culpabiliseren|cultiveren|cultuurjagen|cumuleren|cureren|curetteren|curlen|cursiveren|customiseren|customizen|cyberkletsen|cyberpesten|cyberseksen|cybersquatten|cyclecrossen|cyclocrossen|daarlaten|daarstellen|dabben|dabberen|dactyloscoperen|dagdieven|dagdromen|dagen|daglichtrijden|dagtekenen|dagvaarden|dalen|dalven|dammen|dampen|danken|dankzeggen|dansen|darren|dartelen|darten|dashen|daten|dateren|dauwen|dauwtrappen|daveren|davvenen|daytraden|dazen|de-escaleren|de-icen|de-installeren|de-ioniseren|de-islamiseren|deactiveren|deactualiseren|dealen|dearchiveren|deassembleren|deautoriseren|debaathificeren|deballoteren|debarkeren|debarrasseren|debatteren|debiteren\"pos'; Query could not be parsed.\n",
      "\u001b[Fno viable alternative at input '[lemma=\"deblokkeren|debrailleren|debrayeren|debriefen|debuggen|debunken|debuteren|decanteren|decaperen|decelereren|decentraliseren|decentreren|decertificeren|dechargeren|decideren|decimeren|declameren|declareren|declasseren|declineren|decoderen|decollectiviseren|decompenseren|decomprimeren|deconfessionaliseren|deconstrueren|decontamineren|decoreren|decouperen|decreteren|decriminaliseren|decrypteren|dedicaceren|deduceren|deejayen|deelhebben|deelnemen|deeltijdwerken|deeplinken|defacen|defeceren|defenestreren|defibrilleren|defileren|definiëren|deflecteren|defloreren|deformeren|defragmenteren|defrienden|defungeren|defuseren|degenereren|deglaceren|degouteren|degraderen|degusteren|dehumaniseren|dehydrateren|dehydreren|deinen|deinzen|dejeuneren|dekken|dekoloniseren|delamineren|delegeren|delegitimeren|delen|deleten|delgen|delibereren|delokaliseren|deltavliegen|delven|demagnetiseren|demaquilleren|demarqueren|demarreren|demaskeren|dematerialiseren|demedicaliseren|dementeren|demilitariseren|demineraliseren|demobiliseren|democratiseren|demoderen|demoniseren|demonstreren|demonteren|demoraliseren|demotiveren|demoveren|dempen|demystificeren|demystifiëren|denationaliseren|denaturaliseren|denatureren\"pos'; Query could not be parsed.\n",
      "\u001b[Fno viable alternative at input '[lemma=\"denderen|denigreren|denivelleren|denken|denomineren|denonceren|denunciëren|deodoriseren|depanneren|depenaliseren|depersonaliseren|deployeren|depolariseren|depolitiseren|depollueren|deponeren|deporteren|depouilleren|deppen|depreciëren|deprimeren|deprivatiseren|depriveren|deprogrammeren|deputeren|deradicaliseren|derailleren|derangeren|deregistreren|dereguleren|deren|derogeren|derven|desacraliseren|desambigueren|desavoueren|deselecteren|desemen|desensibiliseren|deserteren|designen|desillusioneren|desinfecteren|desintegreren|desinvesteren|desisteren|desorganiseren|desoriënteren|despereren|dessineren|destabiliseren|destaliniseren|destigmatiseren|destilleren|destrueren|detacheren|detailleren|detecteren|determineren|detineren|detoneren|detoxen|deugen|deuken|deunen|devalueren|deviëren|diaboliseren|diagnosticeren|dialogeren|dialogiseren|dialyseren|diamantkloven|dichtbinden|dichtbranden|dichtdoen|dichtdraaien|dichtdrukken|dichtduwen|dichten|dichtgaan|dichtgooien|dichtgroeien|dichthouden|dichtklappen|dichtkleven|dichtklikken|dichtknijpen|dichtknopen|dichtlassen|dichtleggen|dichtlijmen|dichtmaken|dichtmetselen|dichtmetsen|dichtnaaien|dichtnieten|dichtplakken|dichtplooien|dichtrijden\"pos'; Query could not be parsed.\n",
      "\u001b[Fno viable alternative at input '[lemma=\"dichtritsen|dichtschroeien|dichtschroeven|dichtschuiven|dichtslaan|dichtslibben|dichtsmeren|dichtsmijten|dichtsnoeren|dichtspijkeren|dichtspringen|dichtstoppen|dichtstorten|dichttapen|dichttimmeren|dichttrekken|dichtvallen|dichtvouwen|dichtvriezen|dichtweven|dichtzetten|dichtzitten|dicteren|dieken|dienen|dienstdoen|dienstweigeren|diepen|dieplinken|diepvriezen|diepzeeduiken|dieselen|dieven|diffameren|differentiëren|diffunderen|diftongeren|digereren|digesteren|diggen|digiflirten|digipesten|digitaliseren|dijen|dijken|dikken|dilateren|dimdammen|dimensioneren|dimmen|dineren|dingen|dinkelen|diplomazwemmen|diplomeren|dippen|dirigeren|disambigueren|disciplineren|disconteren|discontinueren|discozwemmen|discrediteren|discrimineren|disculperen|discussiëren|discuswerpen|discuteren|disfunctioneren|diskwalificeren|dislokeren|dispatchen|dispenseren|dispergeren|disponeren|disputeren|dissecteren|dissemineren|dissen|dissideren|dissiperen|dissociëren|dissoneren|distantiëren|distilleren|distingeren|distribueren|divergeren|diversificeren|diversifiëren|diverteren|dividendstrippen|diëten|dj\\\\'en|djakken|djoinen|djorken|dobbelen|dobberen|doceren\"pos'; Query could not be parsed.\n"
     ]
    },
    {
     "name": "stdout",
     "output_type": "stream",
     "text": [
      "\u001b[Fno viable alternative at input '[lemma=\"doctoreren|documenteren|doddelen|doden|doe-het-zelven|doedelen|doelen|doelpunten|doemdenken|doemen|doen|doezelen|doggydansen|dogmatiseren|dokken|dokteren|doldraaien|dolen|doleren|dollariseren|dollen|domeinkapen|domen|domesticeren|domiciliëren|domineren|dominoën|dommelen|dompelen|dompen|donderen|donderjagen|donderstenen|donderstralen|doneren|donkeren|doodbijten|doodblijven|doodbloeden|doodbranden|doodconcurreren|dooddoen|dooddrinken|dooddrukken|doodergeren|doodfluiten|doodgaan|doodgooien|doodhakken|doodhongeren|doodkappen|doodknijpen|doodknuffelen|doodknuppelen|doodlachen|doodleggen|doodliggen|doodlopen|doodmaken|doodmartelen|doodmeppen|doodpesten|doodpolderen|doodranselen|doodrijden|doodschamen|doodschieten|doodschoppen|doodschrikken|doodschudden|doodslaan|doodspuiten|doodsteken|doodtrappen|doodvallen|doodvechten|doodverklaren|doodverven|doodvriezen|doodwerken|doodzwijgen|doofpotten|dooien|doorademen|dooragenderen|doorakkeren|doorbehandelen|doorbekeren|doorbelasten|doorbellen|doorberekenen|doorbetalen|doorbijten|doorbladeren|doorblazen|doorbloeden|doorbloeien|doorbomen|doorborduren|doorboren\"pos'; Query could not be parsed.\n",
      "\u001b[Fno viable alternative at input '[lemma=\"doorbouwen|doorbranden|doorbreken|doorbrengen|doorbrieven|doorbuigen|doorcommuniceren|doordekken|doordenderen|doordenken|doordesemen|doordoen|doordouwen|doordraaien|doordrammen|doordraven|doordrenken|doordrijven|doordringen|doordrinken|doordrukken|doorduwen|dooreenlopen|dooreenschudden|dooreten|dooretteren|doorfactureren|doorfaxen|doorfeesten|doorfietsen|doorfokken|doorgaan|doorgeleiden|doorgeven|doorglijden|doorgloeien|doorgraven|doorgroeien|doorgronden|doorhakken|doorhalen|doorhameren|doorhangen|doorhebben|doorhelpen|doorhollen|doorjagen|doorkachelen|doorkammen|doorkerven|doorkiezen|doorkijken|doorkletsen|doorklieven|doorklikken|doorklinken|doorknagen|doorknallen|doorknippen|doorkoken|doorkomen|doorkoppelen|doorkrassen|doorkrijgen|doorkruipen|doorkruisen|doorkweken|doorladen|doorlaten|doorleiden|doorlekken|doorlenen|doorleren|doorleven|doorleveren|doorlezen|doorlichten|doorliggen|doorlinken|doorlopen|doormailen|doormaken|doormarcheren|doormelden|doormeten|doormodderen|doornemen|doornummeren|dooroefenen|doorontwikkelen|doorpakken|doorpassen|doorplaatsen|doorploegen|doorpluizen|doorpompen|doorpraten|doorprikken|doorprocederen|doorratelen\"pos'; Query could not be parsed.\n",
      "\u001b[Fno viable alternative at input '[lemma=\"doorrazen|doorrechercheren|doorredeneren|doorregenen|doorregeren|doorreizen|doorrekenen|doorrennen|doorrijden|doorroeren|doorroesten|doorroken|doorrollen|doorrotten|doorrouteren|doorschakelen|doorschemeren|doorscheuren|doorschieten|doorschijnen|doorschouwen|doorschrappen|doorschrijven|doorschudden|doorschuiven|doorseinen|doorsijpelen|doorslaan|doorslapen|doorslenteren|doorslijpen|doorslijten|doorslikken|doorslippen|doorsluizen|doorsmeren|doorsmeulen|doorsmoezen|doorsnijden|doorsnuffelen|doorsparen|doorspartelen|doorspekken|doorspelen|doorspitten|doorspoelen|doorspreken|doorstaan|doorstappen|doorstarten|doorsteken|doorstijgen|doorstikken|doorstomen|doorstorten|doorstoten|doorstralen|doorstrepen|doorstromen|doorstuderen|doorstuiteren|doorsturen|doorsudderen|doorsukkelen|doortasten|doortellen|doortikken|doortrainen|doortrappen|doortrekken|doorvaren|doorvechten|doorverbinden|doorvergaderen|doorverhuren|doorverkopen|doorvertalen|doorvertellen|doorverwijzen|doorvijlen|doorvlechten|doorvliegen|doorvoelen|doorvoeren|doorvorsen|doorvragen|doorvreten|doorwaden|doorwaken|doorwandelen|doorwarmen|doorwegen|doorweken|doorwerken|doorweven|doorwinteren|doorwoekeren|doorworstelen|doorzagen|doorzakken\"pos'; Query could not be parsed.\n",
      "\u001b[Fno viable alternative at input '[lemma=\"doorzeggen|doorzenden|doorzetten|doorzeuren|doorzeven|doorzieken|doorzien|doorzijpelen|doorzitten|doorzoeken|doorzuipen|doorzwemmen|doorzweten|dopen|doperen|doppen|dorren|dorsen|dorsten|doseren|dossen|doteren|dotteren|doublechecken|doubleren|douchen|doucheplassen|douwen|doven|downdaten|downgraden|downhillen|downloaden|downplayen|downsizen|dozeren|draaien|dragen|draineren|dralen|dramatiseren|drammen|drankrijden|draperen|draven|drecheren|dreggen|dreigen|dreinen|drenken|drentelen|drentenieren|drenzen|dresseren|dretsen|dreunen|dreutelen|drevelen|dribbelen|driegen|driften|drijven|drillen|dringen|drinken|droedelen|drogen|drogeren|dromen|drommen|droogblazen|droogdeppen|drooghouden|droogkoken|droogleggen|drooglopen|droogmaken|droogmalen|droogneuken|droogpompen|droogpruimen|droogscheren|droogstaan|droogstappen|droogstoken|droogvallen|droogvegen|droogwrijven|droogzwemmen|droogzwieren|droppelen|droppen|drossen|drozen|druilen|druiloren|druipen|druipstaarten|druisen|drukken\"pos'; Query could not be parsed.\n",
      "\u001b[Fno viable alternative at input '[lemma=\"drummen|druppelen|druppen|dualiseren|dubbelchecken|dubbelen|dubbelklappen|dubbelklikken|dubbelslaan|dubbelvouwen|dubben|duchten|duelleren|duiden|duikelen|duiken|duimen|duimendraaien|duimzuigen|duisteren|duivelen|duizelen|dulden|dumpen|dumpsterdiven|dunken|dunnen|duodouchen|duolezen|duperen|dupliceren|duren|durven|dutten|duvelen|duwen|dwalen|dwangvoederen|dwangvoeren|dwarrelen|dwarsbomen|dwarsliggen|dwarszitten|dweilen|dwepen|dwergwerpen|dwingen|dynamiseren|dynamiteren|e-bankieren|e-learnen|e-leren|e-lezen|e-mailen|e-shoppen|e-spieken|e-stemmen|e-uitlenen|e-werken|e-winkelen|ebben|ecarteren|echelonneren|echoën|echtbreken|echten|echtscheiden|eclipseren|economiseren|ecorijden|editen|editeren|eenendertigen|eenentwintigen|eerbiedigen|eesten|effectueren|effenen|effileren|egaliseren|eggen|egosurfen|egotrippen|eiereneten|eiereten|eiertikken|eigenen|eilandhoppen|eindejaarsshoppen|einden|eindigen|eindredigeren|eisen|ejaculeren|ejecten|ejecteren|elaboreren|elektrificeren|elektriseren|elektrocuteren\"pos'; Query could not be parsed.\n",
      "\u001b[Fno viable alternative at input '[lemma=\"elektroniseren|eleveren|eliciteren|elimineren|elueren|emailleren|emanciperen|emaneren|emballeren|embarkeren|embedden|embossen|embêteren|emenderen|emigreren|emitteren|emmeren|emotioneren|empoweren|emuleren|emulgeren|encadreren|encanailleren|encoderen|encrypten|encrypteren|endosseren|enerveren|engageren|enquêteren|ensceneren|entameren|enten|enteren|entertainen|enthousiasmeren|entraineren|envelopperen|epateren|epibreren|epileren|equilibreren|equiperen|erbarmen|eren|ergeren|erkennen|erlangen|eroderen|erotiseren|eruitzien|erupteren|ervaren|ervaringsshoppen|erven|escaleren|escorteren|eskimoteren|essayeren|esthetiseren|estimeren|etableren|etaleren|eten|etiketteren|etsen|etteren|etymologiseren|euroactiveren|europeaniseren|euthanaseren|evacueren|evalueren|evangeliseren|evaporeren|evenaren|evoceren|evolueren|evoqueren|exalteren|examineren|excelleren|excerperen|exciteren|excluderen|excommuniceren|excuseren|executeren|exerceren|exfoliëren|exhiberen|existeren|exonereren|expanderen|expatriëren|expediëren|experimenteren|expertiseren|expireren|expliceren\"pos'; Query could not be parsed.\n",
      "\u001b[Fno viable alternative at input '[lemma=\"expliciteren|expliqueren|exploderen|exploiteren|exploreren|exponeren|exporteren|exposeren|extensiveren|exterioriseren|externaliseren|extraheren|extramuraliseren|extrapoleren|extruderen|fabelen|fabriceren|fabrieken|fabrikeren|fabuleren|facebooken|faceliften|facetimen|facetteren|faciliteren|faciliëren|factchecken|factureren|faderen|failleren|fairshoppen|faken|falen|falsificeren|falsifiëren|familiariseren|fangirlen|fantaseren|fappen|farceren|fascineren|faseren|fastdaten|fastforwarden|fatsoeneren|favoriseren|faxen|federaliseren|federeren|feesten|feestvieren|feilen|feliciteren|felsen|femelen|fermenteren|festonneren|feveren|fezelen|fiatteren|fibrilleren|fictionaliseren|fiedelen|fielden|fierljeppen|fietsbellen|fietscrossen|fietsen|fietsforenzen|fietskamperen|fietspoolen|fietsslenteren|figureren|figuurrijden|figuurzagen|fijfelen|fijnhakken|fijnkauwen|fijnknijpen|fijnmaken|fijnmalen|fijnprakken|fijnslaan|fijnsnijden|fijnstampen|fijntrappen|fijnwrijven|fikfakken|fiksen|fileflirten|filekijken|filemijden|fileparkeren|fileren|filerijden|filesharen|filevaren|filibusteren|filmen|filmluisteren\"pos'; Query could not be parsed.\n",
      "\u001b[Fno viable alternative at input '[lemma=\"filosoferen|filteren|filtreren|finaliseren|financieren|fineren|finetunen|fingeren|finishen|fiscaliseren|fistfucken|fitnessdaten|fitnessen|fitten|fixen|fixeren|fladderen|flakkeren|flamberen|flaneren|flankeren|flansen|flappen|flappentappen|flapperen|flarfen|flashen|flashmobben|flatteren|flauwekullen|flauwvallen|flecteren|fleetracen|flemen|flensen|flenzen|fleren|flessen|fleuren|flexen|flexibiliseren|flexwerken|flierefluiten|flikflooien|flikken|flikkeren|flippen|flipperen|flirten|flitsbeleggen|flitsen|flitten|flodderen|floepen|flonkeren|floppen|floreren|flossen|flowen|fluctueren|fluimen|fluisteren|fluiten|fluoresceren|fluorideren|flyeren|fnuiken|focussen|focusseren|foefelen|foerageren|foetelen|foeteren|foezelen|fokken|folderen|foliëren|folteren|fomenteren|fonduen|foneren|fonkelen|foppen|foproken|forceren|foregrounden|forensen|forenzen|forfaitiseren|formaliseren|formatievliegen|formatteren|formeren|formuleren|fortificeren|fortuyniseren|forwarden|fosforesceren|fossiliseren|fotofucken\"pos'; Query could not be parsed.\n"
     ]
    },
    {
     "name": "stdout",
     "output_type": "stream",
     "text": [
      "\u001b[Fno viable alternative at input '[lemma=\"fotograferen|fotokopiëren|fotoshoppen|fotozetten|fouilleren|fourneren|foutparkeren|foxtrotten|fracken|fractioneren|fraggen|fragmentariseren|fragmenteren|franchisen|frankeren|frapperen|fraseren|frauderen|frazelen|freaken|freefighten|freelancen|freeriden|freerunnen|freestylen|freestyleskiën|freewheelen|frequenteren|frescoschilderen|fretten|fretteren|frezen|frictioneren|friemelen|frijnen|frisbeeën|friseren|frituren|frommelen|fronsen|frontloaden|frotten|frotteren|fruiten|frummelen|frunniken|frustreren|frutselen|frutten|fröbelen|ftp\\\\'en|fucken|fuifroeien|fuiven|fulmineren|functioneren|fundamentaliseren|funderen|fundraisen|fungeren|funken|funshoppen|fuseren|fusilleren|fusioneren|futselen|fêteren|föhnen|gaaibollen|gaaischieten|gaan|gaarkoken|gaarsmoren|gaarstoven|gadeslaan|gaffelen|gaggelen|gakken|gallen|galmen|galonneren|galopperen|galvaniseren|gamen|gangbangen|gangmaken|gansrijden|gansslaan|ganstrekken|ganzenborden|gapen|gappen|garanderen|garen|garneren|garnieren|garven|gaslaan|gassen|gasteren\"pos'; Query could not be parsed.\n",
      "\u001b[Fno viable alternative at input '[lemma=\"gastlenen|gatlikken|gaufreren|gebaren|gebeuren|gebieden|gebruiken|gebruikmaken|gedachtelezen|gedenken|gedijen|gedogen|gedoogwonen|gedragen|geeuwen|geheimhouden|gehoorzamen|geien|geilbekken|geilen|geinen|geiten|gekken|gekscheren|gelasten|gelden|geleiden|gelen|gelieven|gelijken|gelijkknippen|gelijkkomen|gelijkliggen|gelijklopen|gelijkmaken|gelijkrichten|gelijkschakelen|gelijkspelen|gelijkstaan|gelijkstellen|gelijkstemmen|gelijktrekken|gelijkzetten|geloven|gelukken|gelukwensen|gemakspoetsen|genaken|genderbenden|generaliseren|generen|genereren|genezen|genieten|genoegen|genotteren|georefereren|geraken|gereedhouden|gereedkomen|gereedleggen|gereedliggen|gereedmaken|gereedstaan|gereedzetten|geren|gerieven|geringschatten|germaniseren|geruststellen|geschieden|geschiedschrijven|geselen|gespen|gesticuleren|getroosten|getuigen|geuren|gevallen|gevangennemen|gevangenzetten|gevangenzitten|geven|gevoelen|gewaarworden|gewagen|gewennen|gewichtheffen|gewinnen|geworden|gezeggen|gibberen|gidsen|giebelen|giechelen|giegagen|gieren|gieten|gieteren|gijpen\"pos'; Query could not be parsed.\n",
      "\u001b[Fno viable alternative at input '[lemma=\"gijzelen|gillen|ginnegappen|gipsen|gireren|gispen|gissen|gisten|gitmoteren|gitmotiseren|glaceren|gladden|gladkammen|gladmaken|gladschaven|gladscheren|gladschuren|gladslijpen|gladstrijken|gladwrijven|glampen|glamperen|glanzen|glarieogen|glariën|glasblazen|glasgrillen|glasstralen|glazuren|glibberen|glijden|glimlachen|glimmen|glinsteren|glippen|glissen|glitteren|globaliseren|gloeien|glooien|gloren|gloriëren|glosseren|gluipen|glunderen|gluren|gluurogen|gniffelen|gnuiven|goedachten|goeddoen|goeddunken|goedhouden|goedkeuren|goedleggen|goedmaken|goedpraten|goedspreken|goedvinden|gokken|golfen|golven|gommen|gonzen|goochelen|googelen|gooien|gordelen|gorden|gorgelen|gourmetten|gps-wandelen|graaien|grabbelen|graderen|gradueren|grafliggen|granuleren|grapjassen|grappen|grasduinen|grasmaaien|gratificeren|gratineren|gratiëren|grauwen|graven|graveren|graviteren|grazen|greinen|greineren|grendelen|grenzen|grienen|grieven|griezelen|griffelen|griffen|grijnslachen\"pos'; Query could not be parsed.\n",
      "\u001b[Fno viable alternative at input '[lemma=\"grijnzen|grijpen|grijsdraaien|grijsrijden|grijzen|grillen|grilleren|grimassen|grimeren|grimgrappen|grimlachen|grimmen|grinden|grinniken|grinten|grissen|groeien|groenen|groenlopen|groensparen|groenwassen|groepen|groeperen|groeten|groeven|grollen|grommelen|grommen|grondelen|gronden|grondverven|grondvesten|grootbrengen|groothouden|grootmaken|grootspreken|grosseren|grossieren|grotbiken|grouten|gruiten|gruizen|grunten|grutten|gruwelen|gruwen|gsm\\\\'en|gsm-parkeren|guerrillaschommelen|guillotineren|gulpen|gummen|gunnen|gutsen|gymmen|haaien|haarklieven|haarkloven|haarknippen|haarplukken|haarsnijden|haarwassen|haasten|haatzaaien|habboën|hacken|hagelen|hagen|haken|hakkelen|hakken|hakketakken|hakketeren|hakselen|halaliseren|halen|hallucineren|halsteren|halteren|halveren|halzen|hameren|hamergooien|hamerslingeren|hamsteren|handballen|handboeien|handboogschieten|handcomputeren|handeldrijven|handelen|handen|handenwringen|handhaven|handlezen|handtekenen|handweigeren|handwerken|handzetten|hangen\"pos'; Query could not be parsed.\n",
      "\u001b[Fno viable alternative at input '[lemma=\"hanggliden|hannesen|hanteren|haperen|happen|hapsnappen|haramiseren|harddraven|harden|hardfietsen|hardlopen|hardmaken|hardrijden|haren|harken|harmoniseren|harmoniëren|harnassen|harpen|harpoeneren|harrewarren|harsen|hartenjagen|hashen|hashtaggen|haspelen|haten|havenen|havenwinkelen|hawalabankieren|hazen|headbangen|headhunten|headlinen|healen|hebben|hechten|hedgen|heengaan|heenleiden|heenlopen|heenzenden|heersen|heetlopen|heffen|heggenvlechten|heien|heiligen|heisteren|hekelen|heksen|helen|heliboarden|helikopterskiën|heliskiën|hellen|helleniseren|helpen|hemelen|hemmen|hengelen|hengsten|heraanleggen|heraansluiten|heraanvatten|heraanvragen|heraanvullen|heractiveren|herademen|heralloceren|herasfalteren|herbebossen|herbeginnen|herbegraven|herbekijken|herbeleggen|herbeleven|herbeluisteren|herbenoemen|herbeoordelen|herberekenen|herbergen|herbesmetten|herbespreken|herbesteden|herbestellen|herbestemmen|herbestraten|herbevestigen|herbevoorraden|herbewapenen|herbewerken|herbezien|herbezinnen|herbouwen|herbranden|herbronnen|herbruiken|hercertificeren|herclassificeren\"pos'; Query could not be parsed.\n",
      "\u001b[Fno viable alternative at input '[lemma=\"hercoderen|herconditioneren|herconfigureren|herconstrueren|hercontacteren|hercreëren|herdefiniëren|herdenken|herdistribueren|herdoen|herdopen|herdrukken|herenigen|heretiketteren|herevalueren|herexamineren|herfactureren|herfinancieren|herformuleren|hergebruiken|hergeven|hergieten|hergroeperen|herhalen|herhuisvesten|herhuwen|herijken|herindelen|herindiceren|herinformeren|herinitialiseren|herinneren|herinplannen|herinrichten|herinschrijven|herinstalleren|herinstellen|herintegreren|herinterpreteren|herintreden|herintroduceren|herinvesteren|herinvoeren|herkaderen|herkalibreren|herkansen|herkapitaliseren|herkauwen|herkennen|herkeuren|herkiezen|herklasseren|herknopen|herkrijgen|herkurken|herkwalificeren|herlabelen|herladen|herlanceren|herleggen|herleiden|herleven|herleveren|herlezen|herlokaliseren|herlopen|hermaken|hermeten|hermodelleren|hermonteren|hernationaliseren|hernegotiëren|hernemen|hernieuwen|hernoemen|hernummeren|heronderhandelen|herontdekken|herontwikkelen|heropbouwen|heropenen|heropfrissen|heropladen|heropleven|heroprichten|heropstarten|heroptreden|heropvoeden|heropwaarderen|herordenen|herorganiseren|heroriënteren|heroveren|heroverwegen|herpakken|herplaatsen|herplannen|herplanten|herpositioneren|herprioriteren\"pos'; Query could not be parsed.\n",
      "\u001b[Fno viable alternative at input '[lemma=\"herprofileren|herprogrammeren|herpubliceren|herregistreren|herrekenen|herrijzen|herroepen|herrubriceren|hersamenstellen|herschalen|herschatten|herscheppen|herschikken|herschilderen|herscholen|herschrijven|hersenspoelen|hersmeden|herspelen|herspreken|herstarten|herstellen|herstemmen|herstofferen|herstraten|herstructureren|hersturen|hertalen|hertekenen|hertellen|hertesten|hertrouwen|hertypen|heruitbrengen|heruitgeven|heruitvinden|heruitzenden|hervallen|hervatten|herverdelen|herverkavelen|herverkiezen|herveroveren|herverpakken|herverzekeren|hervestigen|hervetten|hervinden|hervoegen|hervormen|hervullen|herwaarderen|herwateren|herwerken|herwinnen|herzien|herzoeken|heten|hetzen|heuen|heugen|heulen|heupwiegen|hevelen|hielen|hieuwen|highfiven|highlighten|highteaën|hijacken|hijgen|hijsen|hikken|hinderen|hineininterpretieren|hink-stap-springen|hinkelen|hinken|hinkepinken|hinniken|hinten|hippelen|hippen|hissen|historiseren|hitten|hoaxen|hobbelen|hobbyen|hockeyen|hoderen|hoeden|hoeken|hoeladansen|hoepelen|hoeren|hoereren|hoesten|hoeven|hogen\"pos'; Query could not be parsed.\n",
      "\u001b[Fno viable alternative at input '[lemma=\"hogeschoolrijden|hokjesdenken|hokken|holen|hollen|homebleachen|homejacken|homogeniseren|homologeren|hompelen|honen|hongeren|hongerlijden|hongerstaken|honkballen|honken|honoreren|hoofdrekenen|hoofdschudden|hoogachten|hooghouden|hoogschatten|hoogspringen|hooien|hooivorkdarten|hopen|hoppen|hopsen|hordelopen|horden|horen|horten|hospitaliseren|hospiteren|hosselen|hossen|hosten|hotelscheiden|hotmailen|hotsen|hotspotten|hotten|houden|housen|houtbewerken|houthakken|houtsnijden|houtvlotten|houwen|hovenieren|hoveren|hozen|hubhoppen|huichelen|huilebalken|huilen|huishouden|huisvesten|huiven|huiveren|huizen|hukken|huldigen|hullen|humaniseren|hummen|hunkeren|hunten|huppelen|huppen|hupsen|huren|hurken|husselen|hutselen|hutsen|huwen|hybridiseren|hydrateren|hydreren|hydrofoberen|hydrolyseren|hypen|hyperventileren|hypnotiseren|hypostaseren|hypothekeren|hypothetiseren|hyven|i-bankieren|iaën|ibaniseren|idealiseren|identificeren|ideologiseren|idoliseren|ignoreren|ijken|ijlen|ijsberen\"pos'; Query could not be parsed.\n",
      "\u001b[Fno viable alternative at input '[lemma=\"ijsdansen|ijshockeyen|ijskarten|ijsracen|ijsschaatsen|ijsvissen|ijveren|ijzelen|ijzen|illumineren|illustreren|imagineren|imiteren|imkeren|immatriculeren|immigreren|immobiliseren|immuniseren|impacteren|implanteren|implementeren|impliceren|imploderen|imponeren|importeren|impregneren|impressioneren|improviseren|imputeren|inactiveren|inademen|inaugureren|inbadgen|inbakeren|inbakken|inbedden|inbeelden|inbegroten|inbeitelen|inbellen|inbesteden|inbetonneren|inbeuken|inbijten|inbinden|inblazen|inblijven|inblikken|inboeken|inboeten|inboezemen|inboren|inboteren|inbouwen|inbranden|inbreiden|inbreien|inbreken|inbrengen|inbuigen|inbuizen|inbundelen|inburgeren|inbusselen|incalculeren|incarneren|incasseren|inchecken|inchippen|inclineren|includeren|incorporeren|incrimineren|incuberen|indagen|indalen|indammen|indampen|indekken|indelen|indenken|indeuken|indexbeleggen|indexeren|indiceren|indienen|indijken|indikken|individualiseren|indoctrineren|indommelen|indompelen|indoornachtvliegen|indoorroeien|indoorskiën|indoorvliegeren|indopen|indosseren|indraaien|indragen\"pos'; Query could not be parsed.\n"
     ]
    },
    {
     "name": "stdout",
     "output_type": "stream",
     "text": [
      "\u001b[Fno viable alternative at input '[lemma=\"indrammen|indrijven|indringen|indrinken|indrogen|indruisen|indrukken|indrummen|indruppelen|induceren|induffelen|induiken|industrialiseren|indutten|induwen|ineenduiken|ineenflansen|ineengrijpen|ineenknutselen|ineenkrimpen|ineenlopen|ineenschrompelen|ineenschuiven|ineenslaan|ineensteken|ineenstorten|ineenstrengelen|ineenstuiken|ineenvlechten|ineenvloeien|ineenvouwen|ineenzakken|ineenzetten|ineenzijgen|ineenzitten|inenten|inertiseren|infaden|infantiliseren|infecteren|infiltreren|inflateren|influenceren|influisteren|informatiseren|informeren|infrezen|infunderen|infuseren|ingaan|ingeven|ingieten|ingipsen|inglijden|inglippen|ingooien|ingraven|ingraveren|ingriffen|ingrijpen|ingroeien|ingroeven|inhaken|inhakken|inhalen|inhaleren|inhebben|inheien|inhiberen|inhouden|inhouwen|inhuizen|inhuldigen|inhuren|ininkten|initialiseren|initiëren|injagen|injecteren|inkaderen|inkakken|inkalven|inkankeren|inkapselen|inkepen|inkeren|inkerven|inkijken|inklappen|inklaren|inkleden|inklemmen|inkleuren|inkleven|inklinken|inklokken|inkloppen|inknijpen|inknippen|inkohieren\"pos'; Query could not be parsed.\n",
      "\u001b[Fno viable alternative at input '[lemma=\"inkoken|inkomen|inkopen|inkopiëren|inkoppen|inkorten|inkorven|inkrassen|inkrijgen|inkrimpen|inkruisen|inkten|inkuilen|inkwartieren|inladen|inlassen|inlaten|inlegeren|inleggen|inleiden|inlenen|inlepelen|inleren|inleven|inleveren|inlezen|inlichten|inlijsten|inlijven|inlineskaten|inloggen|inlokken|inloodsen|inlopen|inlossen|inloten|inluiden|inmaken|inmasseren|inmengen|inmeten|inmetselen|inmetsen|inmijnen|innaaien|innemen|innen|innerveren|innestelen|innoveren|inoculeren|inoefenen|inoliën|inpakken|inpalmen|inparkeren|inpassen|inpekelen|inpeperen|inperken|inpersen|inpikken|inplaatsen|inplakken|inplannen|inplanten|inpluggen|inpoefen|inpolderen|inponsen|inpraten|inprenten|inprijzen|inprikken|inprogrammeren|inproppen|inramen|inranselen|inregelen|inregenen|inreizen|inrekenen|inrichten|inrijden|inrijgen|inroeien|inroepen|inroesten|inroosteren|inruilen|inruimen|inrukken|inscannen|inschakelen|inschalen|inschatten|inschenken|inschepen|inscheppen|inscherpen\"pos'; Query could not be parsed.\n",
      "\u001b[Fno viable alternative at input '[lemma=\"inscheuren|inschieten|inschikken|inschilderen|inschoppen|inschrijven|inschroeven|inschudden|inschuiven|insealen|inseinen|insemineren|insereren|insijpelen|insinueren|insisteren|inslaan|inslapen|inslenteren|insleuren|inslijpen|inslijten|inslikken|insluimeren|insluipen|insluiten|insluizen|insmelten|insmeren|insmijten|insneeuwen|insnijden|insnoeren|insnuiven|insoppen|insourcen|inspannen|inspecteren|inspelen|inspinnen|inspireren|inspoelen|inspreken|inspringen|inspuiten|instaan|instagrammen|installeren|instampen|instantiëren|instappen|instarten|insteken|instellen|instemmen|instigeren|instijgen|instinken|institueren|institutionaliseren|instoppen|instormen|instorten|instoten|instouwen|instralen|instrijken|instromen|instrooien|instrueren|instrumentaliseren|instrumenteren|instuderen|instuiven|insturen|instuwen|intaken|intanden|intapen|integreren|intekenen|intenderen|intensifiëren|intensiveren|interacteren|interageren|intercepteren|interculturaliseren|interen|interesseren|interfereren|interliniëren|intermediëren|internaliseren|internationaliseren|interneren|internetbankieren|internetbellen|internetdaten|internetgokken\"pos'; Query could not be parsed.\n",
      "\u001b[Fno viable alternative at input '[lemma=\"internetparkeren|internetsparen|internetten|internetwinkelen|interpelleren|interpoleren|interpreteren|interpungeren|interrumperen|interveniëren|interviewen|intikken|intimideren|intippen|intoetsen|intomen|intoneren|intoxiceren|intrappen|intreden|intrekken|intrigeren|introduceren|introeven|introuwen|intuberen|intunen|intypen|inunderen|invalideren|invallen|invangen|invaren|invechten|invegen|inventariseren|inverdienen|inveren|inverteren|investeren|investigeren|invetten|inviteren|invlechten|invliegen|invloeien|invochten|invoegen|invoelen|invoeren|involveren|invorderen|invouwen|invreten|invriezen|invullen|inwaaien|inwachten|inwandelen|inwassen|inwateren|inwegen|inweken|inwerken|inwerpen|inweven|inwijden|inwijken|inwikkelen|inwilligen|inwinden|inwinnen|inwisselen|inwonen|inwortelen|inwrijven|inzaaien|inzagen|inzakken|inzalven|inzamelen|inzegenen|inzeilen|inzenden|inzepen|inzetten|inzien|inzijgen|inzingen|inzinken|inzitten|inzoomen|inzouten|inzuigen|inzwachtelen|inzwemmen|inzweren|ioniseren|ipadden|iriseren\"pos'; Query could not be parsed.\n",
      "\u001b[Fno viable alternative at input '[lemma=\"ironiseren|irrigeren|irriteren|islambashen|islamiseren|isoleren|isomeriseren|italianiseren|itereren|jachten|jachtspringen|jagen|jailbreaken|jakhalzen|jakkeren|jaknikken|jammen|jammeren|janken|japen|jassen|jatten|jeinen|jengelen|jennen|jeremiëren|jetgrouten|jetsetten|jetskiën|jeu-de-boulen|jeuken|jeuzelen|jibben|jij-jouen|jijen|jobben|jobhoppen|jodelen|joderen|joelen|joepen|joggen|jojodiëten|jojoën|jokeren|jokken|jolen|jollen|jonassen|jongen|jongleren|jonnen|jouen|jouwen|jouïsseren|joyriden|joyrijden|jubelen|jubileren|judassen|judoën|juichen|jukken|jumpen|jumpstylen|jureren|juridiseren|justeren|justificeren|justifiëren|jutten|kaaien|kaalkappen|kaalknippen|kaalplukken|kaalscheren|kaalslaan|kaalvreten|kaarden|kaarten|kaartleggen|kaartlezen|kaartspelen|kaasmaken|kaatseballen|kaatsen|kabbelen|kachelen|kadastreren|kaderen|kadreren|kafferen|kaften|kajakken|kajieten|kakelen|kaken|kakken|kalanderen|kalefateren\"pos'; Query could not be parsed.\n",
      "\u001b[Fno viable alternative at input '[lemma=\"kaleien|kalen|kalfateren|kalibreren|kalken|kallegaaien|kallen|kalligraferen|kalmeren|kaltstellen|kalven|kalveren|kamen|kammen|kampen|kamperen|kanaalzwemmen|kanaliseren|kandelaberen|kandelaren|kandideren|kanen|kangoeroewonen|kankeren|kannibaliseren|kanonneren|kanovaren|kanoën|kantelen|kanten|kantklossen|kantonneren|kantrechten|kantwerken|kapen|kapitaliseren|kapittelen|kapotbelasten|kapotbijten|kapotdumpen|kapotgaan|kapotgooien|kapotknippen|kapotmaken|kapotrijden|kapotscheuren|kapotschieten|kapotslaan|kapotsmijten|kapotsnijden|kapotspelen|kapotspringen|kapottrappen|kapottrekken|kapotvallen|kapotvriezen|kapotwerken|kapotzappen|kappen|kapseizen|karafferen|karakteriseren|karamelliseren|karaoken|karikaturiseren|karnen|karpervissen|karren|kartelen|karten|karteren|kartonneren|karweien|kasjeren|kasseien|kassen|kastijden|katalyseren|katapulteren|katheteriseren|katknuppelen|katten|katverteren|kauwen|kavelen|kazakdraaien|kazen|kazerneren|keepen|keetdrinken|keffen|kegelen|keggen|keilen|keimen|kelderen|kelen|kenen|kenmerken|kennen\"pos'; Query could not be parsed.\n",
      "\u001b[Fno viable alternative at input '[lemma=\"kennisgeven|kennismaken|kennisnemen|kenschetsen|kentekenen|kentekenparkeren|kenteren|kepen|keperen|keren|kerken|kerkeren|kermen|kermissen|kerstenen|kerstkamperen|kerstshoppen|kerven|ketenen|ketsen|ketteren|kettingroken|keuen|keuren|keurturnen|keutelen|keuvelen|keveren|keyloggen|kezen|kibbelen|kickboksen|kicken|kidnappen|kieken|kielen|kielhalen|kiemen|kienen|kiepen|kieperen|kieren|kieskauwen|kietelen|kiezen|kiften|kijken|kijven|kikken|kikkeren|killen|kimmen|kindjewiegen|kippen|kirren|kissebissen|kissen|kisten|kiteboarden|kiteskaten|kiteskiën|kitesurfen|kitschkoken|kitsen|kittelen|kitten|klaarhangen|klaarhouden|klaarkomen|klaarkrijgen|klaarleggen|klaarliggen|klaarmaken|klaarspelen|klaarstaan|klaarstomen|klaarzetten|klaarzitten|klabetteren|kladden|kladderen|kladschilderen|klagen|klakken|klampen|klaplopen|klappen|klapperen|klappertanden|klapwieken|klaren|klasseren|klateren|klauteren|klauwen|klaverjassen|kledderen|kleden|kleermaken|kleffen\"pos'; Query could not be parsed.\n",
      "\u001b[Fno viable alternative at input '[lemma=\"kleiduifschieten|kleiduivenschieten|kleien|kleineren|kleinkrijgen|kleinmaken|kleinsnijden|kleinzen|kleischieten|klemmen|klemrijden|klemzetten|klepelen|kleppen|klepperen|klessebessen|kletsen|kletteren|kleumen|kleunen|kleuren|kleuteren|kleven|kliederen|klieken|klieren|klieven|klikken|klikklakken|klikodriften|klimatiseren|klimmen|klingelen|klinken|klissen|klisteren|klitten|klodderen|kloeten|klokken|klokkenluiden|klokkijken|kloklezen|klonen|kloneren|klonteren|kloofdenken|klooien|kloothannesen|klootschieten|kloppen|klossen|kloten|klotsen|kloven|kluisteren|kluiven|kluizen|klunen|klungelen|klunzen|kluppelen|klussen|klutsen|knabbelen|knagen|knakenjagen|knakken|knallen|knappen|knapperen|knarpen|knarsen|knarsetanden|knauwen|knechten|kneden|knellen|knerpen|knersen|knetteren|kneuten|kneuteren|kneuzen|knevelen|knibbelen|kniebanden|knielen|kniezen|knijpen|knijperen|knikkebenen|knikkebollen|knikken|knikkeren|knipogen|knippen|knipperen|knisperen|knisteren\"pos'; Query could not be parsed.\n",
      "\u001b[Fno viable alternative at input '[lemma=\"knobbelen|knobelen|knoeien|knokken|knopen|knoppen|knorren|knoteren|knotszwaaien|knotten|knuffelen|knuffelturnen|knuppelen|knutselen|koeioneren|koekeloeren|koeken|koekhappen|koelen|koeren|koerieren|koersen|koesteren|koeteren|koeterwalen|koetsen|koffiebranden|koffiedrinken|koffiezetten|kogelen|kogelslingeren|kogelstoten|koken|kokerdenken|koketteren|kokhalzen|kokkelen|kokkerellen|kokkeren|kolderen|kolken|kollen|kolonialiseren|koloniseren|kolven|komen|kommaneuken|konfijten|koningschieten|konkelen|konkelfoezen|konterfeiten|kontlikken|kontneuken|konttrappen|konvooieren|kooidansen|kooien|koorddansen|koorzingen|kopen|koperen|kopiëren|kopjeduikelen|koppelen|koppeltjeduikelen|koppen|koppenlopen|koppensnellen|koprollen|kopschudden|korfballen|korrelen|korren|korsten|korten|kortsluiten|kortstaarten|kortwieken|korven|kosten|kostumeren|koten|koteren|kotsen|koukleumen|kouten|kouvatten|kozen|kraaien|krabbelen|krabben|krachttrainen|krakelen|kraken|krakken|kralen|kramen|krammen|krampen\"pos'; Query could not be parsed.\n",
      "\u001b[Fno viable alternative at input '[lemma=\"kransen|krasselen|krassen|krauwen|krengen|krenken|krenten|krentenieren|kreppen|kretsen|kreukelen|kreuken|kreunen|kreupelen|krevelen|kribbebijten|kribbelen|kribben|kriebelen|krieken|krielen|kriepen|krieuwelen|krijgen|krijsen|krijten|krikken|krikkrakken|krimpdenken|krimpen|kringelen|krinkelen|krioelen|kriskrassen|krissen|kristalliseren|kritiseren|kroeglopen|kroelen|kroezelen|kroezen|kroien|krollen|krombuigen|kromgroeien|kromliggen|krommen|krompraten|kromsluiten|kromtrekken|kronen|kronkelen|kroppen|kruiden|kruien|kruimelen|kruimen|kruipen|kruisboogschieten|kruisen|kruisigen|kruisjassen|kruiven|krukken|krullen|kuberen|kuchen|kuieren|kuilen|kuipen|kuisen|kuitenbijten|kuitschieten|kuiven|kukelekuen|kukelen|kullen|kunnen|kunstrijden|kunstvliegen|kunstzwemmen|kuren|kurken|kussen|kwaadspreken|kwadrateren|kwadreren|kwaken|kwakkelen|kwakken|kwakzalven|kwalificeren|kwalsteren|kwanselen|kwantificeren|kwantiseren|kwartetten|kwebbelen|kweken|kwekken\"pos'; Query could not be parsed.\n",
      "\u001b[Fno viable alternative at input '[lemma=\"kwelen|kwellen|kwetsen|kwetteren|kwezelen|kwijlen|kwijnen|kwijten|kwijtmaken|kwijtraken|kwijtschelden|kwijtspelen|kwikkelen|kwinkeleren|kwinken|kwispelen|kwispelstaarten|kwissen|kwiteren|kyotoën|laagvliegen|laaien|labelen|labeuren|laboreren|lachen|lacteren|ladderen|laden|laken|lakken|lallen|lamballen|lambriseren|lamelleren|lamenteren|lamineren|lamleggen|lammeren|lamslaan|lanceren|landen|landlopen|landmeten|langebaanschaatsen|langen|langetermijndenken|langetermijnsparen|langlaufen|langsbrengen|langsdrijven|langsfietsen|langsgaan|langsglijden|langskomen|langslopen|langsrazen|langsrennen|langsrijden|langsschieten|langssturen|langstrekken|langstuderen|langsvaren|langsvliegen|langswippen|lannen|lanteren|lanterfanten|lappen|lapzalven|larderen|larpen|lasergamen|laserscannen|lasershooten|lassen|lassowerpen|lassoën|lasteren|lastigvallen|laten|latiniseren|latten|launchen|lauweren|laven|laveren|lawaaien|laxeren|lay-outen|lazeren|lazerstralen|laïciseren|leasen|lebberen|ledigen|leegblazen|leegbloeden|leegdrinken\"pos'; Query could not be parsed.\n"
     ]
    },
    {
     "name": "stdout",
     "output_type": "stream",
     "text": [
      "\u001b[Fno viable alternative at input '[lemma=\"leegeten|leeggieten|leeggooien|leeghalen|leegkieperen|leegkopen|leegleasen|leeglepelen|leeglopen|leegmaken|leegplukken|leegplunderen|leegpompen|leegrijden|leegroven|leegruimen|leegschenken|leegscheppen|leegschieten|leegschrapen|leegschudden|leegspuiten|leegstaan|leegstelen|leegstorten|leegstromen|leegtrekken|leegvissen|leegzuigen|leerlooien|leertouwen|leewieken|legaliseren|legateren|legen|legeren|leggen|legitimeren|legoën|leiden|leidinggeven|leken|lekken|lekkerbekken|lekprikken|lekrijden|lekschieten|lekslaan|leksteken|lellen|lemen|lenen|lengen|lenigen|lenzen|lepelen|leppen|leraren|leren|lernen|lesgeven|lessen|letsen|letten|letteren|lettergieten|letterzetten|letterziften|leunen|leunstoelreizen|leuren|leuteren|levelen|leven|levensloopsparen|leveren|lezen|liberaliseren|licenseren|licentiëren|lichten|liefhebben|liefhebberen|liefkozen|liegen|liften|ligfietsen|liggen|lijden|lijken|lijmen|lijndansen|lijnen|lijntekenen|lijntrekken|lijsten|lijstshoppen|lijstspringen|liken|likkebaarden\"pos'; Query could not be parsed.\n",
      "\u001b[Fno viable alternative at input '[lemma=\"likken|lillen|limiteren|lineariseren|linedancen|liniëren|linkeballen|linken|linksrijden|liplezen|lippen|lippenstiften|liquideren|lispelen|lithograferen|livestreamen|liëren|lobberen|lobbyen|locken|lodderen|lodderogen|loden|loeien|loenen|loensen|loeren|loerogen|loeven|logen|logenstraffen|logeren|loggen|lokaliseren|lokken|lollen|lompen|lonen|longboarden|longeren|lonken|loochenen|loodsen|looien|loomen|lopen|lorren|losbarsten|losbeuken|losbinden|losbranden|losbreken|losdraaien|losgaan|losgespen|losgooien|loshaken|loshalen|loshangen|loskloppen|losknippen|losknopen|loskomen|loskopen|loskoppelen|loskrijgen|loslaten|losliggen|loslopen|losmaken|losnemen|lospeuteren|lospraten|losraken|losrijden|losroeren|losrukken|losscheuren|losschieten|losschroeven|losschudden|lossen|losslaan|lossnijden|losspringen|losstaan|losstormen|lostornen|lostrekken|lostrillen|losvijzen|losvliegen|loswaaien|losweken|loswerken|loswoelen|losworstelen|loswrikken|loswringen|loswroeten\"pos'; Query could not be parsed.\n",
      "\u001b[Fno viable alternative at input '[lemma=\"loswurmen|loszingen|loszitten|loten|loungen|louteren|loven|lozen|lubben|lubberen|luchten|luchtfietsen|luiden|luien|luieren|luieriken|luiken|luilakken|luilekkeren|luimen|luisteren|luistervinken|luiwammesen|luizen|lukken|lullen|lumbecken|lummelen|lunchen|lunchwandelen|lunzen|lurken|lusten|lutsen|luwen|luxespijbelen|lynchen|lyofiliseren|m-bankieren|maaien|maathouden|maatslaan|mabelen|macadamiseren|macereren|machineren|machineschrijven|machtigen|machtsverheffen|macrameeën|maffen|magnetiseren|mailen|mainteneren|majoreren|makelen|maken|malen|malfunctioneren|mallen|maltraiteren|malverseren|managen|mandateren|mandiën|manen|mangelen|manicuren|manifesteren|manipuleren|manken|mankeren|manliften|mannen|manoeuvreren|manumitteren|mappen|maquilleren|marchanderen|marcheren|maren|marginaliseren|marineren|markeren|marketen|markten|marlen|marmeren|maroufleren|marren|martelen|maskeren|massacreren|masseren|massificeren|masten|masteren|mastieken|mastklimmen|masturberen\"pos'; Query could not be parsed.\n",
      "\u001b[Fno viable alternative at input '[lemma=\"matchen|matchracen|matennaaien|materialiseren|mathematiseren|matigen|matsen|matten|matteren|mauwen|maximaliseren|maximeren|mazelen|mazen|mazzelen|meanderen|mechaniseren|medebrengen|mededelen|mededingen|medeleven|medeondertekenen|medeplegen|medewerken|medialiseren|mediaten|mediatiseren|medicaliseren|medicineren|mediteren|mediëren|mee-eten|mee-evolueren|mee-investeren|meeademen|meebakken|meebeleven|meebepalen|meeberekenen|meebeslissen|meebestellen|meebesturen|meebetalen|meebewegen|meebidden|meebieden|meeblazen|meeblèren|meebouwen|meebrengen|meebrullen|meebuigen|meeconsolideren|meedansen|meedeinen|meedelen|meedenken|meedingen|meediscussiëren|meedoen|meedraaien|meedragen|meedrijven|meedrinken|meefeesten|meefietsen|meefinancieren|meegaan|meegenieten|meegeven|meeglijden|meegluren|meegolven|meegraaien|meegrissen|meegroeien|meehebben|meehelpen|meehuilen|meekelen|meekijken|meeklappen|meekleuren|meeklinken|meekoken|meekomen|meekrijgen|meekunnen|meekwelen|meelachen|meeleven|meeleveren|meelezen|meeliften|meelijden|meelokken|meeloodsen|meelopen|meeloten|meeluisteren\"pos'; Query could not be parsed.\n",
      "\u001b[Fno viable alternative at input '[lemma=\"meelunchen|meemaken|meenemen|meeneuriën|meeonderhandelen|meeondertekenen|meeontbijten|meeontwerpen|meeontwikkelen|meeorganiseren|meepakken|meepikken|meepraten|meeprofiteren|meerderen|meeregeren|meereizen|meerekenen|meergeneratiewonen|meerijden|meeroken|meeschilderen|meeschrijven|meesjouwen|meeslepen|meesleuren|meesmokkelen|meesmuilen|meespelen|meespreken|meespringen|meestaken|meestappen|meestemmen|meesteren|meestijgen|meestrijden|meestromen|meesturen|meesurfen|meetekenen|meetellen|meetorsen|meetrainen|meetrekken|meetrillen|meetronen|meevallen|meevaren|meevechten|meeverdedigen|meeveren|meeverhuizen|meeverkopen|meeverzekeren|meevieren|meevliegen|meevoelen|meevoeren|meevoetballen|meevolgen|meevragen|meewaaien|meewandelen|meewegen|meewerken|meewillen|meezeilen|meezenden|meezeulen|meezingen|meezitten|meezoeken|meezuigen|meezwemmen|meieren|mekken|mekkeren|melden|melen|melken|memoreren|memoriseren|menageren|mendelen|menen|meneren|mengelen|mengen|meniën|mennen|mensendiecken|menstrueren|meppen|meren|mergelen|merken|messen|mesten|metaboliseren\"pos'; Query could not be parsed.\n",
      "\u001b[Fno viable alternative at input '[lemma=\"metadateren|metalliseren|metamorfoseren|metastaseren|meten|metrosurfen|metselen|metsen|meubelen|meubelmaken|meubileren|meuken|meuren|mevrouwen|miauwen|microbankieren|microbloggen|microfilmen|microscopiseren|microwonen|middagmalen|middelen|midgetgolfen|midwinterblazen|miegelen|miegen|miepen|mieren|mierenneuken|mieteren|miezelen|miezemuizen|miezeren|migreren|mijden|mijmeren|mijnen|mijten|mijteren|mikken|milderen|militariseren|militeren|millimeteren|milquetiseren|mimen|minachten|minderen|mineraliseren|miniaturiseren|minimaliseren|miniseren|minnekozen|minnen|minoriseren|misachten|misbruiken|misdelen|misdoen|misdragen|misdrijven|misduiden|misgaan|misgokken|misgooien|misgrijpen|misgunnen|mishagen|mishandelen|mishoren|misinterpreteren|miskennen|miskijken|miskleunen|miskomen|miskopen|misleggen|misleiden|mislezen|mislopen|mislukken|mismaken|mismeesteren|misnoegen|mispakken|mispeuteren|misprijzen|misraden|misrekenen|misschieten|missen|missioneren|misslaan|misstaan|misstappen|mistasten|misten|mistrappen|mistrouwen|mistypen\"pos'; Query could not be parsed.\n",
      "\u001b[Fno viable alternative at input '[lemma=\"misvallen|misvatten|misverstaan|misvormen|miszeggen|miszien|mitigeren|mitrailleren|mitsen|mixen|mms\\\\'en|mobben|mobiliseren|modaliseren|modderen|moddergooien|moddervechten|modelleren|modeltekenen|modelvliegen|modereren|moderniseren|modificeren|moduleren|moederen|moeien|moeren|moeten|moffelen|mogen|moireren|mokeren|mokken|molesteren|mollen|molmen|mommelen|mompelen|monden|mondialiseren|monetariseren|monetiseren|monitoren|monkelen|monken|monopoliseren|monopoliën|monopolyen|monoskiën|monsteren|monteren|montignaccen|mooipraten|mooizitten|moonen|moorden|moppen|mopperen|moraliseren|morfen|morrelen|morren|morsen|mortelen|morzelen|moshen|mosselrapen|motiveren|motorcrossen|motoriseren|motorkoken|motorracen|motorrennen|motorrijden|motorvliegen|motorzweven|motregenen|motsen|motten|mouleren|mountainbiken|mousseren|mouten|moven|moveren|msn\\\\'en|muggenziften|muiken|muilbanden|muilkorven|muiten|muizen|mulchen|multi-jobben|multipliceren|multitasken|mummelen|mummificeren|munten|murmelen\"pos'; Query could not be parsed.\n",
      "\u001b[Fno viable alternative at input '[lemma=\"murmureren|musiceren|muteren|mutileren|mutualiseren|muurklimmen|muurschilderen|muurschrijven|mysteryshoppen|mystificeren|mythologiseren|mêleren|na-apen|na-echoën|na-ijlen|na-isoleren|naaien|naaktlopen|naaktzwemmen|naamtekenen|naasten|nababbelen|nabauwen|nabellen|nabeschouwen|nabespreken|nabestellen|nabetalen|nabewerken|nabijkomen|nablijven|nabloeden|nabloeien|nablussen|nabootsen|naborduren|naborrelen|nabouwen|nabranden|nabrengen|nachecken|nachtbraken|nachtvliegen|nachtvliegeren|nacijferen|nadeinen|nadenken|naderen|nadoen|nadragen|nadreunen|nadrinken|nadrogen|nadrukken|nadruppelen|nafluiten|nagaan|nagalmen|nagapen|nagaren|nagelbijten|nagelen|nagenieten|nageven|naggen|nagloeien|nahijgen|nahouden|najagen|najouwen|nakaarten|nakauwen|naken|nakeuvelen|nakijken|naklinken|nakomen|nalaten|naleven|naleveren|nalezen|nalopen|namaken|nameten|naogen|napluizen|napperen|napraten|narcotiseren|naregelen|nareizen|narekenen|narennen|narijden|naroepen|narren|nasaleren|naschilderen|nascholen|naschrijven\"pos'; Query could not be parsed.\n",
      "\u001b[Fno viable alternative at input '[lemma=\"nasjen|naslaan|nasmeulen|nasnikken|nasnuffelen|naspelen|naspeuren|naspoelen|nasporen|naspreken|nassen|nastaren|nastreven|nasturen|nasynchroniseren|natafelen|natekenen|natellen|natgooien|nathouden|nationaliseren|natmaken|natrappen|natregenen|natrekken|natrillen|natscheren|natspatten|natspetteren|natspuiten|natten|naturaliseren|naturen|navelstaren|navertellen|navetteren|navigeren|navlooien|navoelen|navolgen|navorderen|navorsen|navragen|navullen|navuren|nawegen|nawerken|nawerpen|nawijzen|nawuiven|nazeggen|nazenden|nazetten|nazien|nazinderen|nazingen|nazitten|nazoeken|nazwaaien|nederdalen|nederzetten|neerbliksemen|neerbranden|neerbuigen|neerdalen|neerdrukken|neerduwen|neerdwarrelen|neergaan|neergooien|neergutsen|neerhalen|neerhangen|neerhurken|neerkijken|neerklappen|neerkletsen|neerkletteren|neerknallen|neerknielen|neerknuppelen|neerkomen|neerkrabbelen|neerkwakken|neerlaten|neerleggen|neerliggen|neermaaien|neermeppen|neerpennen|neerplanten|neerplenzen|neerploffen|neerpoten|neerregenen|neersabelen|neerschieten|neerschijnen|neerschrijven|neerschudden\"pos'; Query could not be parsed.\n",
      "\u001b[Fno viable alternative at input '[lemma=\"neersijpelen|neerslaan|neersmijten|neersteken|neerstorten|neerstoten|neerstrijken|neerstromen|neertellen|neertrekken|neervallen|neervellen|neervlijen|neerwerpen|neerzakken|neerzetten|neerzien|neerzijgen|neerzinken|neerzitten|negeren|negligeren|negotiëren|neigen|nekken|neknominaten|neknomineren|nemen|neppen|nerden|nerven|nestelen|netbankieren|netcheaten|netelen|netsurfen|netten|netwerken|neuken|neuren|neuriën|neurotiseren|neuspeuteren|neutraliseren|neuzelen|neuzen|nevelen|niesen|nieten|nietsnutten|nieuwbouwen|nieuwjaarszingen|nieuwslezen|niezen|nijdassen|nijgen|nijpen|nikken|niksdoen|niksen|nippen|nitreren|niveaulezen|nivelleren|niëlleren|noden|nodigen|noemen|nokken|nomineren|noodzaken|nopen|noppen|normaliseren|normeren|noteren|notificeren|notuleren|nuanceren|nummeren|nummerplaatrijden|nutten|nuttigen|objectiveren|obsederen|observeren|obstrueren|occuperen|octaveren|octrooieren|oculeren|odoriseren|oefenen|oeken|oeteren|offeren|officialiseren|officiëren|offpisteskiën|offreren\"pos'; Query could not be parsed.\n"
     ]
    },
    {
     "name": "stdout",
     "output_type": "stream",
     "text": [
      "\u001b[Fno viable alternative at input '[lemma=\"ogen|ohaën|oliën|omarmen|ombatterijen|omberen|ombinden|ombladeren|omblazen|omboeken|omboorden|ombouwen|ombrengen|ombuigen|omcirkelen|omdelen|omdenken|omdijken|omdoen|omdolen|omdonderen|omdopen|omdraaien|omdragen|omduikelen|omduwen|omdwalen|omfietsen|omflikkeren|omfloersen|omgaan|omgespen|omgeven|omgieten|omgooien|omgorden|omgrachten|omgraven|omgrenzen|omhakken|omhalen|omhangen|omhebben|omheinen|omhelzen|omhoogbrengen|omhoogdoen|omhoogdrijven|omhoogdrukken|omhoogduwen|omhooggaan|omhoogglijden|omhooggooien|omhooghalen|omhooghangen|omhoogheffen|omhooghijsen|omhooghouden|omhoogkijken|omhoogklappen|omhoogklimmen|omhoogkomen|omhoogkruipen|omhoogkrullen|omhooglopen|omhoognivelleren|omhoogpersen|omhoogpompen|omhoogrijden|omhoogschieten|omhoogschroeven|omhoogschuiven|omhoogslaan|omhoogspringen|omhoogspuiten|omhoogsteken|omhoogstijgen|omhoogstuwen|omhoogtakelen|omhoogtillen|omhoogtrekken|omhoogvallen|omhoogvliegen|omhoogvoeren|omhoogwerken|omhoogwijzen|omhoogzetten|omhoogzitten|omhouden|omhouwen|omhullen|omhulzen|omitteren|omkaderen|omkantelen|omkappen|omkasten|omkatten|omkegelen|omkeren\"pos'; Query could not be parsed.\n",
      "\u001b[Fno viable alternative at input '[lemma=\"omkeuren|omkiepen|omkieperen|omkijken|omklappen|omkleden|omklemmen|omklinken|omklooien|omknellen|omkomen|omkopen|omkransen|omkringen|omkrullen|omkukelen|omlaagbrengen|omlaaggaan|omlaagglijden|omlaaghalen|omlaaghangen|omlaagkijken|omlaagkomen|omlaagtrekken|omlaagvallen|omleggen|omleiden|omlijnen|omlijsten|omlopen|ommantelen|ommuren|omnaaien|omnummeren|ompakken|ompalen|omploegen|omplooien|ompolen|ompraten|omranden|omrasteren|omreizen|omrekenen|omrijden|omringen|omroepen|omroeren|omrollen|omruilen|omschakelen|omscheppen|omschieten|omscholen|omschrijven|omschudden|omsingelen|omslaan|omslingeren|omsluieren|omsluiten|omsmeden|omsmelten|omsmijten|omsnoeren|omspannen|omspelden|omspelen|omspellen|omspinnen|omspitten|omspoelen|omspringen|omstaan|omstellen|omstikken|omstoten|omstralen|omstrengelen|omstulpen|omstuwen|omtollen|omtoveren|omtrappen|omtrekken|omtuinen|omturnen|omvallen|omvangen|omvaren|omvatten|omverblazen|omverduwen|omvergooien|omverhalen|omverlopen|omverlullen|omverrennen|omverrijden|omverschieten\"pos'; Query could not be parsed.\n",
      "\u001b[Fno viable alternative at input '[lemma=\"omverschoppen|omverslaan|omverstoten|omvertrekken|omvervallen|omverwaaien|omverwerpen|omvlaggen|omvliegen|omvormen|omvouwen|omwaaien|omwallen|omwandelen|omwassen|omwenden|omwentelen|omwerken|omwerpen|omwikkelen|omwinden|omwippen|omwisselen|omwoelen|omwolken|omwringen|omwroeten|omzadelen|omzagen|omzeilen|omzetten|omzien|omzitten|omzomen|omzwaaien|omzwachtelen|omzwalken|omzwenken|omzwermen|omzwerven|omzweven|omzwikken|onaneren|onderbelichten|onderbenutten|onderbetalen|onderbinden|onderbouwen|onderbreken|onderbrengen|onderdekken|onderdoen|onderdompelen|onderdrukken|onderduiken|onderduwen|onderfinancieren|ondergaan|ondergraven|onderhandelen|onderheien|onderhoren|onderhouden|onderhuren|onderkappen|onderkelderen|onderkennen|onderkoelen|onderkotsen|onderkruipen|onderleggen|onderliggen|onderlijnen|onderlopen|ondermengen|ondermijnen|ondernemen|onderplassen|onderploegen|onderpresteren|onderrichten|onderroeren|onderschatten|onderscheiden|onderscheppen|onderschijten|onderschikken|onderschoeien|onderschoren|onderschragen|onderschrijden|onderschrijven|ondersneeuwen|onderspannen|onderspitten|onderspuiten|onderstaan|onderstellen|ondersteunen|onderstoppen\"pos'; Query could not be parsed.\n",
      "\u001b[Fno viable alternative at input '[lemma=\"onderstrepen|onderstutten|ondertekenen|ondertitelen|ondertrouwen|ondertunnelen|onderuitgaan|onderuitglijden|onderuithalen|onderuitschoppen|onderuitzakken|ondervangen|onderverdelen|onderverhuren|ondervinden|ondervragen|onderwaarderen|onderwerken|onderwerpen|onderwijzen|onderzetten|onderzoeken|onduleren|onestopshoppen|onlinegamen|onlineshoppen|onlinewinkelen|ont-sms\\\\'en|ontaarden|ontbenen|ontberen|ontbieden|ontbijten|ontbinden|ontbladeren|ontbloeien|ontbloten|ontboezemen|ontbolsteren|ontborden|ontbossen|ontbramen|ontbranden|ontbreken|ontbundelen|ontcijferen|ontdarmen|ontdekken|ontdoen|ontdooien|ontdopen|ontdoven|ontdubbelen|ontduiken|onteigenen|onteren|onterven|ontfermen|ontfutselen|ontgaan|ontgassen|ontgelden|ontgiften|ontginnen|ontglijden|ontglippen|ontgloeien|ontgoochelen|ontgoogelen|ontgraten|ontgraven|ontgrendelen|ontgrenzen|ontgrijzen|ontgroeien|ontgroenen|ontgronden|onthaasten|onthalen|onthalzen|onthanen|ontharden|ontharen|onthechten|ontheffen|ontheiligen|onthoofden|onthouden|onthullen|onthutsen|ontijzen|ontijzeren|ontkalken|ontkennen|ontkerstenen|ontketenen|ontkiemen|ontkleden|ontkleien|ontkleuren\"pos'; Query could not be parsed.\n",
      "\u001b[Fno viable alternative at input '[lemma=\"ontknopen|ontkolen|ontkomen|ontkoppelen|ontkrachten|ontkroezen|ontkurken|ontladen|ontlakken|ontlasten|ontlaten|ontleden|ontlenen|ontleren|ontlokken|ontlopen|ontluchten|ontluiken|ontluisteren|ontluizen|ontmaagden|ontmaken|ontmannen|ontmantelen|ontmaskeren|ontmengen|ontmenselijken|ontmeren|ontmiddelen|ontmijnen|ontmoedigen|ontmoeten|ontmossen|ontmunten|ontmythologiseren|ontnemen|ontnuchteren|ontpakken|ontpitten|ontplanten|ontploffen|ontplooien|ontpolderen|ontpoppen|ontpronken|ontraadselen|ontraden|ontrafelen|ontredderen|ontregelen|ontrieven|ontroeren|ontroesten|ontrollen|ontromen|ontroven|ontruimen|ontruizen|ontrukken|ontschepen|ontschieten|ontschminken|ontschorsen|ontschubben|ontschuldigen|ontseinen|ontsieren|ontslaan|ontslakken|ontslapen|ontsleutelen|ontslippen|ontsluieren|ontsluiten|ontsmetten|ontsnappen|ontsnipperen|ontspannen|ontsparen|ontspiegelen|ontspinnen|ontsporen|ontspringen|ontspruiten|ontspullen|ontstaan|ontstapelen|ontsteken|ontstelen|ontstellen|ontstemmen|ontstichten|ontstijgen|ontstoffen|ontstoppen|ontstoren|ontstressen|onttakelen|onttoveren|onttrekken\"pos'; Query could not be parsed.\n",
      "\u001b[Fno viable alternative at input '[lemma=\"onttronen|onttrutten|onttuttelen|ontvagen|ontvallen|ontvangen|ontveinzen|ontvellen|ontvetten|ontvinken|ontvlaggen|ontvlammen|ontvlechten|ontvlekken|ontvlezen|ontvlieden|ontvliezen|ontvloeien|ontvlokken|ontvlooien|ontvluchten|ontvochtigen|ontvoeren|ontvolgen|ontvolken|ontvoogden|ontvouwen|ontvreemden|ontvrienden|ontvriezen|ontvrouwelijken|ontwaken|ontwapenen|ontwaren|ontwarren|ontwasemen|ontwassen|ontwateren|ontweien|ontweldigen|ontwennen|ontwerpen|ontwijden|ontwijken|ontwikkelen|ontwoekeren|ontwormen|ontworstelen|ontwortelen|ontwrichten|ontwringen|ontzadelen|ontzamelen|ontzegelen|ontzeggen|ontzenuwen|ontzetten|ontzielen|ontzien|ontzilten|ontzinken|ontzippen|ontzorgen|ontzouten|ontzuilen|ontzuren|ontzwangeren|ontzwavelen|ontzwellen|onweren|oogsten|oordelen|oorlogen|oormerken|opaliseren|opbaggeren|opbakken|opbaren|opbellen|opbergen|opbeuren|opbiechten|opbieden|opbinden|opblazen|opbleken|opblijven|opblinken|opbloeien|opboenen|opboeren|opboksen|opbollen|opboren|opborrelen|opborstelen|opbouwen|opbranden|opbreken|opbrengen\"pos'; Query could not be parsed.\n",
      "\u001b[Fno viable alternative at input '[lemma=\"opbruisen|opdagen|opdekken|opdelen|opdelven|opdeppen|opdienen|opdiepen|opdirken|opdissen|opdoeken|opdoemen|opdoen|opdoffen|opdonderen|opdraaien|opdragen|opdraven|opdreggen|opdreunen|opdrijven|opdringen|opdrinken|opdrogen|opdrukken|opduikelen|opduiken|opduvelen|opduwen|opdwarrelen|opdweilen|opeendringen|opeenhopen|opeenklemmen|opeenpakken|opeenpersen|opeenproppen|opeenstapelen|opeenvolgen|opeisen|openbaren|openbarsten|openblijven|openbloeien|openbranden|openbreken|opendoen|opendraaien|openduwen|openen|opengaan|openglijden|opengooien|opengraven|openhakken|openhalen|openhangen|openhouden|openkappen|openklappen|openklikken|openknippen|openknopen|openkrabben|openkrassen|openlaten|openleggen|openliggen|openmaken|openpeuteren|openplooien|openrijten|openritsen|openrukken|openscheuren|openschieten|openschuiven|openslaan|openslijpen|opensluiten|opensmijten|opensnijden|openspalken|opensperren|opensplijten|openspreiden|openspringen|openstaan|openstellen|openstoten|opentrappen|opentrekken|openvallen|openvliegen|openvouwen|openwaaien|openwaterzwemmen|openwerken|openwerpen|openwrijven\"pos'; Query could not be parsed.\n",
      "\u001b[Fno viable alternative at input '[lemma=\"openwrikken|openwringen|openzagen|openzakken|openzetten|openzwaaien|operationaliseren|opereren|opeten|opfietsen|opflakkeren|opfleuren|opflikkeren|opflitsen|opfluffen|opfokken|opfrissen|opfrommelen|opgaan|opgebruiken|opgeilen|opgeven|opgieten|opgloeien|opgooien|opgraven|opgroeien|ophakken|ophalen|ophangen|ophebben|opheffen|ophelderen|ophemelen|opheuen|ophijsen|ophitsen|ophoepelen|ophoesten|ophogen|ophokken|ophollen|ophopen|ophoren|ophouden|opiniepeilen|opiniëren|opjagen|opjuinen|opjutten|opkalefateren|opkalfateren|opkammen|opkankeren|opkijken|opkikkeren|opklappen|opklaren|opklauteren|opkleden|opklimmen|opklinken|opkloppen|opknappen|opknippen|opknopen|opkoken|opkomen|opkopen|opkoteren|opkrabbelen|opkramen|opkrassen|opkrijgen|opkrikken|opkroppen|opkruien|opkruipen|opkrullen|opkuisen|opkweken|oplaaien|opladen|oplappen|oplaten|oplazeren|opleggen|opleiden|oplepelen|opleren|opletten|opleuken|opleven|opleveren|oplezen|oplichten|oplieren|oplijnen|oplijsten|oplikken\"pos'; Query could not be parsed.\n",
      "\u001b[Fno viable alternative at input '[lemma=\"oploeven|oplopen|oplossen|opluchten|opluisteren|opmaken|opmalen|opmarcheren|opmerken|opmeten|opmetselen|opmieteren|opmonteren|opnaaien|opnemen|opnoemen|opofferen|oppakken|oppassen|oppeppen|opperen|oppersen|oppervlaktesurfen|oppeuzelen|oppiepen|oppikken|oppimpen|opplakken|oppleuren|opplooien|opplussen|oppoetsen|oppoken|oppompen|opponeren|oppoppen|opporren|oppotten|opprikken|opproppen|oppulveren|oprakelen|opraken|oprapen|opredderen|oprekken|oprennen|oprichten|oprijden|oprijzen|oprispen|oproeien|oproepen|oproeren|oproken|oprollen|oprommelen|oprotten|opruien|opruimen|oprukken|opruwen|opschakelen|opschalen|opscharrelen|opschenken|opschepen|opscheppen|opscheren|opscherpen|opschieten|opschikken|opschilderen|opschoeien|opschonen|opschoppen|opschorsen|opschorten|opschrijven|opschrikken|opschrobben|opschroeven|opschrokken|opschudden|opschuiven|opschuren|opseksen|opsieren|opsjorren|opslaan|opslepen|opsleuren|opslobberen|opslokken|opslomen|opslorpen|opsloven|opsluipen|opsluiten|opslurpen\"pos'; Query could not be parsed.\n"
     ]
    },
    {
     "name": "stdout",
     "output_type": "stream",
     "text": [
      "\u001b[Fno viable alternative at input '[lemma=\"opsmeren|opsmukken|opsmullen|opsnijden|opsnoeien|opsnoepen|opsnorren|opsnuiven|opsodemieteren|opsolferen|opsommen|opsouperen|opspannen|opsparen|opspatten|opspelden|opspelen|opspeuren|opspicen|opspieën|opspitsen|opspitten|opsplitsen|opspoelen|opsporen|opspringen|opspuiten|opspuwen|opstaan|opstapelen|opstappen|opstarten|opsteken|opstellen|opstijgen|opstijven|opstikken|opstoken|opstomen|opstoppen|opstormen|opstoten|opstoven|opstralen|opstrijken|opstromen|opstropen|opstuiken|opstuiten|opstuiven|opsturen|opstuwen|optakelen|optassen|optekenen|optellen|opteren|optiefen|optikken|optillen|optimaliseren|optimmeren|optomen|optooien|optoppen|optornen|optreden|optrekken|optrommelen|optuigen|optutten|opvallen|opvangen|opvaren|opvatten|opvegen|opveren|opverven|opvijzelen|opvissen|opvlammen|opvliegen|opvoeden|opvoeren|opvolgen|opvorderen|opvouwen|opvragen|opvreten|opvriezen|opvrijen|opvrolijken|opvullen|opwaaien|opwaarderen|opwachten|opwandelen|opwarmen|opwassen|opwegen\"pos'; Query could not be parsed.\n",
      "\u001b[Fno viable alternative at input '[lemma=\"opwekken|opwellen|opwerken|opwerpen|opwikkelen|opwinden|opwippen|opwrijven|opzadelen|opzakken|opzeggen|opzenden|opzetten|opzien|opzijdoen|opzijdraaien|opzijduwen|opzijgaan|opzijhouden|opzijkijken|opzijleggen|opzijschuiven|opzijspringen|opzijstappen|opzijtrekken|opzijzetten|opzitten|opzoeken|opzoomeren|opzouten|opzuigen|opzuipen|opzuiveren|opzwellen|opzwepen|orakelen|ordenen|orderen|orderpicken|ordineren|ordonneren|oreren|orgaanstrippen|organiseren|oriënteren|orkestreren|ornamenteren|oscilleren|otteren|outen|outilleren|outletten|outplacen|outsourcen|ouwehoeren|ouwenelen|overanalyseren|overbeladen|overbelasten|overbelichten|overbeschermen|overbetalen|overbevissen|overbevragen|overbieden|overblijven|overbluffen|overboeken|overborrelen|overbrengen|overbrieven|overbruggen|overbuigen|overcompenseren|overcrediteren|overdekken|overdenken|overdimensioneren|overdoen|overdonderen|overdopen|overdragen|overdrijven|overdrukken|overeenbrengen|overeenkomen|overeenstemmen|overerven|overeten|overgaan|overgeven|overgieten|overgooien|overgroeien|overhaasten|overhalen|overhandigen|overhangen|overhebben|overheersen\"pos'; Query could not be parsed.\n",
      "\u001b[Fno viable alternative at input '[lemma=\"overhellen|overhevelen|overhoopgooien|overhoophalen|overhoopliggen|overhoopschieten|overhoopsteken|overhoren|overhouden|overhuiven|overijlen|overjagen|overkappen|overkijken|overklassen|overklokken|overkluizen|overkoepelen|overkoken|overkomen|overkopen|overkrijgen|overkruisen|overladen|overlappen|overlasten|overlaten|overleggen|overleven|overleveren|overlezen|overliggen|overlijden|overlommeren|overlopen|overmaken|overmannen|overmeesteren|overnaaien|overnachten|overnemen|overpakken|overpeinzen|overpennen|overpinnen|overplaatsen|overplakken|overplanten|overpompen|overpoten|overpoweren|overpraten|overprikkelen|overpromoten|overreageren|overreden|overreiken|overrijden|overroeien|overroepen|overrompelen|overrulen|oversauzen|overschaduwen|overschakelen|overschatten|overschenken|overschepen|overschieten|overschilderen|overschouwen|overschreeuwen|overschrijden|overschrijven|overseinen|overslaan|overslapen|oversluiten|oversnijden|overspannen|oversparen|overspelen|overspoelen|overspringen|overspuiten|overstappen|oversteken|overstelpen|overstemmen|overstijgen|overstimuleren|overstorten|overstralen|overstrekken|overstromen|oversturen|overtappen|overtekenen|overtellen|overtijgen\"pos'; Query could not be parsed.\n",
      "\u001b[Fno viable alternative at input '[lemma=\"overtikken|overtreden|overtreffen|overtrekken|overtroeven|overtrouwen|overtuigen|overtypen|overvallen|overvaren|oververhitten|oververtellen|oververven|overvleugelen|overvliegen|overvloeien|overvoeden|overvoeren|overvragen|overvullen|overwaaien|overwaarderen|overwaken|overwegen|overweldigen|overwelmen|overwelven|overwerken|overwinnen|overwinteren|overwippen|overwoekeren|overzeilen|overzenden|overzetten|overzien|overzitten|overzomeren|overzwemmen|ovuleren|oxideren|oxygeneren|ozoniseren|paaien|paaldansen|paalzitten|paardenfluisteren|paardjerijden|paardrijden|paardspringen|pacen|pachten|pacificeren|pacteren|paddelen|paffen|pagaaien|pagineren|paintballen|pakken|pakketschakelen|pakketteren|palaveren|palen|paleren|paletten|palingtrekken|palissaderen|palletiseren|palliëren|palmen|palperen|palpiteren|pamperen|panacheren|panden|pandoeren|pandverbeuren|paneren|panikeren|pantseren|papegaaien|pappen|parachuteren|parachutespringen|paraderen|paraferen|paraffineren|parafraseren|paragliden|paragraferen|parallelliseren|paralyseren|parametriseren|parasailen|parasiteren|pardonneren|parelduiken|parelen|paren\"pos'; Query could not be parsed.\n",
      "\u001b[Fno viable alternative at input '[lemma=\"pareren|parfumeren|parkeren|parketteren|parlementen|parlementeren|parlesanten|parlevinken|parodiëren|parsen|parseren|participeren|partijtrekken|partitioneren|parttimen|partycrashen|partyen|partyhoppen|partyshoppen|passagieren|passen|passepoileren|passeren|passioneren|passiveren|pasteuriseren|patchen|patenteren|paternosteren|patineren|patroneren|patroniseren|patroondenken|patrouilleren|patsen|pauken|pauzeren|pavoiseren|payrollen|pc-bankieren|pedaleren|peddelen|pedicuren|peeuwen|peggen|peilen|peinzen|pekelen|pekken|pelen|pelgrimeren|pellen|pelletiseren|penaliseren|pendelen|penetreren|pennen|penselen|pensioneren|peperen|pepperen|percipiëren|percuteren|peren|perfectioneren|perforeren|performen|periodiseren|perken|permanenten|permitteren|peroreren|perpendiculariseren|perronsprinten|persen|persevereren|persifleren|persisteren|personaliseren|personifiëren|persuaderen|perverteren|pesten|petanquen|petitioneren|petsen|peunen|peuren|peuterdansen|peuteren|peuzelen|pezen|pezeweven|pianospelen|picknicken|piekdrinken|pieken|piekeren|pielen|piemelen\"pos'; Query could not be parsed.\n",
      "\u001b[Fno viable alternative at input '[lemma=\"piepelen|piepen|piercen|pieren|pierewaaien|piesen|pietepeuteren|pijnen|pijnigen|pijpen|pijproken|pikeren|piketten|piketteren|pikkelen|pikken|pillen|piloteren|pimpampetten|pimpelen|pimpen|pinaren|pinchen|pingelen|pingen|pingpongen|pinkelen|pinken|pinkeren|pinkogen|pinnen|pinpointen|pinsparen|pintelieren|pionieren|pipetteren|pirouetteren|pissen|pistoolschieten|pitchen|pitsen|pitten|pivoteren|plaasteren|plaatsen|plaatsgrijpen|plaatshebben|plaatsmaken|plaatsnemen|plaatsnijden|plaatsvinden|placeren|plafonneren|plagen|plaggen|plagiëren|plakken|plamuren|planeren|plankschaatsen|plankzeilen|planlezen|plannen|planten|planteren|plasregenen|plassen|plastificeren|plastineren|platbellen|platbombarderen|platbranden|platdrukken|plateelschilderen|plateren|platgaan|platgooien|platineren|platleggen|platliggen|platlopen|platmaken|platpersen|platrijden|platschieten|platslaan|platspelen|platspuiten|platstrijken|platten|plattrappen|plattreden|platvoeten|platwalsen|plaveien|playbacken|plebisciteren|plegen|pleisteren|pleiten\"pos'; Query could not be parsed.\n",
      "\u001b[Fno viable alternative at input '[lemma=\"plekken|plempen|plengen|plensregenen|plenteren|plenzen|pletsen|pletten|pleuren|plezierduiken|plezieren|plisseren|ploegen|ploeteren|ploffen|ploggen|plomberen|plompen|plonzen|plooien|ploten|plotten|pluggen|pluimen|pluimstrijken|pluizen|plukharen|plukken|plunderen|plussen|pochen|pocheren|podcasten|podslurpen|poedelen|poedercoaten|poederen|poeieren|poepen|poeren|poesten|poetiniseren|poetsen|poffen|pogen|pogoën|pointeren|pointilleren|poken|pokeren|pokken|polariseren|polderen|polemiseren|poleren|polieren|polijsten|polishoppen|politiseren|politoeren|pollueren|poloën|polsen|polsstokhoogspringen|polsstokspringen|polsstokverspringen|polsteren|polychromeren|polymeriseren|pommaderen|pompen|pomperen|poneren|ponsen|pontificeren|ponyrijden|pooien|poolen|pootjebaden|popelen|populariseren|pornosurfen|porren|portelen|porteren|portioneren|portretteren|poseren|positioneren|postcrossen|postdateren|posten|posteren|postorderen|postuleren|postvatten|poten|potenrammen|potentiëren|poteren\"pos'; Query could not be parsed.\n",
      "\u001b[Fno viable alternative at input '[lemma=\"potloden|potten|pottenbakken|potverteren|pousseren|poweren|powernappen|powerpointen|powerwandelen|pozen|poëtiseren|praaien|prakken|prakkeseren|prakkiseren|praktiseren|pralen|pramen|prangen|praten|pratikeren|preadviseren|precipiteren|preciseren|precisieboeren|prederen|predestineren|prediceren|prediken|predisponeren|predomineren|prefabriceren|prefereren|prefigeren|prefinancieren|pregen|prejudiciëren|preken|preluderen|premiesparen|premixen|prenten|preoccuperen|prepareren|presenteren|preserveren|presideren|pressen|presseren|presteren|presumeren|pretenderen|preutelen|prevaleren|prevelen|preveniëren|priegelen|priemen|prijken|prijsgeven|prijsschieten|prijswinkelen|prijzen|prikkelen|prikken|primeren|printen|prioriteren|privatiseren|privilegiëren|privé-internetten|privésurfen|proberen|problematiseren|procederen|processen|proclameren|procreëren|procureren|producen|produceren|proefdraaien|proefrijden|proefscheiden|proefstuderen|proefvaren|proefwonen|proesten|proeven|profaneren|professen|professionaliseren|profeteren|profileren|profiteren|prognosticeren|prognotiseren|programmeren|projecteren|projectietekenen\"pos'; Query could not be parsed.\n",
      "\u001b[Fno viable alternative at input '[lemma=\"proletariseren|prolifereren|prolongeren|promoten|promoveren|promulgeren|pronken|prononceren|pronostikeren|proosten|propaganderen|propageren|proponeren|proportioneren|proppen|prorateren|prospecteren|prospereren|prostitueren|protegeren|protesteren|protocolleren|protsen|protten|provianderen|provoceren|pruilen|pruimen|prullenbakkeren|prutsen|pruttelen|psalmeren|psalmodiëren|psalmzingen|psychologiseren|puberen|publiceren|publishen|puddelen|puffen|pufvissen|puilen|puimen|puinruimen|pulken|pulsen|pulseren|pulveren|pulveriseren|puncteren|punniken|punten|punteren|puntlassen|puren|pureren|purgeren|purperen|pushen|pussen|putsen|putten|puzzelen|qatkauwen|qatten|quadden|quadrijden|quadrilleren|quatten|quenchen|queruleren|queueën|quicksteppen|quizzen|quoten|quoteren|quotiseren|raadkameren|raadplegen|raaien|raaskallen|rabatten|rabatteren|rabbelen|racen|racletten|radbraken|raden|raderen|radicaliseren|radiograferen|rafelen|raffelen|raffineren|raften|ragen|raggen|railleren|raisonneren|rakelen\"pos'; Query could not be parsed.\n",
      "\u001b[Fno viable alternative at input '[lemma=\"raken|raketten|rakkeren|rallyen|ramen|ramkraken|rammeien|rammelen|rammen|rampetampen|rampokken|ramsjen|randen|randomiseren|rangeren|rangschikken|ranken|ranselen|rantsoeneren|rapen|rapiddammen|rapidschaken|rappelleren|rappen|rapporteren|rapzingen|raquetten|raseren|raspen|rasteren|ratelen|ratificeren|rationaliseren|ratsen|ratten|rausjen|rauwdouwen|rauzen|ravitailleren|ravotten|razen|re-enacten|re-ensceneren|re-importeren|re-integreren|re-introduceren|re-itereren|reactiveren|reaffecteren|reageren|realiseren|realloceren|realtimeparkeren|reanimeren|reassureren|rebbelen|rebelleren|rebooten|recapituleren|recappen|recenseren|recepteren|receptioneren|rechercheren|rechtbreien|rechtbuigen|rechten|rechthouden|rechtkomen|rechtkrabbelen|rechtmaken|rechtsklikken|rechtspreken|rechtspringen|rechtstaan|rechttrekken|rechtvaardigen|rechtveren|rechtzetten|rechtzitten|recidiveren|recipiëren|reciproceren|recirculeren|reciteren|reclameren|reclasseren|recombineren|recommanderen|reconciliëren|reconditioneren|reconfirmeren|reconstrueren|recoveren|recreëren|recruiten|rectificeren|recupereren|recuseren|recyclen\"pos'; Query could not be parsed.\n"
     ]
    },
    {
     "name": "stdout",
     "output_type": "stream",
     "text": [
      "\u001b[Fno viable alternative at input '[lemma=\"recycleren|redden|redderen|redekavelen|reden|redeneren|redetwisten|redevoeren|redigeren|redirecten|redoubleren|redresseren|reduceren|reeuwen|referentiëren|refereren|reflecteren|reformeren|refreshen|refuseren|regarderen|regelen|regelruimen|regenen|regenereren|regeren|regionaliseren|regisseren|registeren|registreren|reglementeren|regresseren|regulariseren|reguleren|rehabiliteren|rehydreren|reien|reiken|reikhalzen|reilen|reinigen|reizen|rekenen|rekeningrijden|rekestreren|rekken|rekruteren|rekwestreren|rekwireren|relanceren|relateren|relativeren|relaxen|relaxeren|relayeren|releasen|releveren|relibeleggen|relinen|rellen|relokaliseren|relschoppen|remasteren|rembourseren|remediëren|remigreren|remiseren|remitteren|remixen|remmen|remodelleren|remonteren|remplaceren|remunereren|renationaliseren|renderen|rennen|renommeren|renonceren|renoveren|renseigneren|rentabiliseren|renten|rentenieren|renumereren|renvooieren|reorganiseren|repareren|repasseren|repatriëren|repelen|repen|repertoriëren|repeteren|repliceren|replyen|reporteren|reppen|representeren|reproduceren\"pos'; Query could not be parsed.\n",
      "\u001b[Fno viable alternative at input '[lemma=\"rescontreren|researchen|reserveren|resetten|reshuffelen|resideren|resigneren|resocialiseren|resolveren|resomeren|resoneren|resorberen|respecteren|respireren|responderen|responsabiliseren|ressorteren|restaureren|resten|resteren|restitueren|restsparen|restylen|resulteren|resumeren|retarderen|retireren|retoucheren|retourneren|retourpinnen|retrofitten|retrogamen|retweeten|reutelen|revaccineren|revalideren|revaloriseren|revalueren|revancheren|reveleren|reven|revideren|revieren|reviewen|revindiceren|reviseren|revitaliseren|revoceren|revolteren|revolutioneren|revolveren|reïficeren|reïncarneren|reüsseren|ribben|richten|ricocheren|ridderen|ridiculiseren|riedelen|rieken|riemen|rijden|rijgen|rijmelen|rijmen|rijpen|rijsttafelen|rijten|rijven|rijzen|rikkekikken|rikken|rikketikken|rikkikken|rilbibberen|rillen|rimpelen|ringelen|ringeloren|ringen|ringfencen|ringrijden|ringsteken|rinkelen|rinkelrooien|rinkinken|rioleren|riposteren|rippen|risicoparkeren|risken|riskeren|rispen|rissen|risten|ristorneren|ritmeren|ritselen|ritsen\"pos'; Query could not be parsed.\n",
      "\u001b[Fno viable alternative at input '[lemma=\"ritten|ritualiseren|rivaliseren|robbedoezen|robben|robberen|robotiseren|robotmelken|robotvechten|rochelen|rock-\\\\'n-rollen|rocken|roddelen|rodelen|roderen|rodineren|roefelen|roeien|roekoeën|roemen|roepen|roeptoeteren|roerbakken|roeren|roesten|roeten|roetsjen|roezemoezen|roezen|roffelen|roken|rokeren|rokken|rokkenjagen|rollebollen|rollen|rolleren|rolschaatsen|rolskiën|romaniseren|romantiseren|romen|rommelen|rondbanjeren|rondbazuinen|rondbellen|rondbewegen|rondbezorgen|rondblikken|rondbreien|rondbrengen|rondbrieven|rondcirkelen|rondcrossen|ronddansen|ronddarren|ronddartelen|ronddelen|ronddienen|ronddobberen|ronddolen|ronddollen|ronddraaien|ronddragen|ronddraven|ronddrentelen|ronddrijven|ronddwalen|ronddwarrelen|ronden|rondfietsen|rondfladderen|rondgaan|rondgeven|rondgraaien|rondhangen|rondhollen|rondhoren|rondhossen|rondhuppelen|rondkijken|rondkomen|rondkrijgen|rondkruipen|rondkuieren|rondleiden|rondlopen|rondlummelen|rondmailen|rondmaken|rondneuzen|rondparaderen|rondpompen|rondrazen|rondreizen|rondrennen|rondrijden|rondscharrelen|rondscheuren|rondschuimen\"pos'; Query could not be parsed.\n",
      "\u001b[Fno viable alternative at input '[lemma=\"rondshoppen|rondsjouwen|rondslaan|rondslenteren|rondslingeren|rondsloffen|rondsluipen|rondsnuffelen|rondspelen|rondspeuren|rondspoken|rondspreken|rondspringen|rondsproeien|rondstappen|rondstralen|rondstrooien|rondstruinen|rondsturen|rondtasten|rondtoeren|rondtollen|rondtrekken|rondvaren|rondventen|rondvertellen|rondvliegen|rondvragen|rondwandelen|rondwaren|rondwentelen|rondzenden|rondzeulen|rondzien|rondzingen|rondzoeken|rondzoemen|rondzwaaien|rondzwalken|rondzwemmen|rondzwermen|rondzwerven|rondzweven|rondzwieren|ronken|ronselen|rooien|roosjesmelken|roosten|roosteren|ropeskippen|roskammen|rossen|roten|roteren|rotten|rotzooien|rouleren|routeren|rouwdouwen|rouwen|rouwklagen|roven|royeren|rubriceren|ruften|rugbyen|ruggensteunen|ruien|ruiken|ruilebuiten|ruilen|ruimen|ruisen|ruiten|ruitentikken|ruiven|rukken|rumineren|rummikuppen|rumoeren|runnen|runshoppen|russificeren|rusten|ruwen|ruziemaken|ruziën|ruïneren|röntgenen|sabbelen|sabberen|saboteren|sabreren|sacreren|sacrifiëren|sakkeren|salariëren|salderen|salsadansen\"pos'; Query could not be parsed.\n",
      "\u001b[Fno viable alternative at input '[lemma=\"salsaën|salueren|saluteren|samenballen|samenbinden|samenblijven|samenbouwen|samenbrengen|samenbundelen|samendoen|samendrijven|samendringen|samendrommen|samendrukken|samenflansen|samengaan|samengieten|samengroeien|samenhangen|samenhokken|samenhouden|samenhuizen|samenklappen|samenkleven|samenklinken|samenklitten|samenklonteren|samenkniepen|samenknijpen|samenknopen|samenkoeken|samenkomen|samenkoppelen|samenkrimpen|samenleggen|samenleven|samenlezen|samenlopen|samennemen|samennieten|samenpakken|samenpassen|samenpersen|samenplaatsen|samenproppen|samenrapen|samenroepen|samenrollen|samenrotten|samenscholen|samensmeden|samensmelten|samensnoeren|samenspannen|samenspelen|samensteken|samenstellen|samenstromen|samentellen|samentreffen|samentrekken|samentroepen|samenvallen|samenvatten|samenvlechten|samenvloeien|samenvoegen|samenvouwen|samenwerken|samenwonen|samenzetten|samenzitten|samenzweren|sampelen|samplen|sanctioneren|sandboarden|sandwichen|saneren|sappelen|sarren|sassen|satineren|satureren|saunaën|sausen|sauteren|sauveren|sauzen|saven|savoureren|scaddiven|scalperen|scanderen|scannen|scashen|scenarioschrijven|schaakboksen|schaakspelen|schaarden\"pos'; Query could not be parsed.\n",
      "\u001b[Fno viable alternative at input '[lemma=\"schaatsen|schaatsenrijden|schadeloosstellen|schaden|schaduwbankieren|schaduwboksen|schaduwdraaien|schaduwen|schaffen|schaften|schakelen|schaken|schakeren|schalen|schallen|schalmen|schamen|schampen|schamperen|schandaliseren|schandmerken|schandvlekken|schansspringen|scharen|scharnieren|scharrelbenen|scharrelen|scharren|schateren|schaterlachen|schatkistbankieren|schatten|schatzoeken|schavelen|schaven|schaverdijnen|schavielen|scheefgroeien|scheefhuren|scheeflopen|scheefslaan|scheeftrekken|scheefwerken|scheefwonen|scheefzakken|scheelkijken|scheelzien|scheiden|scheidsrechteren|schelden|schelen|schellen|schematiseren|schemeren|schenden|schenken|schepen|scheppen|scheren|schermen|schermutselen|schermwinkelen|scherpen|scherpstellen|schertsen|scherven|schetsen|schetteren|scheuken|scheuren|schiemannen|schieten|schiften|schijfschieten|schijnen|schijten|schikken|schilderen|schilferen|schillen|schilparkeren|schimmelen|schimpen|schipperen|schitteren|schmieren|schminken|schnabbelen|schobben|schoeien|schoenlappen|schoenmaken|schoenpoetsen|schoffelen|schofferen|schokken|schokkeren|schokschouderen|scholen|schommelen\"pos'; Query could not be parsed.\n",
      "\u001b[Fno viable alternative at input '[lemma=\"schonen|schooien|schooieren|schoolblijven|schoolgaan|schoolhouden|schoollopen|schoolmeesteren|schoolrijden|schoolverlaten|schoolzwemmen|schoonblazen|schoonboenen|schoonhouden|schoonkrabben|schoonlikken|schoonmaken|schoonpoetsen|schoonrijden|schoonschrijven|schoonschrobben|schoonsnijden|schoonspoelen|schoonspringen|schoonspuiten|schoonvegen|schoonwassen|schoonwrijven|schoonzwemmen|schoorsteenvegen|schootdansen|schootgaan|schoperen|schoppen|schoren|schorsen|schorten|schotelen|schouderen|schoudersurfen|schouwen|schoven|schrabbelen|schrabben|schragen|schralen|schrammen|schranken|schransen|schranzen|schrapen|schrappen|schreeuwen|schreien|schrijden|schrijnen|schrijven|schrikken|schrobben|schroeien|schroeven|schrokken|schromen|schrompelen|schroten|schubben|schuddebollen|schuddebuiken|schudden|schuieren|schuifelen|schuilen|schuilgaan|schuilhouden|schuimbekken|schuimen|schuinen|schuitjevaren|schuiven|schulpen|schuren|schurken|schutten|schutteren|schuwen|scooterdelen|scooteren|scoren|scouten|scrabbelen|scrambelen|scramblen|scrappen|scratchen|screenen|scrollen|scrubben|scubaduiken|sculpteren|sealen\"pos'; Query could not be parsed.\n",
      "\u001b[Fno viable alternative at input '[lemma=\"searchen|seconderen|seculariseren|secureren|sedenteren|segmenteren|segregeren|seinen|seizen|seizoenshoppen|seksen|seksualiseren|sekwestreren|selecteren|semantiseren|sensibiliseren|separeren|seponeren|sequencen|serialiseren|seriëren|serveren|servicen|settelen|sexercisen|shaken|shamponeren|shampooën|sharen|shariabankieren|shaven|shimmyen|shocken|shockeren|shopdaten|shophoppen|shoppen|shortsellen|shorttracken|shotten|showen|showroomen|shredden|shredderen|shuffelen|shunten|sidderen|siepelen|sieren|sightseeën|signaleren|signaliseren|signeren|sijpelen|simmen|simoniseren|simpen|simplificeren|simuleren|simultaanschaken|singelen|sinteren|sissen|situeren|sjabloneren|sjacheren|sjansen|sjezen|sjieken|sjilpen|sjirpen|sjoelbakken|sjoelen|sjoemelen|sjokken|sjorren|sjotten|sjouwen|skateboarden|skaten|skatewingen|skatewingsurfen|skeeleren|skeletteren|skelteren|skibocken|skiffen|skilopen|skimboarden|skimmen|skippen|skispringen|skivliegen|skizweven|skiën|skwallen|skydiven|skypen|slaan|slaap-sms\\\\'en\"pos'; Query could not be parsed.\n",
      "\u001b[Fno viable alternative at input '[lemma=\"slaaprijden|slaapvrijen|slaapwandelen|slabakken|slabberen|slachten|slachtofferen|slacklinen|slagen|slagregenen|slaken|slalommen|slalomskiën|slammen|slampampen|slapen|slappen|slaven|slechten|sleden|sleepvoeten|sleetjerijden|sleevefacen|sleeën|sleizen|slempen|slenteren|slepen|sleunen|sleuren|sleutelen|slibben|slibberen|slichten|slieren|slijmen|slijpen|slijten|slijzen|slikken|slingeren|slinken|slippen|slissen|slobberen|slodderen|sloeren|sloffen|slokken|slonzen|sloogelen|slooien|slootjespringen|slopen|slorpen|sloten|sloven|slowen|sluieren|sluikstorten|sluimeren|sluipen|sluiten|sluizen|slungelen|slurpen|smachten|smaden|smaken|smakken|smalen|smarten|smashen|smeden|smeken|smelten|smeren|smetten|smeulen|smeuren|smiespelen|smijten|smikkelen|smirten|smodderen|smoeren|smoezelen|smoezen|smoken|smokkelen|smokken|smoren|smotsen|smousen|smouten|smouzen|sms\\\\'en|sms-parkeren|smuiken|smuilen\"pos'; Query could not be parsed.\n"
     ]
    },
    {
     "name": "stdout",
     "output_type": "stream",
     "text": [
      "\u001b[Fno viable alternative at input '[lemma=\"smukken|smullen|smulpapen|smurfen|snaaien|snabbelen|snacken|snakken|snapchatten|snappen|snateren|snauwen|snebberen|sneeuwballen|sneeuwen|sneeuwruimen|sneeuwschoenlopen|sneeuwschoenwandelen|snellen|snellezen|snelschaken|snelwandelen|sneren|snerken|snerpen|sneukelen|sneuken|sneupen|sneuvelen|sneven|snibben|snieren|sniffen|snijden|snikken|snipperen|snoeien|snoeken|snoepen|snoeren|snoeven|snoezelen|snokken|snookeren|snoozen|snorkelen|snorkelskiën|snorken|snorren|snotteren|snowboarden|snowcatskiën|snowferen|snuffelen|snuffen|snuisteren|snuiten|snuiven|snurken|socialiseren|socializen|sodemieteren|sodomiseren|soebatten|soezen|sofisticeren|softballen|soggen|soigneren|solderen|solemniseren|soleren|solfegiëren|solidariseren|sollen|solliciteren|solveren|somberen|sombermansen|sommeren|sonderen|sonjabakkeren|soppen|sorteren|souffleren|soundchecken|soundmixen|souperen|souteneren|sovjetiseren|spaarbellen|spachtelputzen|spaden|spalken|spammen|spanen|spannen|sparen|sparkelen|sparren\"pos'; Query could not be parsed.\n",
      "\u001b[Fno viable alternative at input '[lemma=\"spartelen|spatiëren|spatten|specialiseren|specificeren|specifiëren|speculeren|speechen|speedballen|speedbootracen|speeddaten|speedskiën|speervissen|speerwerpen|spekken|spelden|spelemeien|spelen|spelerijden|spelevaren|spellen|spenderen|spenen|sperren|speten|spetten|spetteren|speuren|spideren|spieden|spiegelen|spieken|spieren|spietsen|spijbelen|spijen|spijkeren|spijten|spijzen|spijzigen|spikkelen|spillen|spimmen|spinnen|spinzen|spioneren|spiraliseren|spirantiseren|spitsen|spitsmijden|spitten|splijten|splinteren|splitsen|splitten|spoeden|spoelen|spoken|spoliëren|sponsen|sponsoren|sponzen|spoofen|spoorlopen|spoorzoeken|sporen|sporten|sportklimmen|sportvasten|sportvissen|spotten|spouwen|sprankelen|sprayen|spreiden|spreken|sprengen|sprenkelen|sprieten|springen|sprinten|spritsen|sproeien|sproeivliegen|sprokkelen|spruiten|spugen|spuien|spuiten|spurten|sputteren|spuwen|squashen|squatten|squirten|staan|staartdelen|stabiliseren|stadskamperen|stadsklimmen\"pos'; Query could not be parsed.\n",
      "\u001b[Fno viable alternative at input '[lemma=\"staffelen|stagediven|stagen|stagneren|stakelen|staken|stalen|stalken|stallen|stamelen|stammen|stampen|stampvoeten|standaardiseren|standhouden|stangen|stansen|stapelen|stappen|staren|starogen|starten|stationeren|statten|statussen|staven|stechelen|steendrukken|steengrillen|steenhouwen|steggelen|steigeren|steken|stekken|stelen|stellen|stelpen|steltlopen|stemmen|stempelen|stencilen|stenen|stenigen|stenograferen|stenotypen|steppen|stereotyperen|steriliseren|sterken|sterrenkijken|sterven|steunen|steuren|stevenen|stichten|stickeren|stiefelen|stiften|stigmatiseren|stijfkloppen|stijfselen|stijfvloeken|stijgen|stijldansen|stijven|stikken|stileren|stilhouden|stilleggen|stillen|stilliggen|stilstaan|stilvallen|stilzetten|stilzitten|stilzwijgen|stimuleren|stinken|stippelen|stippen|stipuleren|stockeren|stoefen|stoeien|stoelen|stoelenmatten|stoempen|stoepen|stoepparkeren|stoeproken|stoffen|stofferen|stofzuigen|stofzuigeren|stoken|stokken|stollen|stolpen|stomen|stommelen\"pos'; Query could not be parsed.\n",
      "\u001b[Fno viable alternative at input '[lemma=\"stompen|stoombakken|stoppen|stopzetten|storen|stormen|stormlopen|storneren|storten|stortregenen|stoten|stotteren|stouwen|stoven|straatracen|straatslijpen|straffen|straktrekken|stralen|stranden|strandjutten|strategoën|stratificeren|streaken|streamen|streetdancen|strekken|strelen|stremmen|strengelen|strengen|strepen|stressen|stresseren|stretchen|streven|stribbelen|striemen|strijden|strijken|strikken|strippen|striptekenen|stroelen|stroken|stromen|strompelen|strooien|stroomlijnen|strooplikken|stroopsmeren|stropen|stroppen|strubbelen|structureren|struikelen|struinen|stuccen|studeren|stuffen|stuiken|stuiptrekken|stuiten|stuiteren|stuiven|stukadoren|stukbijten|stukbreken|stuken|stukgaan|stukgooien|stuklezen|stuklopen|stukmaken|stukscheuren|stukschieten|stukslaan|stuksmijten|stuksnijden|stukspringen|stuksteken|stuktrappen|stuktrekken|stukvallen|stukvriezen|stukzappen|stulpen|stumperen|stuntelen|stunten|stuntvliegen|sturen|stutten|stuwen|stylen|sublicentiëren|sublimeren|subordineren|subrogeren|subsidiëren\"pos'; Query could not be parsed.\n",
      "\u001b[Fno viable alternative at input '[lemma=\"substantiveren|substantiëren|substitueren|sudderen|sudokuen|sueën|suffen|sufmutsen|suggereren|suien|suikeren|suilen|suizebollen|suizelen|suizen|sukkelen|sumoworstelen|superponeren|superviseren|suppen|suppleren|suppliëren|supporteren|supprimeren|surfen|surinamiseren|surplacen|surveilleren|survivallen|suspenderen|sussen|suïcideren|swaffelen|swappen|swingen|swipen|switchen|symboliseren|sympathiseren|synchroniseren|synchroonzwemmen|syncoperen|syndiceren|synthetiseren|systematiseren|taarten|taartgooien|tabellariseren|tabuleren|tackelen|tafeldekken|tafeldienen|tafelen|tafeltennissen|taggen|tai-chiën|tailleren|takelen|taken|takken|takteren|talen|talibaniseren|taliën|talmen|tamboeren|tamboereren|tampen|tamponneren|tanden|tandenknarsen|tandenpoetsen|tanen|tangen|tangodansen|tangoën|tanken|tantaliseren|tapen|tappen|targetten|tariferen|tarifiëren|tarnen|tarreren|tarten|taseren|tassen|tasten|tateren|tatoeëren|taxeren|taxirijden|taxiën|teambuilden|teasen|teaën|tectyleren|teddybeerzwemmen|teerlingen\"pos'; Query could not be parsed.\n",
      "\u001b[Fno viable alternative at input '[lemma=\"tegelen|tegelzetten|tegemoetkomen|tegemoetlopen|tegemoetrijden|tegemoetzien|tegenboeken|tegeneten|tegengaan|tegenhebben|tegenhouden|tegenkomen|tegenlachen|tegenlezen|tegenlopen|tegenmaken|tegenoverstellen|tegenpruttelen|tegenscoren|tegenslaan|tegenspartelen|tegenspelen|tegenspreken|tegensputteren|tegenstaan|tegensteken|tegenstellen|tegenstemmen|tegenstreven|tegenstribbelen|tegensturen|tegentekenen|tegenvallen|tegenwerken|tegenwerpen|tegenzitten|teisteren|tekeergaan|tekenen|tekortdoen|tekortkomen|tekortschieten|tekstschrijven|tekstverklaren|tekstverwerken|telebankieren|telefoneren|telegraferen|telehoren|telemarken|telemarketen|telemeten|telemoederen|telen|teleporteren|telepuzzelen|telescoperen|telethuiswerken|teletransporteren|teleurstellen|televaderen|televisiekijken|televoorgeleiden|televoten|telewerken|telewinkelen|telexen|tellen|teloorgaan|temen|temmen|tempeesten|tempen|temperaturen|temperen|tempereren|temporiseren|tenderen|tenietdoen|tenietgaan|tennissen|tentamineren|tenteren|tentoonspreiden|tentoonstellen|terechtbrengen|terechtkomen|terechtkunnen|terechtstaan|terechtstellen|terechtwijzen|teren|tergen|termineren|terneerdrukken|terneerliggen|terneerslaan|terneervallen|terrasseren|terreinrijden\"pos'; Query could not be parsed.\n",
      "\u001b[Fno viable alternative at input '[lemma=\"terroriseren|terugbekomen|terugbellen|terugbetalen|terugbezorgen|terugbladeren|terugblazen|terugblikken|terugboeken|terugbouwen|terugbreken|terugbrengen|terugbuigen|terugclaimen|terugdeinzen|terugdenken|terugdoen|terugdraaien|terugdrijven|terugdringen|terugdrukken|terugduwen|terugeisen|terugfaxen|terugfietsen|terugflitsen|terugfluiten|teruggaan|teruggeven|terugglijden|teruggooien|teruggrijpen|teruggroeien|teruggroeten|terughalen|terughangen|terughoren|terughouden|terugjagen|terugkaatsen|terugkennen|terugkeren|terugkijken|terugkoken|terugkomen|terugkopen|terugkoppelen|terugkrabbelen|terugkrijgen|terugkruipen|teruglachen|terugleggen|terugleiden|terugleveren|teruglezen|teruglokken|teruglopen|terugluisteren|terugmailen|terugmarcheren|terugmelden|terugnemen|terugontvangen|terugpakken|terugpinnen|terugplaatsen|terugploegen|terugplooien|terugpompen|terugrapporteren|terugredeneren|terugreiken|terugreizen|terugrekenen|terugrennen|terugrijden|terugroepen|terugschakelen|terugschieten|terugschoppen|terugschrijven|terugschrikken|terugschroeven|terugslaan|terugslepen|terugsluipen|terugsluizen|terugsnoeien|terugspelen|terugspoelen|terugspringen|terugstappen|terugsteken|terugstelen|terugstoppen|terugstorten|terugstromen|terugsturen|terugtellen|terugtrappen\"pos'; Query could not be parsed.\n",
      "\u001b[Fno viable alternative at input '[lemma=\"terugtreden|terugtrekken|terugtwitteren|terugvallen|terugvaren|terugvechten|terugveranderen|terugverdienen|terugveren|terugverhuizen|terugverkopen|terugverlangen|terugveroveren|terugvertalen|terugvervoeren|terugverwachten|terugverwijzen|terugvinden|terugvliegen|terugvloeien|terugvoeren|terugvolgen|terugvorderen|terugvragen|terugvuren|terugwandelen|terugwensen|terugwerken|terugwerpen|terugwijken|terugwijzen|terugwinnen|terugzakken|terugzeggen|terugzenden|terugzetten|terugzien|terugzinken|terugzoeken|terugzwaaien|testen|testeren|testrijden|tetteren|teuten|tevredenstellen|teweegbrengen|teweerstellen|tewerkstellen|texen|textureren|thaiboksen|theaterdaten|theatermaken|theedrinken|theeplukken|theezetten|thematiseren|theologiseren|theoretiseren|thuisbankieren|thuisbezorgen|thuisblijven|thuisbranden|thuisbrengen|thuishalen|thuishoren|thuishouden|thuiskomen|thuiskopiëren|thuiskrijgen|thuislaten|thuisleveren|thuisraken|thuistappen|thuiswerken|thuiswinkelen|thuiszitten|tichelen|tierelieren|tieren|tijdreizen|tijdrekken|tijdrijden|tijdschrijven|tijgen|tijgeren|tikken|tiktakken|tillen|tiltslaan|timen|timmeren|tingelen|tinkelen|tinken|tintelen|tintelogen|tinten|tipp-exen\"pos'; Query could not be parsed.\n",
      "\u001b[Fno viable alternative at input '[lemma=\"tippelen|tippen|tirailleren|tiranniseren|titelen|titreren|titsen|tiërceren|tjappen|tjekken|tjilpen|tjirpen|tjoepen|tjokken|tjolen|toasten|tobbedansen|tobben|tochten|toe-eigenen|toebedelen|toebedenken|toebehoren|toebereiden|toebijten|toebinden|toeblaffen|toebrengen|toebrullen|toebuigen|toedekken|toedelen|toedenken|toedichten|toedienen|toedoen|toedraaien|toedragen|toedrijven|toedrinken|toedrukken|toeduwen|toefaxen|toefluisteren|toegaan|toegeven|toegooien|toegrijnzen|toegrijpen|toegroeien|toehalen|toehappen|toehoren|toejuichen|toekennen|toekeren|toekijken|toeklappen|toeknijpen|toeknikken|toekomen|toekomstdenken|toelachen|toelaten|toeleggen|toeleven|toeleveren|toelichten|toelonken|toelopen|toeluisteren|toemailen|toemaken|toemeten|toenaderen|toenemen|toepassen|toepen|toereiken|toerekenen|toeren|toernooien|toeroepen|toerollen|toerschaatsen|toerskiën|toerusten|toescheiden|toeschieten|toeschijnen|toeschouwen|toeschreeuwen|toeschrijven|toeschuiven|toesissen|toeslaan|toeslibben|toesluiten|toesmijten|toesnauwen\"pos'; Query could not be parsed.\n"
     ]
    },
    {
     "name": "stdout",
     "output_type": "stream",
     "text": [
      "\u001b[Fno viable alternative at input '[lemma=\"toesnellen|toesnijden|toesnoeren|toespelden|toespelen|toespitsen|toespreken|toespringen|toestaan|toestappen|toesteken|toestemmen|toestoppen|toestormen|toestromen|toesturen|toetakelen|toetasten|toeten|toeteren|toetreden|toetrekken|toetsen|toevallen|toeven|toevertrouwen|toevliegen|toevloeien|toevoegen|toevoeren|toevouwen|toewaaien|toewenden|toewenken|toewensen|toewerken|toewerpen|toewijden|toewijzen|toewuiven|toezeggen|toezenden|toezien|toezingen|toezwaaien|togen|toiletteren|tokkelen|tokken|tolereren|tolken|tollen|tomateren|tomen|toneelspelen|tonen|tongen|tongschrapen|tongworstelen|tongzoenen|tonifiëren|tonnen|tooien|toonzetten|toornen|toosten|top-downleren|topcoaten|tophoppen|toppen|toproeien|torderen|torenen|tormenteren|tornen|tornooien|torpederen|torsen|tortelen|tossen|totaliseren|toucheren|touperen|touren|touwen|touwklimmen|touwtjespringen|touwtrekken|toveren|traanogen|traceren|trachten|trainen|traineren|trakteren|traliën|trammen|trampolinespringen|tramsurfen|trancheren\"pos'; Query could not be parsed.\n",
      "\u001b[Fno viable alternative at input '[lemma=\"tranen|transcenderen|transcriberen|transfereren|transfigureren|transformeren|transigeren|transiteren|transmigreren|transmuraliseren|transpireren|transplanteren|transponeren|transporteren|traplopen|trappelen|trappen|trappenlopen|trashen|trassen|trasseren|traumatiseren|traven|traverseren|travesteren|trechteren|treden|treffen|treilen|treinen|treinsurfen|treiteren|trekkebekken|trekkebenen|trekken|tremuleren|trendsetten|trendwatchen|trepaneren|treuren|treuzelen|triggeren|trijsen|triktrakken|trillen|trimmen|triomferen|tripleren|tripliceren|trippelen|trippen|trissen|tritsen|trivialiseren|trivianten|triëren|troebleren|troefcallen|troetelen|troeven|troggelen|trollen|trommelen|trommen|trompen|trompetten|trompetteren|tronen|troosten|troosteten|troostwinkelen|trossen|trotseren|trotten|troubleshooten|trouwdansen|trouwen|trufferen|trukeren|trunkeren|tsjilpen|tsjirpen|tuchtigen|tuffen|tuien|tuieren|tuigen|tuimelen|tuinen|tuinieren|tuisen|tuitelen|tuiten|tukken|tunen|tunneldenken|tunnelen|turbolezen|turen|turfsteken\"pos'; Query could not be parsed.\n",
      "\u001b[Fno viable alternative at input '[lemma=\"turken|turnen|turven|tussenkomen|tussenvoegen|tutoren|tutoyeren|tuttelen|tutten|tutteren|tv-kijken|tv-surfen|tweaken|tweernen|tweeten|twerken|twidden|twijfelen|twijnen|twilliciteren|twinkelen|twirlen|twisten|twitteren|typecasten|typen|typeren|typosquatten|uitademen|uitbadgen|uitbaggeren|uitbakenen|uitbakken|uitbalanceren|uitbannen|uitbarsten|uitbaten|uitbazuinen|uitbeelden|uitbeitelen|uitbellen|uitbenen|uitbesteden|uitbetalen|uitbieden|uitbijten|uitblazen|uitblijven|uitblinken|uitbloeien|uitblussen|uitblutsen|uitbodemen|uitboeken|uitboeten|uitbollen|uitboren|uitborstelen|uitbotten|uitbouwen|uitbraden|uitbraken|uitbranden|uitbreiden|uitbreken|uitbrengen|uitbroeden|uitbruisen|uitbrullen|uitbuigen|uitbuiken|uitbuiten|uitbulderen|uitburgeren|uitchecken|uitcijferen|uitdagen|uitdampen|uitdeinen|uitdelen|uitdelgen|uitdelven|uitdenken|uitdeuken|uitdienen|uitdiepen|uitdijen|uitdoen|uitdokteren|uitdossen|uitdoven|uitdraaien|uitdragen|uitdrijven|uitdrinken|uitdrogen|uitdruipen|uitdrukken|uitdruppen|uitduiden\"pos'; Query could not be parsed.\n",
      "\u001b[Fno viable alternative at input '[lemma=\"uitdunnen|uitduwen|uiteendoen|uiteendrijven|uiteengaan|uiteengroeien|uiteenhalen|uiteenhouden|uiteenjagen|uiteenleggen|uiteenliggen|uiteenlopen|uiteenrafelen|uiteenrijten|uiteenrukken|uiteenscheuren|uiteenslaan|uiteenspatten|uiteenstuiven|uiteentrekken|uiteenvallen|uiteenzetten|uiten|uiteten|uitfaden|uitfaseren|uitfilteren|uitflappen|uitfloepen|uitfluiten|uitfoeteren|uitfrezen|uitgaan|uitgalmen|uitgeven|uitgieren|uitgieten|uitgillen|uitglijden|uitglippen|uitgloeien|uitgommen|uitgooien|uitgraven|uitgroeien|uitgummen|uithakken|uithalen|uithangen|uitharden|uithijgen|uithoesten|uithollen|uithongeren|uithoren|uithouden|uithouwen|uithuilen|uithuwelijken|uitjagen|uitjoelen|uitjouwen|uitjubelen|uitkafferen|uitkakken|uitkammen|uitkappen|uitkauwen|uitkeren|uitkerven|uitkienen|uitkieperen|uitkiezen|uitkijken|uitkippen|uitklappen|uitklaren|uitkleden|uitklimmen|uitklinken|uitklokken|uitkloppen|uitknijpen|uitknippen|uitknobbelen|uitknobelen|uitkoken|uitkomen|uitkopen|uitkotsen|uitkraaien|uitkrabben|uitkramen|uitkrassen|uitkrijgen|uitkrijten|uitkristalliseren|uitkuisen|uitlachen|uitladen\"pos'; Query could not be parsed.\n",
      "\u001b[Fno viable alternative at input '[lemma=\"uitlaten|uitleasen|uitleggen|uitleiden|uitlekken|uitlenen|uitlepelen|uitleven|uitleveren|uitlezen|uitlichten|uitlijnen|uitlikken|uitlogen|uitloggen|uitlokken|uitlopen|uitloten|uitloven|uitluiden|uitluisteren|uitmaken|uitmalen|uitmasseren|uitmelken|uitmergelen|uitmesten|uitmeten|uitmiddelen|uitmijnen|uitmonden|uitmonsteren|uitmoorden|uitmunten|uitnemen|uitnodigen|uitnullen|uitnutten|uitoefenen|uitonderhandelen|uitontwikkelen|uitpakken|uitparkeren|uitpeilen|uitpersen|uitpeuteren|uitpiepen|uitpikken|uitplaatsen|uitplanten|uitpluizen|uitplukken|uitplunderen|uitpoepen|uitpoetsen|uitpolderen|uitpompen|uitpraten|uitprepareren|uitprikken|uitprinten|uitproberen|uitproesten|uitpuffen|uitpuilen|uitpuren|uitputten|uitpuzzelen|uitrafelen|uitraken|uitrangeren|uitrazen|uitreden|uitregenen|uitreiken|uitrekenen|uitrekken|uitrennen|uitrichten|uitrijden|uitrijzen|uitroeien|uitroepen|uitroken|uitrollen|uitroosteren|uitruilen|uitruimen|uitrukken|uitrusten|uitruziën|uitschakelen|uitschateren|uitscheiden|uitschelden|uitschenken|uitscheppen|uitscheren|uitscheuren|uitschieten\"pos'; Query could not be parsed.\n",
      "\u001b[Fno viable alternative at input '[lemma=\"uitschijnen|uitschijten|uitschoppen|uitschrapen|uitschreeuwen|uitschreien|uitschrijven|uitschudden|uitschuiven|uitschuren|uitselecteren|uitserveren|uitsijpelen|uitslaan|uitslapen|uitslepen|uitsliepen|uitslieren|uitslijpen|uitslijten|uitsloven|uitsluipen|uitsluiten|uitslurpen|uitsmelten|uitsmeren|uitsmijten|uitsmokkelen|uitsnijden|uitsoppen|uitsorteren|uitspannen|uitsparen|uitspatten|uitspelen|uitspellen|uitspinnen|uitspitten|uitsplitsen|uitspoelen|uitspoken|uitspreiden|uitspreken|uitspringen|uitspruiten|uitspugen|uitspuiten|uitspuwen|uitstaan|uitstallen|uitstansen|uitstappen|uitsteken|uitstellen|uitstempelen|uitsterven|uitstijgen|uitstippelen|uitstoffen|uitstomen|uitstormen|uitstorten|uitstoten|uitstralen|uitstrekken|uitstrijken|uitstromen|uitstrooien|uitstulpen|uitsturen|uittekenen|uittellen|uitteren|uittesten|uittikken|uittillen|uittorenen|uittornen|uittrappen|uittreden|uittrekken|uittypen|uitvaardigen|uitvagen|uitvallen|uitvangen|uitvaren|uitvechten|uitvegen|uitventen|uitverdedigen|uitvergroten|uitverkiezen|uitverkopen|uitvertellen|uitveteren|uitvieren|uitvinden|uitvinken|uitvissen\"pos'; Query could not be parsed.\n",
      "\u001b[Fno viable alternative at input '[lemma=\"uitvlaggen|uitvlakken|uitvliegen|uitvloeien|uitvloeken|uitvlooien|uitvoegen|uitvoeren|uitvogelen|uitvorsen|uitvouwen|uitvragen|uitvreten|uitvriezen|uitvullen|uitwaaien|uitwaaieren|uitwalsen|uitwandelen|uitwasemen|uitwassen|uitwateren|uitwegen|uitweiden|uitweken|uitwerken|uitwerpen|uitwieden|uitwijden|uitwijken|uitwijzen|uitwinnen|uitwinteren|uitwippen|uitwisselen|uitwissen|uitwoeden|uitwonen|uitwrijven|uitwringen|uitwuiven|uitzaaien|uitzagen|uitzakken|uitzeilen|uitzenden|uitzetten|uitzieken|uitzien|uitziften|uitzingen|uitzitten|uitzoeken|uitzonderen|uitzoomen|uitzuigen|uitzuiveren|uitzwaaien|uitzwangeren|uitzwavelen|uitzwenken|uitzweren|uitzwermen|uitzwerven|uitzweten|unfollowen|unidansen|unificeren|uniformaliseren|uniformeren|uniformiseren|uniëren|unloaden|unlocken|unzippen|upcyclen|updaten|upgraden|uploaden|uppen|upsellen|urbaniseren|urineren|urmen|usurperen|utiliseren|vaatwassen|vaccineren|vaceren|vacumeren|vademen|vaderen|vagen|vakantiedaten|vakkenvullen|valideren|vallen|valoriseren|valschermspringen|valsspelen\"pos'; Query could not be parsed.\n",
      "\u001b[Fno viable alternative at input '[lemma=\"valuteren|vandaliseren|vangen|vanpoolen|vaporiseren|varen|variabiliseren|variëren|vastbakken|vastbijten|vastbinden|vastbouten|vastbouwen|vastdraaien|vastdrukken|vasten|vastgespen|vastgrijpen|vastgroeien|vasthaken|vasthangen|vasthebben|vasthechten|vasthouden|vastketenen|vastklampen|vastklemmen|vastkleven|vastklikken|vastklinken|vastklitten|vastkluisteren|vastknopen|vastkoeken|vastkoppelen|vastkrijgen|vastlassen|vastleggen|vastliggen|vastlijmen|vastlopen|vastmaken|vastnaaien|vastnagelen|vastnemen|vastnieten|vastpakken|vastpennen|vastpinnen|vastplakken|vastpraten|vastprikken|vastraken|vastrijden|vastroesten|vastschrijven|vastschroeven|vastsjorren|vastslaan|vastsnoeren|vastspelden|vastspijkeren|vaststaan|vaststellen|vaststikken|vasttrekken|vastvijzen|vastvriezen|vastwerken|vastzetten|vastzitten|vastzuigen|vaten|vatten|vechten|vedelen|veenlopen|veesten|vegen|vegeteren|veilen|veiligstellen|veinzen|veldrijden|veldschieten|velen|vellen|vendelen|vendelzwaaien|venten|ventileren|ventrikelfibrilleren|veraangenamen|veraanschouwelijken|verabsoluteren|verachten|verachtvoudigen|verademen|verafgoden|verafschuwen\"pos'; Query could not be parsed.\n",
      "\u001b[Fno viable alternative at input '[lemma=\"veralgemenen|veralgemeniseren|veramerikaansen|veramerikaniseren|veranderen|verankeren|verantwoorden|verappen|verarmen|verassen|verbabbelen|verbaliseren|verbannen|verbasteren|verbazen|verbeelden|verbeestelijken|verbeesten|verbeiden|verbellen|verbergen|verbeteren|verbeulemansen|verbeurdverklaren|verbeuren|verbeuzelen|verbieden|verbijsteren|verbijten|verbijzonderen|verbinden|verbitteren|verblazen|verbleken|verblijden|verblijen|verblijven|verblikken|verblinden|verbloeden|verbloemen|verblozen|verbluffen|verboemelen|verboeren|verbossen|verbouwen|verbouwereren|verbranden|verbrassen|verbreden|verbreiden|verbreken|verbrengen|verbrijzelen|verbroddelen|verbrodden|verbroederen|verbrokkelen|verbronzen|verbruien|verbruiken|verbuigen|verbunkeren|verburgerlijken|verchristelijken|verchromen|vercijferen|vercommercialiseren|verdagen|verdampen|verdapperen|verdedigen|verdeemoedigen|verdelen|verdelgen|verdenken|verdergaan|verderven|verderzetten|verdichten|verdienen|verdiepen|verdierlijken|verdietsen|verdikken|verdisconteren|verdobbelen|verdoeken|verdoemen|verdoen|verdoezelen|verdokteren|verdolen|verdommen|verdonkeremanen|verdonkeren|verdorren|verdorsten|verdoven\"pos'; Query could not be parsed.\n",
      "\u001b[Fno viable alternative at input '[lemma=\"verdraaien|verdragen|verdriedubbelen|verdrieten|verdrievoudigen|verdrijven|verdringen|verdrinken|verdrogen|verdromen|verdrukken|verdubbelen|verduffen|verduidelijken|verduiken|verduisteren|verduitsen|verduizendvoudigen|verdunnen|verduren|verduurzamen|verduwen|verdwalen|verdwazen|verdwergen|verdwijnen|veredelen|vereelten|vereenvoudigen|vereenzamen|vereenzelvigen|vereeuwigen|vereffenen|vereisen|veren|verenen|verengelsen|verengen|verenigen|verenkelen|vereremerken|vereren|verergeren|vererven|veresteren|veretteren|vereuropesen|verevenen|verexcuseren|verfijnen|verfilmen|verflauwen|verflensen|verfoeien|verfomfaaien|verfotograferen|verfraaien|verfransen|verfrissen|verfrommelen|verfronselen|vergaan|vergaderen|vergallen|vergalopperen|vergapen|vergaren|vergassen|vergasten|vergeestelijken|vergelden|vergelen|vergelijken|vergemakkelijken|vergen|vergenoegen|vergeten|vergeven|vergewissen|vergezellen|vergieten|vergiftigen|vergissen|vergisten|verglazen|verglijden|vergoddelijken|vergoden|vergoeden|vergoelijken|vergokken|vergooien|vergrauwen|vergraven|vergrendelen|vergrijpen|vergrijzen|vergroeien|vergroenen|vergroten\"pos'; Query could not be parsed.\n"
     ]
    },
    {
     "name": "stdout",
     "output_type": "stream",
     "text": [
      "\u001b[Fno viable alternative at input '[lemma=\"vergruizen|verguizen|vergulden|vergunnen|verhaasten|verhagen|verhakkelen|verhakken|verhakselen|verhakstukken|verhalen|verhalvezolen|verhandelen|verhangen|verhapstukken|verharden|verharen|verhaspelen|verheerlijken|verheffen|verheimelijken|verhelderen|verhelen|verhelpen|verheugen|verhevigen|verhinderen|verhippen|verhitten|verhoeden|verhoeren|verhogen|verhollandsen|verhonderdvoudigen|verhongeren|verhopen|verhoren|verhouden|verhovaardigen|verhuizen|verhullen|verhuren|verhypothekeren|verifiëren|verijdelen|verindischen|verinnerlijken|verinnigen|verjagen|verjaren|verjongen|verkalken|verkankeren|verkassen|verkavelen|verkazen|verkennen|verkeren|verkerven|verketteren|verkiezen|verkijken|verkillen|verkindsen|verklanken|verklappen|verklaren|verkleden|verkleinen|verkletsen|verkleumen|verkleuren|verkleven|verklikken|verklinken|verkloeken|verkloten|verklungelen|verknallen|verknechten|verkneukelen|verkneuteren|verkniezen|verknippen|verknoeien|verknollen|verknopen|verkoelen|verkoeveren|verkoken|verkokeren|verkolen|verkommeren|verkonden|verkondigen|verkopen|verkoperen|verkorrelen|verkorten|verkrachten\"pos'; Query could not be parsed.\n",
      "\u001b[Fno viable alternative at input '[lemma=\"verkrampen|verkrappen|verkreukelen|verkreuken|verkreupelen|verkrijgen|verkrimpen|verkrommen|verkroppen|verkrotten|verkruien|verkruimelen|verkwanselen|verkwijnen|verkwikken|verkwisten|verladen|verlagen|verlakken|verlammen|verlanden|verlangen|verlangzamen|verlappen|verlaten|verleasen|verleggen|verleiden|verleien|verlekkeren|verlenen|verlengen|verleppen|verleren|verletten|verleuteren|verlevendigen|verlezen|verlichten|verliederlijken|verlieven|verliezen|verliggen|verlijden|verlijmen|verlinken|verlinksen|verloden|verloederen|verlokken|verlonen|verloochenen|verlopen|verlossen|verloten|verloven|verluchten|verluchtigen|verluiden|verluieren|verlummelen|verlustigen|vermageren|vermaken|vermaledijen|vermalen|vermanen|vermangelen|vermannelijken|vermannen|vermaren|vermarkten|vermassacreren|vermeerderen|vermeien|vermelden|vermemelen|vermengen|vermenigvuldigen|vermenselijken|vermerken|vermeten|vermijden|verminderen|verminken|vermissen|vermoeden|vermoeien|vermoeilijken|vermogen|vermolmen|vermommen|vermooien|vermoorden|vermorsen|vermorzelen|vermurwen|vernaaien|vernachelen|vernachten\"pos'; Query could not be parsed.\n",
      "\u001b[Fno viable alternative at input '[lemma=\"vernagelen|vernatten|vernauwen|vernederen|vernederlandsen|vernemen|vernestelen|verneuken|vernevelen|vernielen|vernietigen|vernieuwen|vernikkelen|vernissen|vernoemen|vernummeren|veronaangenamen|veronachtzamen|veronderstellen|verondiepen|verongelijken|verongelukken|verontheiligen|verontreinigen|verontrusten|verontschuldigen|verontwaardigen|veroordelen|veroorloven|veroorzaken|verootmoedigen|veropenbaren|verorberen|verordenen|verordineren|verordonneren|verouderen|verouwelijken|veroveren|verpaarden|verpachten|verpakken|verpanden|verpappen|verpatsen|verpauperen|verpersoonlijken|verpesten|verpieteren|verpinken|verplaatsen|verplanten|verplassen|verplegen|verpletten|verpletteren|verplichten|verpolderen|verpolitieken|verpompen|verpoppen|verpoten|verpotten|verpozen|verpraten|verprutsen|verpulpen|verpulveren|verraden|verramsjen|verrassen|verrechtsen|verrechtvaardigen|verregenen|verreizen|verrekenen|verrekken|verrichten|verrijden|verrijken|verrijzen|verrimpelen|verrinneweren|verroeren|verroesten|verroken|verrollen|verrommelen|verronselen|verroomsen|verrotten|verruigen|verruilen|verruimen|verrukken|verruwen|verruïneren|versagen|versassen|verschaffen\"pos'; Query could not be parsed.\n",
      "\u001b[Fno viable alternative at input '[lemma=\"verschalen|verschalken|verschansen|verscheiden|verschelen|verschenken|verschepen|verscherpen|verscheuren|verschieten|verschijnen|verschijten|verschikken|verschillen|verschimmelen|verschonen|verschoolsen|verschoppen|verschralen|verschrijven|verschrikken|verschroeien|verschrompelen|verschroten|verschuilen|verschuimen|verschuiven|versieren|versificeren|versimpelen|versjachelen|versjacheren|versjouwen|versjteren|verslaan|verslampampen|verslanken|verslapen|verslappen|verslaven|verslechten|verslechteren|verslensen|verslepen|versleutelen|verslijten|verslikken|verslinden|verslingeren|versloffen|verslonzen|versluieren|versluizen|versmachten|versmaden|versmallen|versmelten|versmeren|versmoren|versnellen|versnijden|versnipperen|versnoepen|versoberen|versoepelen|versomberen|verspanen|verspelen|verspenen|versperren|verspieden|verspijkeren|verspillen|verspinnen|versplijten|versplinteren|verspoedigen|verspreiden|verspreken|verspringen|verstaan|verstalen|verstallen|verstappen|verstarren|verstedelijken|versteedsen|versteken|verstellen|verstenen|versterken|versterven|verstevigen|verstieren|verstijven|verstikken|verstillen|verstoken|verstokken|verstommen\"pos'; Query could not be parsed.\n",
      "\u001b[Fno viable alternative at input '[lemma=\"verstoppen|verstoren|verstoten|verstouten|verstouwen|verstrakken|verstrammen|verstrekken|verstrengelen|verstrengen|verstrijken|verstrikken|verstrooien|verstroppen|verstruiken|verstuiken|verstuiven|versturen|verstuwen|versubjectiveren|versuffen|versuikeren|versukkelen|vertakken|vertalen|vertalibaniseren|vertederen|vertegenwoordigen|vertekenen|vertellen|verteren|verteuten|verticaliseren|verticuteren|vertiefen|vertienvoudigen|vertikken|vertillen|vertimmeren|vertinnen|vertoetsen|vertoeven|vertolken|vertonen|vertoornen|vertragen|vertrammen|vertrappelen|vertrappen|vertreden|vertrekken|vertroebelen|vertroetelen|vertroosten|vertrouwen|vertuien|vertwijfelen|vertwintigen|vertwitteren|veruiterlijken|veruitwendigen|vervaardigen|vervagen|vervalen|vervallen|vervalsen|vervangen|vervaren|vervatten|verveelvoudigen|vervelen|vervellen|verven|vervenen|verversen|vervetten|verviervoudigen|vervijfvoudigen|vervilten|vervlaamsen|vervlakken|vervlechten|vervliegen|vervlieten|vervloeien|vervloeken|vervluchtigen|vervoegen|vervoeren|vervolgen|vervolledigen|vervolmaken|vervorderen|vervormen|vervrachten|vervreemden|vervriezen|vervroegen|vervrouwelijken|vervuilen\"pos'; Query could not be parsed.\n",
      "\u001b[Fno viable alternative at input '[lemma=\"vervullen|verwaaien|verwaardigen|verwaarlozen|verwachten|verwarmen|verwarren|verwasemen|verwassen|verwateren|verwedden|verwekelijken|verweken|verwekken|verwelken|verwelkomen|verwennen|verwensen|verwereldlijken|verweren|verwerkelijken|verwerken|verwerpen|verwerven|verwesteren|verwestersen|verwetenschappelijken|verweven|verwezen|verwezenlijken|verwijden|verwijderen|verwijlen|verwijten|verwijven|verwijzen|verwikkelen|verwikken|verwilderen|verwinden|verwinnen|verwinteren|verwisselen|verwitten|verwittigen|verwoesten|verwokkelen|verwonden|verwonderen|verwonen|verwoorden|verworden|verwrikken|verwringen|verwurgen|veryoutuben|veryuppen|verzaaien|verzachten|verzaden|verzadigen|verzagen|verzakelijken|verzaken|verzakken|verzamelen|verzanden|verzegelen|verzeggen|verzeilen|verzekeren|verzelfstandigen|verzenden|verzengen|verzepen|verzesvoudigen|verzetten|verzieken|verzien|verzilten|verzilveren|verzinken|verzinnebeelden|verzinnelijken|verzinnen|verzitten|verzoeken|verzoenen|verzoeten|verzolen|verzorgen|verzouten|verzuchten|verzuilen|verzuimen|verzuipen|verzuren|verzusteren|verzwageren|verzwakken\"pos'; Query could not be parsed.\n",
      "\u001b[Fno viable alternative at input '[lemma=\"verzwaren|verzwarten|verzwelgen|verzwendelen|verzweren|verzwijgen|verzwikken|verzwinden|vesten|vestigen|veteren|vetmesten|vetoën|vetten|vetweiden|vexeren|vezelen|vibreren|videobellen|videochatten|videovergaderen|vieren|vierendelen|vierkanten|viewen|vigeren|vigileren|vijlen|vijzelen|vijzen|villen|vinden|vindiceren|vingeren|vingerkleuren|vingerknippen|vingerwijzen|vinificeren|vinken|violeren|vioolspelen|viriliseren|virtualiseren|viseren|visiteren|vissen|visualiseren|vitaliseren|vitaliteitssparen|vitamineren|vitiëren|vitten|vlaggen|vlakken|vlammen|vlassen|vlechten|vleien|vlekken|vletten|vlezen|vlieden|vliegen|vliegeren|vliegersurfen|vliegvissen|vlieten|vlijen|vlijmen|vlinderen|vloeien|vloeken|vloeren|vloggen|vlokken|vlooien|vlotten|vluchten|vluggeren|vocaliseren|vochten|voeden|voederen|voegen|voelen|voeren|voetballen|voeteren|voetjevrijen|vogelen|vogelschieten|vogelspotten|voipen|volbouwen|volbrassen|volbrengen|voldingen|voldoen|voleinden|voleindigen\"pos'; Query could not be parsed.\n",
      "\u001b[Fno viable alternative at input '[lemma=\"volgen|volgieten|volgooien|volgroeien|volhangen|volharden|volhouden|volkalken|volkladden|volkrabbelen|volksdansen|volladen|vollen|volleren|volleyballen|volleyen|vollopen|vollullen|volmachtigen|volmaken|volpakken|volplakken|volplanten|volplempen|volpompen|volpraten|volproppen|volschenken|volscheppen|volschieten|volschrijven|volsmeren|volspammen|volspelen|volspuiten|volstaan|volstampen|volstapelen|volstoppen|volstorten|volstouwen|volstromen|voltanken|voltigeren|voltooien|voltrekken|volvoeren|volvreten|volzuigen|vomeren|vonkelen|vonken|vonnissen|vooraanmelden|voorafgaan|voorbakken|voorbedingen|voorbehouden|voorbereiden|voorbeschikken|voorbespreken|voorbestemmen|voorbewerken|voorbidden|voorbijdenderen|voorbijdrijven|voorbijfietsen|voorbijflitsen|voorbijgaan|voorbijglijden|voorbijijlen|voorbijkomen|voorbijkruipen|voorbijlopen|voorbijpraten|voorbijrazen|voorbijrennen|voorbijrijden|voorbijscheren|voorbijscheuren|voorbijschieten|voorbijschuiven|voorbijsnellen|voorbijsteken|voorbijstreven|voorbijtrekken|voorbijvaren|voorbijvliegen|voorbijwandelen|voorbijzien|voorbijzoeven|voorbinden|voorblijven|voorboren|voorbrengen|voordansen|voordienen|voordoen|voordragen|voordringen\"pos'; Query could not be parsed.\n",
      "\u001b[Fno viable alternative at input '[lemma=\"voordrukken|voorfinancieren|voorgaan|voorgeleiden|voorgeven|voorhangen|voorhebben|voorhouden|voorhuwelijkssparen|voorinschrijven|voorinstalleren|voorinvullen|voorkauwen|voorkoken|voorkomen|voorkopen|voorkruipen|voorlaten|voorleggen|voorleiden|voorleven|voorlezen|voorlichten|voorliegen|voorliggen|voorlopen|voornemen|vooronderstellen|vooroplopen|vooropstaan|vooropstellen|vooropzetten|vooroverbuigen|vooroverlijden|voorpraten|voorproduceren|voorproeven|voorprogrammeren|voorpubliceren|voorrekenen|voorrijden|voorschieten|voorschotelen|voorschrijven|voorschuiven|voorselecteren|voorslaan|voorsnijden|voorsorteren|voorspannen|voorspelden|voorspelen|voorspellen|voorspiegelen|voorspreken|voorstaan|voorsteken|voorstellen|voorstemmen|voortbewegen|voortboeren|voortborduren|voortbouwen|voortbrengen|voortdenderen|voortdoen|voortdrijven|voortduren|voortduwen|voortekenen|voortellen|voortgaan|voortglijden|voortgroeien|voorthelpen|voorthollen|voortijlen|voortjagen|voortjakkeren|voortkabbelen|voortkomen|voortleven|voortlopen|voortmaken|voortmodderen|voortoveren|voortplanten|voortrazen|voortreden|voortredeneren|voortrekken|voortrijden|voortrollen|voortschrijden|voortslepen|voortsnellen|voortspelen|voortspoeden|voortspruiten|voortstappen\"pos'; Query could not be parsed.\n"
     ]
    },
    {
     "name": "stdout",
     "output_type": "stream",
     "text": [
      "\u001b[Fno viable alternative at input '[lemma=\"voortstormen|voortstrompelen|voortstuwen|voortsudderen|voortsukkelen|voorttrekken|voortvaren|voortverkopen|voortvertellen|voortvloeien|voortwerken|voortwoeden|voortwoekeren|voortzeggen|voortzetten|voortzeulen|voortzieken|vooruitbetalen|vooruitblikken|vooruitbranden|vooruitbrengen|vooruitdenken|vooruitgaan|vooruitgrijpen|vooruithelpen|vooruitkijken|vooruitkomen|vooruitlopen|vooruitmaken|vooruitrijden|vooruitschuiven|vooruitsnellen|vooruitspringen|vooruitsteken|vooruitsturen|vooruitwerken|vooruitwerpen|vooruitwijzen|vooruitzetten|vooruitzien|voorvallen|voorverkopen|voorvertonen|voorverwarmen|voorvoelen|voorwenden|voorwerpen|voorzeggen|voorzetten|voorzien|voorzingen|voorzitten|voorzuiveren|vorderen|vormen|vormgeven|vorsen|vossen|voteren|votsen|vousvoyeren|vouwen|vozen|vragen|vreemdgaan|vreten|vrezen|vriesdrogen|vriezen|vrijbuiten|vrijdenken|vrijen|vrijgeven|vrijhouden|vrijkomen|vrijkopen|vrijlaten|vrijlopen|vrijloten|vrijmaken|vrijpleiten|vrijroosteren|vrijspelen|vrijspreken|vrijstaan|vrijstellen|vrijvallen|vrijvechten|vrijverklaren|vrijwaren|vroegboeken|vroemen|vrouwsjouwen|vuilbekken|vuilmaken|vulgariseren|vulkaniseren|vullen|vuren|vutten\"pos'; Query could not be parsed.\n",
      "\u001b[Fno viable alternative at input '[lemma=\"waaien|waaieren|waaierrijden|waarborgen|waarderen|waarmaken|waarmerken|waarnemen|waarschuwen|waarzeggen|wachten|wachtlopen|waden|wadlopen|wadvaren|wagen|waggelbenen|waggelen|wakeboarden|waken|walen|walgen|walken|wallen|walmen|walsen|wammen|wanboffen|wandelen|wanen|wanhopen|wankelen|wannen|wanpresteren|wanten|wantrouwen|wapenen|wapperen|waren|warmdraaien|warmen|warmlopen|warrelen|warren|wasemen|wassen|waterboarden|wateren|waterfietsen|watergolven|waterpassen|waterpoloën|waterskiën|watersporten|watertanden|watertrappelen|watertrappen|waterwonen|watteren|wauwelen|waveboarden|waven|waxen|webbanken|webcammen|webleren|webloggen|webpesten|websurfen|webvertisen|webwerven|webwinkelen|wecken|wedden|wedergeven|wederhoren|wederkeren|wederkomen|wedervaren|wederzien|wedijveren|wedstrijdroeien|weekeinden|weekenden|weeklagen|weergalmen|weergeven|weerhouden|weerkaatsen|weerkeren|weerklinken|weerkrijgen|weerleggen|weerlichten|weeromkomen|weersparen|weerspiegelen|weerspreken|weerstaan|weerstreven\"pos'; Query could not be parsed.\n",
      "\u001b[Fno viable alternative at input '[lemma=\"weervinden|weerzien|wegbaggeren|wegbelasten|wegbenen|wegbergen|wegbezuinigen|wegblazen|wegblijven|wegbombarderen|wegbonjouren|wegbranden|wegbreken|wegbrengen|wegbureaucratiseren|wegcijferen|wegconcurreren|wegdeemsteren|wegdefiniëren|wegdeinen|wegdenken|wegdeppen|wegdoen|wegdoezelen|wegdommelen|wegdraaien|wegdragen|wegdrijven|wegdringen|wegdrinken|wegdromen|wegdrukken|wegdrummen|wegduiken|wegduwen|wegebben|wegen|wegeren|wegetsen|wegfietsen|wegfilteren|wegfrezen|wegfrommelen|weggaan|weggeven|weggieten|wegglijden|wegglippen|weggommen|weggooien|weggraven|weggrissen|weggroeien|weggummen|weghaasten|weghakken|weghalen|weghangen|weghelpen|weghollen|weghonen|weghouden|wegjagen|wegjorissen|wegkankeren|wegkapen|wegkappen|wegkeilen|wegkijken|wegklikken|wegknippen|wegkomen|wegkopen|wegkoppen|wegkrabben|wegkrassen|wegkrijgen|wegkruipen|wegkruisen|wegkwijnen|weglachen|weglakken|weglaten|wegleggen|wegleiden|weglekken|weglezen|weglokken|weglopen|wegmaaien|wegmaken|wegmasseren|wegmengen|wegmoffelen|wegnemen|wegpakken|wegpesten|wegpiepen|wegpikken|wegpinken\"pos'; Query could not be parsed.\n",
      "\u001b[Fno viable alternative at input '[lemma=\"wegplukken|wegpoetsen|wegpompen|wegpraten|wegpromoveren|wegraken|wegrationaliseren|wegreageren|wegredeneren|wegrelativeren|wegrennen|wegretoucheren|wegrijden|wegritsen|wegroepen|wegroesten|wegrollen|wegrotten|wegroven|wegruimen|wegrukken|wegsaneren|wegschenken|wegscheppen|wegscheren|wegscheuren|wegschieten|wegschoppen|wegschrapen|wegschrijven|wegschuilen|wegschuiven|wegschuren|wegsijpelen|wegslaan|wegslenteren|wegslepen|wegsleuren|wegslijpen|wegslijten|wegslikken|wegslingeren|wegslinken|wegslippen|wegsluipen|wegsluiten|wegsluizen|wegsmelten|wegsmijten|wegsnellen|wegsnijden|wegsnoeien|wegsoezen|wegspelen|wegspoelen|wegspringen|wegspuiten|wegstaken|wegstappen|wegsteken|wegstemmen|wegsterven|wegstoppen|wegstormen|wegstrepen|wegstrijken|wegstromen|wegstuiven|wegsturen|wegsuffen|wegtakelen|wegteren|wegtikken|wegtoetsen|wegtoveren|wegtrappen|wegtrekken|wegvagen|wegvallen|wegvangen|wegvaren|wegvegen|wegvijlen|wegvissen|wegvliegen|wegvloeien|wegvluchten|wegvoeren|wegvreten|wegwaaien|wegwandelen|wegwassen|wegwerken|wegwerpen|wegwezen|wegwimpelen|wegwissen|wegwuiven|wegzagen|wegzakken\"pos'; Query could not be parsed.\n",
      "\u001b[Fno viable alternative at input '[lemma=\"wegzappen|wegzeilen|wegzenden|wegzetten|wegzinken|wegzuigen|wegzuiveren|wegzwemmen|wegzweven|wegzwijmelen|weiden|weifelen|weigeren|weilandskiën|weken|wekken|weldoen|welgaan|welken|wellen|wellnessen|welvaren|welven|wemelen|wenden|wenen|wenken|wennen|wensen|wentelen|weren|werken|werkplekleren|werpen|wervelen|werven|westelijken|weten|wetten|wettigen|weven|wezen|whappen|whatsappen|wheelen|wheeleren|whitewashen|wichelen|wiebelen|wieberen|wieden|wiegelen|wiegen|wieken|wielen|wielrennen|wielrijden|wiemelen|wieroken|wifidelen|wifiliften|wiiën|wijden|wijken|wijlen|wijnproeven|wijnroeien|wijsmaken|wijten|wijzen|wijzigen|wikiën|wikkelen|wikken|wildbraken|wildbreien|wildcrossen|wildkamperen|wildparkeren|wildplakken|wildplassen|wildpoepen|wildschommelen|wildstallen|wildwaterkanoën|wildwaterraften|wildwatervaren|wildzwemmen|wilfen|willen|willigen|wimpelen|winden|windowshoppen|windsurfen|winkelen|winnen|winteren|wippen|wipwappen\"pos'; Query could not be parsed.\n",
      "\u001b[Fno viable alternative at input '[lemma=\"wisselen|wissen|witten|witwassen|wobben|woeden|woekeren|woelen|wokkelen|wokken|wolmaniseren|wolven|wonden|wonderen|wonen|woningdelen|woonsparen|worden|wordfeuden|worgen|work-outen|workshoppen|worstelen|wortelen|worteltrekken|wraken|wrappen|wreken|wriemelen|wriggelen|wrijven|wrikken|wringen|wrochten|wroegen|wroeten|wrokken|wuiven|wurgen|wurmen|www-winkelen|xeroxen|yahtzeeën|yammeren|yellen|yogaën|zaadshoppen|zaaien|zabbelen|zabberen|zadelen|zagen|zakenbankieren|zakendoen|zakken|zakkenrollen|zakkenvullen|zaklopen|zakspringen|zaligen|zalven|zamelen|zanden|zandschilderen|zandstralen|zandsurfen|zaniken|zanten|zappen|zedenmeesteren|zeefdrukken|zeevaren|zeezeilen|zegelen|zegenen|zegepralen|zegevieren|zeggen|zeiken|zeilen|zeilensnijden|zekeren|zelfroosteren|zelfscannen|zemelen|zemelknopen|zemen|zenden|zengen|zepen|zetelen|zetten|zeulen|zeuren|zeven|zeveren|zichten|zieden|zieken|ziekenhuishoppen\"pos'; Query could not be parsed.\n",
      "\u001b[Fno viable alternative at input '[lemma=\"ziekzoeken|zieltogen|zien|ziften|zigzaggen|zijgen|zijinstromen|zijn|zijpelen|zinderen|zingen|zinken|zinnen|zinspelen|zippen|zitten|zoekbrengen|zoeken|zoekmaken|zoekraken|zoelen|zoemen|zoenen|zoeten|zoetvijlen|zoeven|zogen|zolderen|zolen|zomen|zomeren|zondagshoppen|zondagswinkelen|zondigen|zoneren|zonnebaden|zonnekloppen|zonnen|zooien|zoomen|zorben|zorgen|zorgkoken|zorgsparen|zottebollen|zouten|zuchten|zuidelijken|zuigen|zuipen|zuiveren|zullen|zumbaën|zuren|zwaaien|zwaardvechten|zwabberen|zwachtelen|zwalken|zwalpen|zwaluwstaarten|zwammen|zwangeren|zwanzen|zwarten|zwartepieten|zwartkijken|zwartmaken|zwartrijden|zwartvissen|zwartwerken|zwatelen|zwavelen|zweden|zweefvliegen|zwelen|zwelgen|zwellen|zwemen|zwemmen|zwendelen|zwengelen|zwenken|zwepen|zweren|zwermen|zwerven|zweten|zwetsen|zweven|zwichten|zwiepen|zwieren|zwijgen|zwijmelen|zwijmen|zwijnen|zwikken|zwingelen|zwoegen\"pos'; Query could not be parsed.\n"
     ]
    },
    {
     "data": {
      "text/html": [
       "<div>\n",
       "<style scoped>\n",
       "    .dataframe tbody tr th:only-of-type {\n",
       "        vertical-align: middle;\n",
       "    }\n",
       "\n",
       "    .dataframe tbody tr th {\n",
       "        vertical-align: top;\n",
       "    }\n",
       "\n",
       "    .dataframe thead th {\n",
       "        text-align: right;\n",
       "    }\n",
       "</style>\n",
       "<table border=\"1\" class=\"dataframe\">\n",
       "  <thead>\n",
       "    <tr style=\"text-align: right;\">\n",
       "      <th></th>\n",
       "      <th>lemma</th>\n",
       "      <th>pos</th>\n",
       "      <th>known_wordforms</th>\n",
       "      <th>unknown_wordforms</th>\n",
       "    </tr>\n",
       "    <tr>\n",
       "      <th>lemmata</th>\n",
       "      <th></th>\n",
       "      <th></th>\n",
       "      <th></th>\n",
       "      <th></th>\n",
       "    </tr>\n",
       "  </thead>\n",
       "  <tbody>\n",
       "  </tbody>\n",
       "</table>\n",
       "</div>"
      ],
      "text/plain": [
       "Empty DataFrame\n",
       "Columns: [lemma, pos, known_wordforms, unknown_wordforms]\n",
       "Index: []"
      ]
     },
     "metadata": {},
     "output_type": "display_data"
    },
    {
     "data": {
      "application/vnd.jupyter.widget-view+json": {
       "model_id": "51526f40aa9e4f7b9f11449af31bea75",
       "version_major": 2,
       "version_minor": 0
      },
      "text/plain": [
       "HBox(children=(Label(value='Sla uw resultaten op:'), Text(value='mijn_resultaten.csv'), Button(button_style='w…"
      ]
     },
     "metadata": {},
     "output_type": "display_data"
    }
   ],
   "source": [
    "from chaininglib.search.LexiconQuery import *\n",
    "from chaininglib.search.CorpusQuery import *\n",
    "from chaininglib.ui.dfui import display_df\n",
    "\n",
    "\n",
    "\n",
    "# Let's build a function to do the job:\n",
    "# The function will require a lexicon name and a part-of-speech to limit the search to, and the name of a corpus to be searched.\n",
    "# It will return a Pandas DataFrame associating lemmata to their paradigms ('known_wordforms' column) and\n",
    "# missing wordforms found in the corpus ('unknown_wordforms' column).\n",
    "\n",
    "def get_missing_wordforms(lexicon, pos, corpus):    \n",
    "    \n",
    "    print('Finding missing wordforms in a lexicon can take a long time...');\n",
    "    \n",
    "    # LEXICON: \n",
    "    # get a lemmata list having a given part-of-speech\n",
    "    \n",
    "    lq = create_lexicon(lexicon).pos(pos).search()\n",
    "    df_lexicon = lq.kwic()\n",
    "    \n",
    "    # Put the results into an array, so we can loop through the list of lemmata\n",
    "    lexicon_lemmata_arr = [w.lower() for w in df_lexicon[\"writtenForm\"]]\n",
    "    \n",
    "    # Prepare the output:\n",
    "    # instantiate a DataFrame for storing lemmata and mssing wordforms\n",
    "    df_enriched_lexicon = pd.DataFrame(index=lexicon_lemmata_arr, columns=['lemma', 'pos', 'known_wordforms', 'unknown_wordforms'])\n",
    "    df_enriched_lexicon.index.name = 'lemmata'\n",
    "    \n",
    "    # CORPUS: \n",
    "    # loop through the lemmata list, query the corpus for each lemma, \n",
    "    # and compute paradigms differences between both\n",
    "\n",
    "    \n",
    "    # loop through the lemmata list\n",
    "    # and query the corpus for occurances of the lemmata\n",
    "    \n",
    "    # It's a good idea to work with more than one lemma at the time (speed)!\n",
    "    nr_of_lemmata_to_query_atonce = 100\n",
    "    \n",
    "    for i in range(0, len(lexicon_lemmata_arr), nr_of_lemmata_to_query_atonce):\n",
    "        \n",
    "        # slice to small array of lemmata to query at once\n",
    "        small_lemmata_arr = lexicon_lemmata_arr[i : i+nr_of_lemmata_to_query_atonce]\n",
    "        \n",
    "        # join set of lemmata to send them in a query all at once\n",
    "        # beware: single quotes need escaping\n",
    "        lemmata_list = \"|\".join(small_lemmata_arr).replace(\"'\", \"\\\\\\\\'\")\n",
    "        cq = create_corpus(corpus).pattern(r'[lemma=\"' + lemmata_list + r'\" & pos=\"'+pos+'\"]').search()\n",
    "        df_corpus = cq.kwic()\n",
    "        \n",
    "        # if the corpus gave results,\n",
    "        # query the lexicon for the same lemmata\n",
    "        # and compare the paradigms!\n",
    "        \n",
    "        if (len(df_corpus)>0):\n",
    "            for one_lemma in small_lemmata_set: \n",
    "                \n",
    "                # look up the known wordforms in the lexicon\n",
    "                ql = create_lexicon(lexicon).lemma(one_lemma).pos(pos).search()\n",
    "                df_known_wordforms = ql.kwic()\n",
    "                \n",
    "                # we have a lexicon paradigm to compare, do the job now\n",
    "                if (len(df_known_wordforms) != 0):\n",
    "                    \n",
    "                    # gather the lexicon wordforms in a set\n",
    "                    known_wordforms = set( df_known_wordforms['wordform'].str.lower() )\n",
    "                    \n",
    "                    # gather the corpus wordforms (of the same lemma) in a set too\n",
    "                    corpus_lemma_filter = (df_corpus['lemma 0'] == one_lemma)\n",
    "                    corpus_wordforms = set( (df_corpus[ corpus_lemma_filter ])['word 0'].str.lower() )\n",
    "                    \n",
    "                    # Now compute the differences:\n",
    "                    # gather in a set all the corpus wordforms that cannot be found in the lexicon wordforms \n",
    "                    unknown_wordforms = corpus_wordforms.difference(known_wordforms)\n",
    "\n",
    "                    # If we found some missing wordforms, add the results to the output!\n",
    "                    \n",
    "                    if (len(unknown_wordforms) !=0):                        \n",
    "                        # The index of our results will be a key consisting of lemma + part-of-speech\n",
    "                        # Part-of-speech is needed to distinguish homonyms with different grammatical categories.\n",
    "                        # Of course, we need to take glosses into account too to do a truely correct job\n",
    "                        # But we didn't do it here\n",
    "                        key = one_lemma + pos\n",
    "                        df_enriched_lexicon.at[key, 'lemma'] = one_lemma\n",
    "                        df_enriched_lexicon.at[key, 'pos'] = pos\n",
    "                        df_enriched_lexicon.at[key, 'known_wordforms'] = known_wordforms\n",
    "                        df_enriched_lexicon.at[key, 'unknown_wordforms'] = unknown_wordforms\n",
    "                \n",
    "    # return non-empty results, t.i. cases in which we found some wordforms\n",
    "    return df_enriched_lexicon[ df_enriched_lexicon['unknown_wordforms'].notnull() ]\n",
    "\n",
    "\n",
    "# Run the function!\n",
    "\n",
    "base_lexicon=\"molex\"\n",
    "corpus_to_search=\"opensonar\"\n",
    "\n",
    "df = get_missing_wordforms(base_lexicon, \"VERB\", corpus_to_search)\n",
    "\n",
    "# After such a heavy process, it's a good idea to save the results\n",
    "\n",
    "df.to_csv( \"missing_wordforms.csv\", index=False)\n",
    "\n",
    "display_df(df)\n"
   ]
  },
  {
   "cell_type": "markdown",
   "metadata": {},
   "source": [
    "## Case study 9: Train a tagger with data from an annotated corpus, and do something cool"
   ]
  },
  {
   "cell_type": "code",
   "execution_count": null,
   "metadata": {
    "ExecuteTime": {
     "end_time": "2019-02-25T16:08:34.139658Z",
     "start_time": "2019-02-25T16:07:24.836Z"
    }
   },
   "outputs": [],
   "source": [
    "from chaininglib.ui.dfui import display_df\n",
    "from chaininglib.process.corpus import get_tagger\n",
    "from chaininglib.search.CorpusQuery import *\n",
    "from chaininglib.search.LexiconQuery import *\n",
    "\n",
    "import pandas as pd\n",
    "\n",
    "base_lexicon=\"molex\"\n",
    "\n",
    "# we have a given word, let's say: \"loop\"\n",
    "some_word = \"loop\"\n",
    "\n",
    "# get the paradigm of the lemma our word is a part of\n",
    "l = create_lexicon(base_lexicon).lemma(some_word).search()\n",
    "df_paradigm = l.kwic()\n",
    "display_df(df_paradigm)\n",
    "\n",
    "# gather some pattern including our word, out of annotated corpora\n",
    "# here: DET + ADJ + 'loop'\n",
    "\n",
    "dfs_all_corpora = []\n",
    "\n",
    "for one_corpus in get_available_corpora():\n",
    "    print('querying '+one_corpus+'...')\n",
    "    c = create_corpus(one_corpus).word(some_word).detailed_context(True).search()\n",
    "    df_corpus = c.kwic() \n",
    "    \n",
    "    # store the results\n",
    "    dfs_all_corpora.append(df_corpus)\n",
    "\n",
    "# get a tagger trained with our corpus data\n",
    "tagger = get_tagger(dfs_all_corpora)\n",
    "\n",
    "# Use the trained tagger to tag unknown sentences\n",
    "# The input must be like: tagger.tag(['today','is','a','beautiful','day'])\n",
    "\n",
    "sentence = 'Mijn buurman kijkt door de loop van zijn geweer'\n",
    "tagged_sentence = tagger.tag( sentence.split() )\n",
    "\n",
    "print(tagged_sentence)\n",
    "\n",
    "\n",
    "# Know we can lemmatize each occurence of our lemma in the new sentences"
   ]
  },
  {
   "cell_type": "markdown",
   "metadata": {},
   "source": [
    "## Case study 10: Search in corpus and filter on metadata\n",
    "First, we request all available metadata fields of the corpus. Then, we issue a search query, and request all metadata fields for the result. Finally, we filter on metadata values."
   ]
  },
  {
   "cell_type": "code",
   "execution_count": null,
   "metadata": {
    "ExecuteTime": {
     "end_time": "2019-02-25T16:08:34.140416Z",
     "start_time": "2019-02-25T16:07:26.188Z"
    }
   },
   "outputs": [],
   "source": [
    "from chaininglib.search.metadata import get_available_metadata\n",
    "from chaininglib.utils.dfops import df_filter\n",
    "from chaininglib.ui.dfui import display_df\n",
    "from chaininglib.search.CorpusQuery import *\n",
    "\n",
    "\n",
    "corpus_name=\"zeebrieven\"\n",
    "query=r'[lemma=\"boek\"]'\n",
    "# Request all metadata fields from corpus\n",
    "fields = get_available_metadata(corpus_name)\n",
    "# Perform query and ask all metadata\n",
    "c = create_corpus(corpus_name).pattern(query).extra_fields_doc(fields[\"document\"]).search()\n",
    "df_corpus = c.kwic()\n",
    "\n",
    "# Filter on year: > 1700\n",
    "df_filter_year = df_corpus[df_corpus[\"witnessYear_from\"].astype('int32') > 1700] \n",
    "display_df(df_filter_year, labels=\"After 1700\")\n",
    "\n",
    "# Filter on sender birth place Amsterdam\n",
    "condition = df_filter(df_corpus[\"afz_geb_plaats\"], regex_or_set=\"Amsterdam\")\n",
    "df_filter_place = df_corpus[ condition ]\n",
    "display_df(df_filter_place, labels=\"Sender born in Amsterdam\")\n",
    "\n",
    "\n",
    "# Group by birth place\n",
    "df = property_freq(df_corpus,\"afz_loc_plaats\")\n",
    "display_df(df, labels=\"Most frequent sender locations\")"
   ]
  },
  {
   "cell_type": "markdown",
   "metadata": {},
   "source": [
    "## Case study 11: Visualizing h-dropping"
   ]
  },
  {
   "cell_type": "code",
   "execution_count": null,
   "metadata": {
    "ExecuteTime": {
     "end_time": "2019-02-25T16:08:34.141301Z",
     "start_time": "2019-02-25T16:07:27.922Z"
    }
   },
   "outputs": [],
   "source": [
    "from chaininglib.search.CorpusQuery import *\n",
    "from chaininglib.search.metadata import get_available_metadata\n",
    "from chaininglib.ui.dfui import display_df\n",
    "\n",
    "corpus_to_search=\"chn\"\n",
    "\n",
    "fields = get_available_metadata(corpus_to_search)\n",
    "\n",
    "\n",
    "df_corpus1 = create_corpus(corpus_to_search).pattern(r'[lemma=\"h[aeo].*\" & word=\"[aeo].*\"]').extra_fields_doc(fields[\"document\"]).search().kwic()\n",
    "df_corpus1 = create_corpus(corpus_to_search).pattern(r'[lemma=\"h[aeo].*\" & word=\"h[aeo].*\"]').extra_fields_doc(fields[\"document\"]).search().kwic()\n",
    "\n",
    "display_df( df_corpus1)\n",
    "display_df( df_corpus2)\n",
    "\n",
    "display_df( df_corpus1.groupby([\"Region\", \"Date\"]), labels=\"h-dropping\", mode='chart')\n",
    "display_df( df_corpus2.groupby([\"Region\", \"Date\"]), labels=\"normal\", mode='chart')"
   ]
  },
  {
   "cell_type": "markdown",
   "metadata": {},
   "source": [
    "## Case study 12: gather data from several corpora and generate a lexicon out of that"
   ]
  },
  {
   "cell_type": "code",
   "execution_count": null,
   "metadata": {
    "ExecuteTime": {
     "end_time": "2019-02-25T16:08:34.142107Z",
     "start_time": "2019-02-25T16:07:28.973Z"
    }
   },
   "outputs": [],
   "source": [
    "from chaininglib.ui.dfui import display_df\n",
    "from chaininglib.process.corpus import extract_lexicon\n",
    "from chaininglib.search.CorpusQuery import *\n",
    "from chaininglib.search.LexiconQuery import *\n",
    "\n",
    "dfs_all_corpora = []\n",
    "\n",
    "for one_corpus in get_available_corpora():\n",
    "    print('querying '+one_corpus+'...')\n",
    "    c = create_corpus(one_corpus).lemma(\"lopen\").detailed_context(True).search()\n",
    "    df_corpus = c.kwic() \n",
    "    \n",
    "    # store the results\n",
    "    dfs_all_corpora.append(df_corpus)\n",
    "\n",
    "# extract lexicon and show the result\n",
    "extracted_lexicon = extract_lexicon(dfs_all_corpora, posColumnName=\"universal_dependency\")\n",
    "display(extracted_lexicon)"
   ]
  },
  {
   "cell_type": "markdown",
   "metadata": {},
   "source": [
    "## Case study 13: search treebank with some pattern"
   ]
  },
  {
   "cell_type": "code",
   "execution_count": null,
   "metadata": {
    "ExecuteTime": {
     "end_time": "2019-02-25T16:08:34.146553Z",
     "start_time": "2019-02-25T16:07:30.181Z"
    }
   },
   "outputs": [],
   "source": [
    "from chaininglib.search.TreebankQuery import *\n",
    "\n",
    "\n",
    "print (\"search...\")\n",
    "\n",
    "tbq = create_treebank().pattern(\"xquery //node[@cat='pp' and node[@cat='ap' and node[@cat='np']]]\").search()\n",
    "#tbq = create_treebank().pattern(\"xquery //node[@cat='ap' and node[@cat='np']]\").search()\n",
    "\n",
    "print (\"get XML...\")\n",
    "\n",
    "xml = tbq.xml()\n",
    "#print(xml)\n",
    "\n",
    "print (\"get trees and their string representations...\")\n",
    "\n",
    "trees = tbq.trees()\n",
    "\n",
    "for tree in trees:\n",
    "    display(tree.toString(posTag=True))\n",
    "\n",
    "df = tbq.results()\n",
    "    \n",
    "display(df)"
   ]
  },
  {
   "cell_type": "code",
   "execution_count": null,
   "metadata": {},
   "outputs": [],
   "source": []
  },
  {
   "cell_type": "code",
   "execution_count": null,
   "metadata": {},
   "outputs": [],
   "source": []
  }
 ],
 "metadata": {
  "kernelspec": {
   "display_name": "cs_env",
   "language": "python",
   "name": "cs_env"
  },
  "language_info": {
   "codemirror_mode": {
    "name": "ipython",
    "version": 3
   },
   "file_extension": ".py",
   "mimetype": "text/x-python",
   "name": "python",
   "nbconvert_exporter": "python",
   "pygments_lexer": "ipython3",
   "version": "3.6.7"
  }
 },
 "nbformat": 4,
 "nbformat_minor": 2
}
