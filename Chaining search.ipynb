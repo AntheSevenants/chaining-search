{
 "cells": [
  {
   "cell_type": "markdown",
   "metadata": {},
   "source": [
    "# Chaining search\n"
   ]
  },
  {
   "cell_type": "markdown",
   "metadata": {},
   "source": [
    "## UI initialization"
   ]
  },
  {
   "cell_type": "code",
   "execution_count": 13,
   "metadata": {},
   "outputs": [
    {
     "data": {
      "application/vnd.jupyter.widget-view+json": {
       "model_id": "efa64f05ca6b40c3b7b6d8267a8680a7",
       "version_major": 2,
       "version_minor": 0
      },
      "text/plain": [
       "HBox(children=(HTML(value='<b>Query:</b>'), Text(value='')))"
      ]
     },
     "metadata": {},
     "output_type": "display_data"
    },
    {
     "data": {
      "application/vnd.jupyter.widget-view+json": {
       "model_id": "69719c30641c453a9df9995067652921",
       "version_major": 2,
       "version_minor": 0
      },
      "text/plain": [
       "HBox(children=(HTML(value='<b>Corpus:</b>'), Dropdown(description='Number:', index=1, options=('1', '2', '3'),…"
      ]
     },
     "metadata": {},
     "output_type": "display_data"
    }
   ],
   "source": [
    "import ipywidgets as widgets\n",
    "from IPython.display import display\n",
    "# UI elements for query\n",
    "queryLabel = widgets.HTML(value=\"<b>Query:</b>\")\n",
    "queryField = widgets.Text()\n",
    "queryHbox = widgets.HBox([queryLabel, queryField])\n",
    "\n",
    "# UI elements for corpus\n",
    "corpusLabel = widgets.HTML(value=\"<b>Corpus:</b>\")\n",
    "corpusField = widgets.Dropdown(\n",
    "    options=['1', '2', '3'],\n",
    "    value='2',\n",
    "    description='Number:',\n",
    "    disabled=False,\n",
    ")\n",
    "corpusHbox = widgets.HBox([corpusLabel, corpusField])\n",
    "\n",
    "\n",
    "display(queryHbox)\n",
    "display(corpusHbox)"
   ]
  },
  {
   "cell_type": "markdown",
   "metadata": {},
   "source": [
    "## Corpus search\n",
    " * Place the query you would like to search for in the QUERY field.\n",
    " * Place the corpus you would like to search in in the CORPUS field."
   ]
  },
  {
   "cell_type": "code",
   "execution_count": 4,
   "metadata": {},
   "outputs": [
    {
     "name": "stdout",
     "output_type": "stream",
     "text": [
      "Hallo hallo\n"
     ]
    }
   ],
   "source": [
    "# TODO: replace this with Jupyter widgets (GUI input elements)\n",
    "QUERY = r'[lemma=\"boek\"]'\n",
    "CORPUS = \"opensonar\" # One of: opensonar, zeebrieven, gysseling, chn, nederlab\n",
    "\n",
    "### DO NOT EDIT BELOW THIS LINE\n",
    "import requests\n",
    "import pandas\n",
    "import xml.etree.ElementTree as ET\n",
    "\n",
    "def parse_xml(text):\n",
    "    print(\"Hallo hallo\")\n",
    "\n",
    "# Do request to federated content search corpora, so we get same output format for every corpus\n",
    "url = \"http://portal.clarin.inl.nl/fcscorpora/clariah-fcs-endpoints/sru?operation=searchRetrieve&queryType=fcs&x-fcs-context=\" + CORPUS + \"&maximumRecords=20&query=\" + QUERY;\n",
    "response = requests.get(url)\n",
    "response_text = response.text\n",
    "parse_xml(response_text)"
   ]
  },
  {
   "cell_type": "markdown",
   "metadata": {},
   "source": [
    "## Lexicon search"
   ]
  },
  {
   "cell_type": "code",
   "execution_count": null,
   "metadata": {},
   "outputs": [],
   "source": []
  }
 ],
 "metadata": {
  "kernelspec": {
   "display_name": "cs_env",
   "language": "python",
   "name": "cs_env"
  },
  "language_info": {
   "codemirror_mode": {
    "name": "ipython",
    "version": 3
   },
   "file_extension": ".py",
   "mimetype": "text/x-python",
   "name": "python",
   "nbconvert_exporter": "python",
   "pygments_lexer": "ipython3",
   "version": "3.6.7"
  }
 },
 "nbformat": 4,
 "nbformat_minor": 2
}
