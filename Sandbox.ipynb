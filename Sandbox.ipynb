{
 "cells": [
  {
   "cell_type": "markdown",
   "metadata": {},
   "source": [
    "# *Chaining search*: Sandbox\n",
    "\n",
    "Use this notebook to combine linguistic resources yourself: corpora, lexica and treebanks. \n",
    " * Use methods from our library *chaininglib*, [described in the documentation](doc/_build/html/index.html)\n",
    " * To get an idea of the possibilities and to copy code, go to the [Examples notebook](Examples.ipynb).\n",
    " * If you encounter any bugs or errors, please let us know via our [GitHub issue tracker](https://github.com/INL/chaining-search/issues) or send an e-mail to servicedesk@ivdnt.org."
   ]
  },
  {
   "cell_type": "code",
   "execution_count": null,
   "metadata": {
    "ExecuteTime": {
     "end_time": "2019-03-25T10:54:22.275296Z",
     "start_time": "2019-03-25T10:22:29.979983Z"
    }
   },
   "outputs": [],
   "source": [
    "#import chaininglib\n",
    "from chaininglib.search.CorpusQuery import *\n",
    "from chaininglib.process.corpus import *\n",
    "from chaininglib.ui.dfui import *\n",
    "\n",
    "# do some corpus search\n",
    "print('This can take a few seconds... please wait!')\n",
    "for one_corpus in get_available_corpora():\n",
    "    print(one_corpus)\n",
    "    #c = create_corpus(one_corpus).lemma(\"woordenboek\").detailed_context(True).search()\n",
    "    #df_corpus = c.kwic()\n",
    "\n",
    "corpus_to_search=\"chn-extern\"\n",
    "#corpus_to_search=\"zeebrieven\"\n",
    "df_corpus = create_corpus(corpus_to_search).detailed_context(True).pos(\"NOU.*\").search().kwic()\n",
    "print('done here')\n",
    "# compute and display a table of the frequencies of the lemmata\n",
    "\n",
    "freq_df = get_frequency_list(df_corpus)\n",
    "display_df(freq_df)"
   ]
  },
  {
   "cell_type": "code",
   "execution_count": null,
   "metadata": {},
   "outputs": [],
   "source": []
  }
 ],
 "metadata": {
  "kernelspec": {
   "display_name": "env",
   "language": "python",
   "name": "env"
  },
  "language_info": {
   "codemirror_mode": {
    "name": "ipython",
    "version": 3
   },
   "file_extension": ".py",
   "mimetype": "text/x-python",
   "name": "python",
   "nbconvert_exporter": "python",
   "pygments_lexer": "ipython3",
   "version": "3.6.7"
  }
 },
 "nbformat": 4,
 "nbformat_minor": 2
}
