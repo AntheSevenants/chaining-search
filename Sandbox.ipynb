{
 "cells": [
  {
   "cell_type": "markdown",
   "metadata": {},
   "source": [
    "# *Chaining search*: Sandbox\n",
    "\n",
    "Use this notebook to combine linguistic resources yourself: corpora, lexica and treebanks. \n",
    " * For a tutorial, refer to our [Quickstart](Quickstart.pdf).\n",
    " * Use methods from our library *chaininglib*, described in the documentation ([local](doc/_build/html/index.html) or [online](https://chaining-search.readthedocs.io/en/latest/)).\n",
    " * To get an idea of the possibilities and to copy code, go to the [Examples notebook](Examples.ipynb).\n",
    " * If you encounter any bugs or errors, please let us know via our [GitHub issue tracker](https://github.com/INL/chaining-search/issues) or send an e-mail to servicedesk@ivdnt.org."
   ]
  },
  {
   "cell_type": "code",
   "execution_count": null,
   "metadata": {
    "ExecuteTime": {
     "end_time": "2019-04-08T11:56:27.413538Z",
     "start_time": "2019-04-08T11:56:27.409911Z"
    }
   },
   "outputs": [],
   "source": [
    "import chaininglib\n"
   ]
  },
  {
   "cell_type": "code",
   "execution_count": null,
   "metadata": {},
   "outputs": [],
   "source": []
  }
 ],
 "metadata": {
  "kernelspec": {
   "display_name": "env",
   "language": "python",
   "name": "env"
  },
  "language_info": {
   "codemirror_mode": {
    "name": "ipython",
    "version": 3
   },
   "file_extension": ".py",
   "mimetype": "text/x-python",
   "name": "python",
   "nbconvert_exporter": "python",
   "pygments_lexer": "ipython3",
   "version": "3.6.7"
  }
 },
 "nbformat": 4,
 "nbformat_minor": 2
}
